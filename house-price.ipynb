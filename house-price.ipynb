{
 "cells": [
  {
   "cell_type": "markdown",
   "id": "GEqQaHzsZ_bA",
   "metadata": {
    "id": "GEqQaHzsZ_bA"
   },
   "source": [
    "# Предсказание стоимости жилья\n",
    "\n",
    "***Задача:*** В этом проекте нужно обучить модель линейной регрессии на данных о жилье в Калифорнии в 1990 году. На основе данных нужно предсказать медианную стоимость дома в жилом массиве.  Для оценки качества модели необходимо использовать метрики RMSE, MAE и R2."
   ]
  },
  {
   "cell_type": "markdown",
   "id": "f23443ce",
   "metadata": {
    "toc": true
   },
   "source": [
    "<h1>Содержание<span class=\"tocSkip\"></span></h1>\n",
    "<div class=\"toc\"><ul class=\"toc-item\"><li><span><a href=\"#Обзор-данных\" data-toc-modified-id=\"Обзор-данных-1\"><span class=\"toc-item-num\">1&nbsp;&nbsp;</span>Обзор данных</a></span><ul class=\"toc-item\"><li><span><a href=\"#Вывод\" data-toc-modified-id=\"Вывод-1.1\"><span class=\"toc-item-num\">1.1&nbsp;&nbsp;</span>Вывод</a></span></li></ul></li><li><span><a href=\"#Предобработка-данных\" data-toc-modified-id=\"Предобработка-данных-2\"><span class=\"toc-item-num\">2&nbsp;&nbsp;</span>Предобработка данных</a></span><ul class=\"toc-item\"><li><span><a href=\"#Изучение-пропусков-и-дубликатов\" data-toc-modified-id=\"Изучение-пропусков-и-дубликатов-2.1\"><span class=\"toc-item-num\">2.1&nbsp;&nbsp;</span>Изучение пропусков и дубликатов</a></span></li><li><span><a href=\"#Исследование-аномалий\" data-toc-modified-id=\"Исследование-аномалий-2.2\"><span class=\"toc-item-num\">2.2&nbsp;&nbsp;</span>Исследование аномалий</a></span><ul class=\"toc-item\"><li><span><a href=\"#total_rooms\" data-toc-modified-id=\"total_rooms-2.2.1\"><span class=\"toc-item-num\">2.2.1&nbsp;&nbsp;</span>total_rooms</a></span></li><li><span><a href=\"#population\" data-toc-modified-id=\"population-2.2.2\"><span class=\"toc-item-num\">2.2.2&nbsp;&nbsp;</span>population</a></span></li><li><span><a href=\"#households\" data-toc-modified-id=\"households-2.2.3\"><span class=\"toc-item-num\">2.2.3&nbsp;&nbsp;</span>households</a></span></li><li><span><a href=\"#median_income\" data-toc-modified-id=\"median_income-2.2.4\"><span class=\"toc-item-num\">2.2.4&nbsp;&nbsp;</span>median_income</a></span></li></ul></li><li><span><a href=\"#Вывод\" data-toc-modified-id=\"Вывод-2.3\"><span class=\"toc-item-num\">2.3&nbsp;&nbsp;</span>Вывод</a></span></li></ul></li><li><span><a href=\"#Подготовка-признаков-к-обучению\" data-toc-modified-id=\"Подготовка-признаков-к-обучению-3\"><span class=\"toc-item-num\">3&nbsp;&nbsp;</span>Подготовка признаков к обучению</a></span><ul class=\"toc-item\"><li><span><a href=\"#Кодирование-категориальных-признаков\" data-toc-modified-id=\"Кодирование-категориальных-признаков-3.1\"><span class=\"toc-item-num\">3.1&nbsp;&nbsp;</span>Кодирование категориальных признаков</a></span></li><li><span><a href=\"#Трансформация-числовых-признаков\" data-toc-modified-id=\"Трансформация-числовых-признаков-3.2\"><span class=\"toc-item-num\">3.2&nbsp;&nbsp;</span>Трансформация числовых признаков</a></span></li></ul></li><li><span><a href=\"#Обучение-моделей\" data-toc-modified-id=\"Обучение-моделей-4\"><span class=\"toc-item-num\">4&nbsp;&nbsp;</span>Обучение моделей</a></span><ul class=\"toc-item\"><li><span><a href=\"#Обучение-на-всех-данных\" data-toc-modified-id=\"Обучение-на-всех-данных-4.1\"><span class=\"toc-item-num\">4.1&nbsp;&nbsp;</span>Обучение на всех данных</a></span></li><li><span><a href=\"#Обучение-только-на-числовых-данных\" data-toc-modified-id=\"Обучение-только-на-числовых-данных-4.2\"><span class=\"toc-item-num\">4.2&nbsp;&nbsp;</span>Обучение только на числовых данных</a></span></li></ul></li><li><span><a href=\"#Анализ-результатов\" data-toc-modified-id=\"Анализ-результатов-5\"><span class=\"toc-item-num\">5&nbsp;&nbsp;</span>Анализ результатов</a></span></li></ul></div>"
   ]
  },
  {
   "cell_type": "markdown",
   "id": "534504fc",
   "metadata": {},
   "source": [
    "## Обзор данных"
   ]
  },
  {
   "cell_type": "code",
   "execution_count": 69,
   "id": "e8e9af33",
   "metadata": {},
   "outputs": [],
   "source": [
    "import pandas as pd \n",
    "import numpy as np\n",
    "import seaborn as sns\n",
    "import matplotlib.pyplot as plt\n",
    "import warnings\n",
    "\n",
    "import pyspark\n",
    "from pyspark.sql import SparkSession\n",
    "from pyspark.sql.types import *\n",
    "import pyspark.sql.functions as F\n",
    "\n",
    "from pyspark.ml.feature import StringIndexer, VectorAssembler, StandardScaler\n",
    "from pyspark.ml.regression import LinearRegression\n",
    "from pyspark.ml.tuning import ParamGridBuilder, CrossValidator\n",
    "from pyspark.ml.evaluation import RegressionEvaluator\n",
    "from pyspark.ml import Pipeline\n",
    "\n",
    "pyspark_version = pyspark.__version__\n",
    "if int(pyspark_version[:1]) == 3:\n",
    "    from pyspark.ml.feature import OneHotEncoder    \n",
    "elif int(pyspark_version[:1]) == 2:\n",
    "    from pyspark.ml.feature import OneHotEncodeEstimator\n",
    "    \n",
    "RANDOM_SEED = 2022\n",
    "\n",
    "warnings.filterwarnings('ignore')"
   ]
  },
  {
   "cell_type": "code",
   "execution_count": 70,
   "id": "86f090ff",
   "metadata": {},
   "outputs": [],
   "source": [
    "# инициализация Spark-сессии\n",
    "spark = SparkSession.builder \\\n",
    "                    .master('local') \\\n",
    "                    .appName('EDA California Housing') \\\n",
    "                    .getOrCreate() \n",
    "\n",
    "spark.sparkContext.setLogLevel(\"ERROR\")"
   ]
  },
  {
   "cell_type": "code",
   "execution_count": 71,
   "id": "bb3f067b",
   "metadata": {},
   "outputs": [],
   "source": [
    "# считывание файла\n",
    "df_housing = spark.read.load('/datasets/housing.csv', format='csv', sep=',', inferSchema=True, header=\"true\")"
   ]
  },
  {
   "cell_type": "code",
   "execution_count": 72,
   "id": "f6360d76",
   "metadata": {},
   "outputs": [
    {
     "name": "stdout",
     "output_type": "stream",
     "text": [
      "root\n",
      " |-- longitude: double (nullable = true)\n",
      " |-- latitude: double (nullable = true)\n",
      " |-- housing_median_age: double (nullable = true)\n",
      " |-- total_rooms: double (nullable = true)\n",
      " |-- total_bedrooms: double (nullable = true)\n",
      " |-- population: double (nullable = true)\n",
      " |-- households: double (nullable = true)\n",
      " |-- median_income: double (nullable = true)\n",
      " |-- median_house_value: double (nullable = true)\n",
      " |-- ocean_proximity: string (nullable = true)\n",
      "\n"
     ]
    }
   ],
   "source": [
    "# схема датасета\n",
    "df_housing.printSchema()"
   ]
  },
  {
   "cell_type": "code",
   "execution_count": 73,
   "id": "43e28044",
   "metadata": {
    "scrolled": true
   },
   "outputs": [
    {
     "name": "stdout",
     "output_type": "stream",
     "text": [
      "+---------+--------+------------------+-----------+--------------+----------+----------+-------------+------------------+---------------+\n",
      "|longitude|latitude|housing_median_age|total_rooms|total_bedrooms|population|households|median_income|median_house_value|ocean_proximity|\n",
      "+---------+--------+------------------+-----------+--------------+----------+----------+-------------+------------------+---------------+\n",
      "|  -122.23|   37.88|              41.0|      880.0|         129.0|     322.0|     126.0|       8.3252|          452600.0|       NEAR BAY|\n",
      "|  -122.22|   37.86|              21.0|     7099.0|        1106.0|    2401.0|    1138.0|       8.3014|          358500.0|       NEAR BAY|\n",
      "|  -122.24|   37.85|              52.0|     1467.0|         190.0|     496.0|     177.0|       7.2574|          352100.0|       NEAR BAY|\n",
      "|  -122.25|   37.85|              52.0|     1274.0|         235.0|     558.0|     219.0|       5.6431|          341300.0|       NEAR BAY|\n",
      "|  -122.25|   37.85|              52.0|     1627.0|         280.0|     565.0|     259.0|       3.8462|          342200.0|       NEAR BAY|\n",
      "|  -122.25|   37.85|              52.0|      919.0|         213.0|     413.0|     193.0|       4.0368|          269700.0|       NEAR BAY|\n",
      "|  -122.25|   37.84|              52.0|     2535.0|         489.0|    1094.0|     514.0|       3.6591|          299200.0|       NEAR BAY|\n",
      "|  -122.25|   37.84|              52.0|     3104.0|         687.0|    1157.0|     647.0|         3.12|          241400.0|       NEAR BAY|\n",
      "|  -122.26|   37.84|              42.0|     2555.0|         665.0|    1206.0|     595.0|       2.0804|          226700.0|       NEAR BAY|\n",
      "|  -122.25|   37.84|              52.0|     3549.0|         707.0|    1551.0|     714.0|       3.6912|          261100.0|       NEAR BAY|\n",
      "|  -122.26|   37.85|              52.0|     2202.0|         434.0|     910.0|     402.0|       3.2031|          281500.0|       NEAR BAY|\n",
      "|  -122.26|   37.85|              52.0|     3503.0|         752.0|    1504.0|     734.0|       3.2705|          241800.0|       NEAR BAY|\n",
      "|  -122.26|   37.85|              52.0|     2491.0|         474.0|    1098.0|     468.0|        3.075|          213500.0|       NEAR BAY|\n",
      "|  -122.26|   37.84|              52.0|      696.0|         191.0|     345.0|     174.0|       2.6736|          191300.0|       NEAR BAY|\n",
      "|  -122.26|   37.85|              52.0|     2643.0|         626.0|    1212.0|     620.0|       1.9167|          159200.0|       NEAR BAY|\n",
      "|  -122.26|   37.85|              50.0|     1120.0|         283.0|     697.0|     264.0|        2.125|          140000.0|       NEAR BAY|\n",
      "|  -122.27|   37.85|              52.0|     1966.0|         347.0|     793.0|     331.0|        2.775|          152500.0|       NEAR BAY|\n",
      "|  -122.27|   37.85|              52.0|     1228.0|         293.0|     648.0|     303.0|       2.1202|          155500.0|       NEAR BAY|\n",
      "|  -122.26|   37.84|              50.0|     2239.0|         455.0|     990.0|     419.0|       1.9911|          158700.0|       NEAR BAY|\n",
      "|  -122.27|   37.84|              52.0|     1503.0|         298.0|     690.0|     275.0|       2.6033|          162900.0|       NEAR BAY|\n",
      "+---------+--------+------------------+-----------+--------------+----------+----------+-------------+------------------+---------------+\n",
      "only showing top 20 rows\n",
      "\n"
     ]
    }
   ],
   "source": [
    "# первые строки\n",
    "df_housing.show()"
   ]
  },
  {
   "cell_type": "code",
   "execution_count": 74,
   "id": "2060ce76",
   "metadata": {},
   "outputs": [
    {
     "name": "stderr",
     "output_type": "stream",
     "text": [
      "                                                                                \r"
     ]
    },
    {
     "data": {
      "text/html": [
       "<div>\n",
       "<style scoped>\n",
       "    .dataframe tbody tr th:only-of-type {\n",
       "        vertical-align: middle;\n",
       "    }\n",
       "\n",
       "    .dataframe tbody tr th {\n",
       "        vertical-align: top;\n",
       "    }\n",
       "\n",
       "    .dataframe thead th {\n",
       "        text-align: right;\n",
       "    }\n",
       "</style>\n",
       "<table border=\"1\" class=\"dataframe\">\n",
       "  <thead>\n",
       "    <tr style=\"text-align: right;\">\n",
       "      <th></th>\n",
       "      <th>summary</th>\n",
       "      <th>longitude</th>\n",
       "      <th>latitude</th>\n",
       "      <th>housing_median_age</th>\n",
       "      <th>total_rooms</th>\n",
       "      <th>total_bedrooms</th>\n",
       "      <th>population</th>\n",
       "      <th>households</th>\n",
       "      <th>median_income</th>\n",
       "      <th>median_house_value</th>\n",
       "      <th>ocean_proximity</th>\n",
       "    </tr>\n",
       "  </thead>\n",
       "  <tbody>\n",
       "    <tr>\n",
       "      <th>0</th>\n",
       "      <td>count</td>\n",
       "      <td>20640</td>\n",
       "      <td>20640</td>\n",
       "      <td>20640</td>\n",
       "      <td>20640</td>\n",
       "      <td>20433</td>\n",
       "      <td>20640</td>\n",
       "      <td>20640</td>\n",
       "      <td>20640</td>\n",
       "      <td>20640</td>\n",
       "      <td>20640</td>\n",
       "    </tr>\n",
       "    <tr>\n",
       "      <th>1</th>\n",
       "      <td>mean</td>\n",
       "      <td>-119.56970445736148</td>\n",
       "      <td>35.6318614341087</td>\n",
       "      <td>28.639486434108527</td>\n",
       "      <td>2635.7630813953488</td>\n",
       "      <td>537.8705525375618</td>\n",
       "      <td>1425.4767441860465</td>\n",
       "      <td>499.5396802325581</td>\n",
       "      <td>3.8706710029070246</td>\n",
       "      <td>206855.81690891474</td>\n",
       "      <td>None</td>\n",
       "    </tr>\n",
       "    <tr>\n",
       "      <th>2</th>\n",
       "      <td>stddev</td>\n",
       "      <td>2.003531723502584</td>\n",
       "      <td>2.135952397457101</td>\n",
       "      <td>12.58555761211163</td>\n",
       "      <td>2181.6152515827944</td>\n",
       "      <td>421.38507007403115</td>\n",
       "      <td>1132.46212176534</td>\n",
       "      <td>382.3297528316098</td>\n",
       "      <td>1.899821717945263</td>\n",
       "      <td>115395.61587441359</td>\n",
       "      <td>None</td>\n",
       "    </tr>\n",
       "    <tr>\n",
       "      <th>3</th>\n",
       "      <td>min</td>\n",
       "      <td>-124.35</td>\n",
       "      <td>32.54</td>\n",
       "      <td>1.0</td>\n",
       "      <td>2.0</td>\n",
       "      <td>1.0</td>\n",
       "      <td>3.0</td>\n",
       "      <td>1.0</td>\n",
       "      <td>0.4999</td>\n",
       "      <td>14999.0</td>\n",
       "      <td>&lt;1H OCEAN</td>\n",
       "    </tr>\n",
       "    <tr>\n",
       "      <th>4</th>\n",
       "      <td>max</td>\n",
       "      <td>-114.31</td>\n",
       "      <td>41.95</td>\n",
       "      <td>52.0</td>\n",
       "      <td>39320.0</td>\n",
       "      <td>6445.0</td>\n",
       "      <td>35682.0</td>\n",
       "      <td>6082.0</td>\n",
       "      <td>15.0001</td>\n",
       "      <td>500001.0</td>\n",
       "      <td>NEAR OCEAN</td>\n",
       "    </tr>\n",
       "  </tbody>\n",
       "</table>\n",
       "</div>"
      ],
      "text/plain": [
       "  summary            longitude           latitude  housing_median_age  \\\n",
       "0   count                20640              20640               20640   \n",
       "1    mean  -119.56970445736148   35.6318614341087  28.639486434108527   \n",
       "2  stddev    2.003531723502584  2.135952397457101   12.58555761211163   \n",
       "3     min              -124.35              32.54                 1.0   \n",
       "4     max              -114.31              41.95                52.0   \n",
       "\n",
       "          total_rooms      total_bedrooms          population  \\\n",
       "0               20640               20433               20640   \n",
       "1  2635.7630813953488   537.8705525375618  1425.4767441860465   \n",
       "2  2181.6152515827944  421.38507007403115    1132.46212176534   \n",
       "3                 2.0                 1.0                 3.0   \n",
       "4             39320.0              6445.0             35682.0   \n",
       "\n",
       "          households       median_income  median_house_value ocean_proximity  \n",
       "0              20640               20640               20640           20640  \n",
       "1  499.5396802325581  3.8706710029070246  206855.81690891474            None  \n",
       "2  382.3297528316098   1.899821717945263  115395.61587441359            None  \n",
       "3                1.0              0.4999             14999.0       <1H OCEAN  \n",
       "4             6082.0             15.0001            500001.0      NEAR OCEAN  "
      ]
     },
     "execution_count": 74,
     "metadata": {},
     "output_type": "execute_result"
    }
   ],
   "source": [
    "# описательная статистика\n",
    "df_housing.describe().toPandas()"
   ]
  },
  {
   "cell_type": "markdown",
   "id": "43267861",
   "metadata": {},
   "source": [
    "**Документация к данным**:\n",
    "- `longitude` — широта;\n",
    "- `latitude` — долгота;\n",
    "- `housing_median_age` — медианный возраст жителей жилого массива;\n",
    "- `total_rooms` — общее количество комнат в домах жилого массива;\n",
    "- `total_bedrooms` — общее количество спален в домах жилого массива;\n",
    "- `population` — количество человек, которые проживают в жилом массиве;\n",
    "- `households` — количество домовладений в жилом массиве;\n",
    "- `median_income` — медианный доход жителей жилого массива;\n",
    "- `median_house_value` — медианная стоимость дома в жилом массиве;\n",
    "- `ocean_proximity` — близость к океану."
   ]
  },
  {
   "cell_type": "markdown",
   "id": "38e2c481",
   "metadata": {},
   "source": [
    "### Вывод"
   ]
  },
  {
   "cell_type": "markdown",
   "id": "5e1b3d81",
   "metadata": {},
   "source": [
    "В датасете 20640 записей о жилых массивах, 10 столбцов.<br>\n",
    "Один категориальный признак - `ocean_proximity`, означающий удалённость ЖК от океана, остальные признаки числовые.<br>\n",
    "Есть пропуски в колонке `total_bedrooms`."
   ]
  },
  {
   "cell_type": "markdown",
   "id": "53871372",
   "metadata": {
    "id": "53871372"
   },
   "source": [
    "## Предобработка данных"
   ]
  },
  {
   "cell_type": "markdown",
   "id": "02d7ccf1",
   "metadata": {},
   "source": [
    "### Изучение пропусков и дубликатов"
   ]
  },
  {
   "cell_type": "code",
   "execution_count": 75,
   "id": "df92e3ec",
   "metadata": {
    "id": "df92e3ec"
   },
   "outputs": [
    {
     "name": "stdout",
     "output_type": "stream",
     "text": [
      "longitude 0\n",
      "latitude 0\n",
      "housing_median_age 0\n",
      "total_rooms 0\n",
      "total_bedrooms 0\n",
      "population 0\n",
      "households 0\n",
      "median_income 0\n",
      "median_house_value 0\n",
      "ocean_proximity 0\n"
     ]
    }
   ],
   "source": [
    "# количество пропусков типа nan\n",
    "columns = df_housing.columns\n",
    "\n",
    "for column in columns:\n",
    "    check_col = F.isnan(F.col(column))\n",
    "    print(column, df_housing.filter(check_col).count())"
   ]
  },
  {
   "cell_type": "code",
   "execution_count": 76,
   "id": "1fab3476",
   "metadata": {},
   "outputs": [
    {
     "name": "stdout",
     "output_type": "stream",
     "text": [
      "longitude 0\n",
      "latitude 0\n",
      "housing_median_age 0\n",
      "total_rooms 0\n",
      "total_bedrooms 207\n",
      "population 0\n",
      "households 0\n",
      "median_income 0\n",
      "median_house_value 0\n",
      "ocean_proximity 0\n"
     ]
    }
   ],
   "source": [
    "# количество пропусков типа null\n",
    "for column in columns:\n",
    "    check_col = F.isnull(F.col(column))\n",
    "    print(column, df_housing.filter(check_col).count())"
   ]
  },
  {
   "cell_type": "markdown",
   "id": "d5920bd4",
   "metadata": {},
   "source": [
    "Обнаружены пропуски в колонке `total_bedrooms`."
   ]
  },
  {
   "cell_type": "code",
   "execution_count": 77,
   "id": "efd02652",
   "metadata": {},
   "outputs": [
    {
     "name": "stderr",
     "output_type": "stream",
     "text": [
      "                                                                                \r"
     ]
    },
    {
     "data": {
      "text/plain": [
       "0"
      ]
     },
     "execution_count": 77,
     "metadata": {},
     "output_type": "execute_result"
    }
   ],
   "source": [
    "# проверяем наличие дубликатов\n",
    "df_housing.count() - df_housing.dropDuplicates(df_housing.columns).count()"
   ]
  },
  {
   "cell_type": "markdown",
   "id": "0361a51a",
   "metadata": {},
   "source": [
    "Дубликатов не оказалось."
   ]
  },
  {
   "cell_type": "code",
   "execution_count": 78,
   "id": "09bc3301",
   "metadata": {},
   "outputs": [
    {
     "data": {
      "text/plain": [
       "<AxesSubplot:>"
      ]
     },
     "execution_count": 78,
     "metadata": {},
     "output_type": "execute_result"
    },
    {
     "data": {
      "image/png": "[encoded data removed]",
      "text/plain": [
       "<Figure size 432x288 with 2 Axes>"
      ]
     },
     "metadata": {
      "needs_background": "light"
     },
     "output_type": "display_data"
    }
   ],
   "source": [
    "# посмотрим карту корреляции признаков\n",
    "sns.heatmap(df_housing.toPandas().drop(columns=['ocean_proximity']).corr())"
   ]
  },
  {
   "cell_type": "markdown",
   "id": "b171a95d",
   "metadata": {},
   "source": [
    "По тепловой карте видно, что признаки `total_rooms` и `total_bedrooms` сильно коррелируют. Поэтому можем удалить признак `total_bedrooms`."
   ]
  },
  {
   "cell_type": "code",
   "execution_count": 79,
   "id": "9b4474ca",
   "metadata": {},
   "outputs": [],
   "source": [
    "# удаляем признак количества спальных комнат\n",
    "df_housing = df_housing.drop('total_bedrooms')"
   ]
  },
  {
   "cell_type": "markdown",
   "id": "6b1dd5e4",
   "metadata": {},
   "source": [
    "### Исследование аномалий"
   ]
  },
  {
   "cell_type": "code",
   "execution_count": 80,
   "id": "f3afe0a3",
   "metadata": {},
   "outputs": [
    {
     "data": {
      "image/png": "[encoded data removed]",
      "text/plain": [
       "<Figure size 432x288 with 1 Axes>"
      ]
     },
     "metadata": {
      "needs_background": "light"
     },
     "output_type": "display_data"
    },
    {
     "data": {
      "image/png": "[encoded data removed]",
      "text/plain": [
       "<Figure size 432x288 with 1 Axes>"
      ]
     },
     "metadata": {
      "needs_background": "light"
     },
     "output_type": "display_data"
    },
    {
     "data": {
      "image/png": "[encoded data removed]",
      "text/plain": [
       "<Figure size 432x288 with 1 Axes>"
      ]
     },
     "metadata": {
      "needs_background": "light"
     },
     "output_type": "display_data"
    },
    {
     "data": {
      "image/png": "[encoded data removed]",
      "text/plain": [
       "<Figure size 432x288 with 1 Axes>"
      ]
     },
     "metadata": {
      "needs_background": "light"
     },
     "output_type": "display_data"
    },
    {
     "data": {
      "image/png": "[encoded data removed]",
      "text/plain": [
       "<Figure size 432x288 with 1 Axes>"
      ]
     },
     "metadata": {
      "needs_background": "light"
     },
     "output_type": "display_data"
    },
    {
     "data": {
      "image/png": "[encoded data removed]",
      "text/plain": [
       "<Figure size 432x288 with 1 Axes>"
      ]
     },
     "metadata": {
      "needs_background": "light"
     },
     "output_type": "display_data"
    },
    {
     "data": {
      "image/png": "[encoded data removed]",
      "text/plain": [
       "<Figure size 432x288 with 1 Axes>"
      ]
     },
     "metadata": {
      "needs_background": "light"
     },
     "output_type": "display_data"
    },
    {
     "data": {
      "image/png": "[encoded data removed]",
      "text/plain": [
       "<Figure size 432x288 with 1 Axes>"
      ]
     },
     "metadata": {
      "needs_background": "light"
     },
     "output_type": "display_data"
    }
   ],
   "source": [
    "# строим ящики с усами для каждой числовой колонки\n",
    "for column in df_housing.drop('ocean_proximity').columns:\n",
    "    sns.boxplot(x=df_housing.toPandas()[column])\n",
    "    plt.show()"
   ]
  },
  {
   "cell_type": "markdown",
   "id": "6accfcc4",
   "metadata": {},
   "source": [
    "Как видно по графикам, в колонках `total_rooms`, `population`, `households`, `median_income` есть выбросы. Изучим их подробнее."
   ]
  },
  {
   "cell_type": "markdown",
   "id": "e400bd08",
   "metadata": {},
   "source": [
    "Чтобы посмотреть потом, какой процент от исходного количества мы удалили, заведём константную переменную с количеством записей в исходном датасете."
   ]
  },
  {
   "cell_type": "code",
   "execution_count": 81,
   "id": "81508d10",
   "metadata": {},
   "outputs": [],
   "source": [
    "# количество записей в исходном датасете\n",
    "COUNT = 20640"
   ]
  },
  {
   "cell_type": "markdown",
   "id": "90607985",
   "metadata": {},
   "source": [
    "#### total_rooms"
   ]
  },
  {
   "cell_type": "code",
   "execution_count": 82,
   "id": "ba68e15b",
   "metadata": {},
   "outputs": [
    {
     "data": {
      "text/html": [
       "<div>\n",
       "<style scoped>\n",
       "    .dataframe tbody tr th:only-of-type {\n",
       "        vertical-align: middle;\n",
       "    }\n",
       "\n",
       "    .dataframe tbody tr th {\n",
       "        vertical-align: top;\n",
       "    }\n",
       "\n",
       "    .dataframe thead th {\n",
       "        text-align: right;\n",
       "    }\n",
       "</style>\n",
       "<table border=\"1\" class=\"dataframe\">\n",
       "  <thead>\n",
       "    <tr style=\"text-align: right;\">\n",
       "      <th></th>\n",
       "      <th>summary</th>\n",
       "      <th>total_rooms</th>\n",
       "    </tr>\n",
       "  </thead>\n",
       "  <tbody>\n",
       "    <tr>\n",
       "      <th>0</th>\n",
       "      <td>count</td>\n",
       "      <td>20640</td>\n",
       "    </tr>\n",
       "    <tr>\n",
       "      <th>1</th>\n",
       "      <td>mean</td>\n",
       "      <td>2635.7630813953488</td>\n",
       "    </tr>\n",
       "    <tr>\n",
       "      <th>2</th>\n",
       "      <td>stddev</td>\n",
       "      <td>2181.6152515827944</td>\n",
       "    </tr>\n",
       "    <tr>\n",
       "      <th>3</th>\n",
       "      <td>min</td>\n",
       "      <td>2.0</td>\n",
       "    </tr>\n",
       "    <tr>\n",
       "      <th>4</th>\n",
       "      <td>max</td>\n",
       "      <td>39320.0</td>\n",
       "    </tr>\n",
       "  </tbody>\n",
       "</table>\n",
       "</div>"
      ],
      "text/plain": [
       "  summary         total_rooms\n",
       "0   count               20640\n",
       "1    mean  2635.7630813953488\n",
       "2  stddev  2181.6152515827944\n",
       "3     min                 2.0\n",
       "4     max             39320.0"
      ]
     },
     "execution_count": 82,
     "metadata": {},
     "output_type": "execute_result"
    }
   ],
   "source": [
    "# статистика по колонке\n",
    "df_housing.select('total_rooms').describe().toPandas()"
   ]
  },
  {
   "cell_type": "code",
   "execution_count": 83,
   "id": "d266f0ef",
   "metadata": {},
   "outputs": [
    {
     "data": {
      "text/plain": [
       "<AxesSubplot:xlabel='total_rooms', ylabel='Count'>"
      ]
     },
     "execution_count": 83,
     "metadata": {},
     "output_type": "execute_result"
    },
    {
     "data": {
      "image/png": "[encoded data removed]",
      "text/plain": [
       "<Figure size 432x288 with 1 Axes>"
      ]
     },
     "metadata": {
      "needs_background": "light"
     },
     "output_type": "display_data"
    }
   ],
   "source": [
    "# посмотрим на распределение количества комнат в целом\n",
    "sns.histplot(data=df_housing.sample(0.5).toPandas(), x='total_rooms')"
   ]
  },
  {
   "cell_type": "code",
   "execution_count": 84,
   "id": "226c35bf",
   "metadata": {},
   "outputs": [
    {
     "data": {
      "text/plain": [
       "<AxesSubplot:xlabel='total_rooms', ylabel='Count'>"
      ]
     },
     "execution_count": 84,
     "metadata": {},
     "output_type": "execute_result"
    },
    {
     "data": {
      "image/png": "[encoded data removed]",
      "text/plain": [
       "<Figure size 432x288 with 1 Axes>"
      ]
     },
     "metadata": {
      "needs_background": "light"
     },
     "output_type": "display_data"
    }
   ],
   "source": [
    "# посмотрим на нижнюю границу распределения\n",
    "sns.histplot(data=df_housing.sample(0.5).toPandas().query('total_rooms <= total_rooms.quantile(.75)'), x='total_rooms')"
   ]
  },
  {
   "cell_type": "code",
   "execution_count": 85,
   "id": "6d74e4ff",
   "metadata": {},
   "outputs": [
    {
     "data": {
      "text/plain": [
       "<AxesSubplot:xlabel='total_rooms', ylabel='Count'>"
      ]
     },
     "execution_count": 85,
     "metadata": {},
     "output_type": "execute_result"
    },
    {
     "data": {
      "image/png": "[encoded data removed]",
      "text/plain": [
       "<Figure size 432x288 with 1 Axes>"
      ]
     },
     "metadata": {
      "needs_background": "light"
     },
     "output_type": "display_data"
    }
   ],
   "source": [
    "# посмотрим на верхнюю границу распределения\n",
    "sns.histplot(data=df_housing.sample(0.5).toPandas().query('total_rooms >= total_rooms.quantile(.25)'), x='total_rooms')"
   ]
  },
  {
   "cell_type": "markdown",
   "id": "df294c63",
   "metadata": {},
   "source": [
    "Полученные графики и статистики сообщают о том, что в нижней границе нет выбросов, данные сильно скошены именно в сторону верхней границы. Такое большое количество выбросов может помешать модели выявить тенденцию, поэтому проведём границу на отметке .99 квантиля, а остальные выбросы удалим."
   ]
  },
  {
   "cell_type": "code",
   "execution_count": 86,
   "id": "b9b1f663",
   "metadata": {
    "scrolled": true
   },
   "outputs": [
    {
     "data": {
      "text/plain": [
       "11232.0"
      ]
     },
     "execution_count": 86,
     "metadata": {},
     "output_type": "execute_result"
    }
   ],
   "source": [
    "# найдём значение .99 квантиля\n",
    "TOTAL_ROOMS_99 = df_housing.approxQuantile(\"total_rooms\", [0.99], 0)[0]\n",
    "TOTAL_ROOMS_99"
   ]
  },
  {
   "cell_type": "code",
   "execution_count": 87,
   "id": "004d0c28",
   "metadata": {},
   "outputs": [
    {
     "data": {
      "text/plain": [
       "0.9980620155038761"
      ]
     },
     "execution_count": 87,
     "metadata": {},
     "output_type": "execute_result"
    }
   ],
   "source": [
    "# посчитаем процент выбросов, которые собираемся удалить\n",
    "TOTAL_ROOMS_DELETED = df_housing.filter(df_housing.total_rooms > TOTAL_ROOMS_99).count() / COUNT * 100\n",
    "TOTAL_ROOMS_DELETED"
   ]
  },
  {
   "cell_type": "code",
   "execution_count": 88,
   "id": "c646abe0",
   "metadata": {},
   "outputs": [],
   "source": [
    "# удаляем выбросы\n",
    "df_housing = df_housing.filter(df_housing.total_rooms <= TOTAL_ROOMS_99)"
   ]
  },
  {
   "cell_type": "code",
   "execution_count": 89,
   "id": "0edf6925",
   "metadata": {},
   "outputs": [
    {
     "data": {
      "text/plain": [
       "<AxesSubplot:xlabel='total_rooms', ylabel='Count'>"
      ]
     },
     "execution_count": 89,
     "metadata": {},
     "output_type": "execute_result"
    },
    {
     "data": {
      "image/png": "[encoded data removed]",
      "text/plain": [
       "<Figure size 432x288 with 1 Axes>"
      ]
     },
     "metadata": {
      "needs_background": "light"
     },
     "output_type": "display_data"
    }
   ],
   "source": [
    "# снова посмотрим на общее распределение количества комнат\n",
    "sns.histplot(data=df_housing.sample(0.5).toPandas(), x='total_rooms')"
   ]
  },
  {
   "cell_type": "markdown",
   "id": "6812fb2b",
   "metadata": {},
   "source": [
    "Теперь распределение выглядит намного лучше."
   ]
  },
  {
   "cell_type": "markdown",
   "id": "1153b43d",
   "metadata": {},
   "source": [
    "#### population"
   ]
  },
  {
   "cell_type": "code",
   "execution_count": 90,
   "id": "a8b2850d",
   "metadata": {
    "scrolled": false
   },
   "outputs": [
    {
     "data": {
      "text/html": [
       "<div>\n",
       "<style scoped>\n",
       "    .dataframe tbody tr th:only-of-type {\n",
       "        vertical-align: middle;\n",
       "    }\n",
       "\n",
       "    .dataframe tbody tr th {\n",
       "        vertical-align: top;\n",
       "    }\n",
       "\n",
       "    .dataframe thead th {\n",
       "        text-align: right;\n",
       "    }\n",
       "</style>\n",
       "<table border=\"1\" class=\"dataframe\">\n",
       "  <thead>\n",
       "    <tr style=\"text-align: right;\">\n",
       "      <th></th>\n",
       "      <th>summary</th>\n",
       "      <th>population</th>\n",
       "    </tr>\n",
       "  </thead>\n",
       "  <tbody>\n",
       "    <tr>\n",
       "      <th>0</th>\n",
       "      <td>count</td>\n",
       "      <td>20434</td>\n",
       "    </tr>\n",
       "    <tr>\n",
       "      <th>1</th>\n",
       "      <td>mean</td>\n",
       "      <td>1366.503817167466</td>\n",
       "    </tr>\n",
       "    <tr>\n",
       "      <th>2</th>\n",
       "      <td>stddev</td>\n",
       "      <td>907.725659039993</td>\n",
       "    </tr>\n",
       "    <tr>\n",
       "      <th>3</th>\n",
       "      <td>min</td>\n",
       "      <td>3.0</td>\n",
       "    </tr>\n",
       "    <tr>\n",
       "      <th>4</th>\n",
       "      <td>max</td>\n",
       "      <td>11272.0</td>\n",
       "    </tr>\n",
       "  </tbody>\n",
       "</table>\n",
       "</div>"
      ],
      "text/plain": [
       "  summary         population\n",
       "0   count              20434\n",
       "1    mean  1366.503817167466\n",
       "2  stddev   907.725659039993\n",
       "3     min                3.0\n",
       "4     max            11272.0"
      ]
     },
     "execution_count": 90,
     "metadata": {},
     "output_type": "execute_result"
    }
   ],
   "source": [
    "# статистика по колонке\n",
    "df_housing.select('population').describe().toPandas()"
   ]
  },
  {
   "cell_type": "code",
   "execution_count": 91,
   "id": "c3f0f174",
   "metadata": {},
   "outputs": [
    {
     "data": {
      "text/plain": [
       "<AxesSubplot:xlabel='population', ylabel='Count'>"
      ]
     },
     "execution_count": 91,
     "metadata": {},
     "output_type": "execute_result"
    },
    {
     "data": {
      "image/png": "[encoded data removed]",
      "text/plain": [
       "<Figure size 432x288 with 1 Axes>"
      ]
     },
     "metadata": {
      "needs_background": "light"
     },
     "output_type": "display_data"
    }
   ],
   "source": [
    "# посмотрим на распределение количества жильцов в целом\n",
    "sns.histplot(data=df_housing.sample(0.5).toPandas(), x='population')"
   ]
  },
  {
   "cell_type": "markdown",
   "id": "0d4a8741",
   "metadata": {},
   "source": [
    "Наблюдаем ту же ситуацию, что данные скошены в сторону верхней грраницы. Проведём границу на отметке .99 квантиля, а остальные выбросы удалим."
   ]
  },
  {
   "cell_type": "code",
   "execution_count": 92,
   "id": "3b2cfd09",
   "metadata": {},
   "outputs": [
    {
     "data": {
      "text/plain": [
       "4684.0"
      ]
     },
     "execution_count": 92,
     "metadata": {},
     "output_type": "execute_result"
    }
   ],
   "source": [
    "# найдём значение .99 квантиля\n",
    "POPULATION_99 = df_housing.approxQuantile(\"population\", [0.99], 0)[0]\n",
    "POPULATION_99"
   ]
  },
  {
   "cell_type": "code",
   "execution_count": 93,
   "id": "1c9d9855",
   "metadata": {},
   "outputs": [
    {
     "data": {
      "text/plain": [
       "0.9883720930232558"
      ]
     },
     "execution_count": 93,
     "metadata": {},
     "output_type": "execute_result"
    }
   ],
   "source": [
    "# посчитаем процент выбросов к удалению\n",
    "POPULATION_DELETED = df_housing.filter(df_housing.population > POPULATION_99).count() / COUNT * 100\n",
    "POPULATION_DELETED"
   ]
  },
  {
   "cell_type": "code",
   "execution_count": 94,
   "id": "96469b7d",
   "metadata": {},
   "outputs": [],
   "source": [
    "# удаляем выбросы\n",
    "df_housing = df_housing.filter(df_housing.population <= POPULATION_99) "
   ]
  },
  {
   "cell_type": "code",
   "execution_count": 95,
   "id": "7749b7d2",
   "metadata": {},
   "outputs": [
    {
     "data": {
      "text/plain": [
       "<AxesSubplot:xlabel='population', ylabel='Count'>"
      ]
     },
     "execution_count": 95,
     "metadata": {},
     "output_type": "execute_result"
    },
    {
     "data": {
      "image/png": "[encoded data removed]",
      "text/plain": [
       "<Figure size 432x288 with 1 Axes>"
      ]
     },
     "metadata": {
      "needs_background": "light"
     },
     "output_type": "display_data"
    }
   ],
   "source": [
    "# снова посмотрим на общее распределение количества жильцов\n",
    "sns.histplot(data=df_housing.sample(0.5).toPandas(), x='population')"
   ]
  },
  {
   "cell_type": "markdown",
   "id": "4796d75c",
   "metadata": {},
   "source": [
    "Теперь распределение выглядит лучше."
   ]
  },
  {
   "cell_type": "markdown",
   "id": "4f13a3ac",
   "metadata": {},
   "source": [
    "#### households"
   ]
  },
  {
   "cell_type": "code",
   "execution_count": 96,
   "id": "bab83c08",
   "metadata": {
    "scrolled": false
   },
   "outputs": [
    {
     "data": {
      "text/html": [
       "<div>\n",
       "<style scoped>\n",
       "    .dataframe tbody tr th:only-of-type {\n",
       "        vertical-align: middle;\n",
       "    }\n",
       "\n",
       "    .dataframe tbody tr th {\n",
       "        vertical-align: top;\n",
       "    }\n",
       "\n",
       "    .dataframe thead th {\n",
       "        text-align: right;\n",
       "    }\n",
       "</style>\n",
       "<table border=\"1\" class=\"dataframe\">\n",
       "  <thead>\n",
       "    <tr style=\"text-align: right;\">\n",
       "      <th></th>\n",
       "      <th>summary</th>\n",
       "      <th>households</th>\n",
       "    </tr>\n",
       "  </thead>\n",
       "  <tbody>\n",
       "    <tr>\n",
       "      <th>0</th>\n",
       "      <td>count</td>\n",
       "      <td>20230</td>\n",
       "    </tr>\n",
       "    <tr>\n",
       "      <th>1</th>\n",
       "      <td>mean</td>\n",
       "      <td>467.4309441423628</td>\n",
       "    </tr>\n",
       "    <tr>\n",
       "      <th>2</th>\n",
       "      <td>stddev</td>\n",
       "      <td>286.89635543455046</td>\n",
       "    </tr>\n",
       "    <tr>\n",
       "      <th>3</th>\n",
       "      <td>min</td>\n",
       "      <td>1.0</td>\n",
       "    </tr>\n",
       "    <tr>\n",
       "      <th>4</th>\n",
       "      <td>max</td>\n",
       "      <td>2565.0</td>\n",
       "    </tr>\n",
       "  </tbody>\n",
       "</table>\n",
       "</div>"
      ],
      "text/plain": [
       "  summary          households\n",
       "0   count               20230\n",
       "1    mean   467.4309441423628\n",
       "2  stddev  286.89635543455046\n",
       "3     min                 1.0\n",
       "4     max              2565.0"
      ]
     },
     "execution_count": 96,
     "metadata": {},
     "output_type": "execute_result"
    }
   ],
   "source": [
    "# статистика по колонке\n",
    "df_housing.select('households').describe().toPandas()"
   ]
  },
  {
   "cell_type": "code",
   "execution_count": 97,
   "id": "36d8c947",
   "metadata": {},
   "outputs": [
    {
     "data": {
      "text/plain": [
       "<AxesSubplot:xlabel='households', ylabel='Count'>"
      ]
     },
     "execution_count": 97,
     "metadata": {},
     "output_type": "execute_result"
    },
    {
     "data": {
      "image/png": "[encoded data removed]",
      "text/plain": [
       "<Figure size 432x288 with 1 Axes>"
      ]
     },
     "metadata": {
      "needs_background": "light"
     },
     "output_type": "display_data"
    }
   ],
   "source": [
    "# посмотрим на распределение количества домовладений в целом\n",
    "sns.histplot(data=df_housing.sample(0.5).toPandas(), x='households')"
   ]
  },
  {
   "cell_type": "markdown",
   "id": "d1ff48d3",
   "metadata": {},
   "source": [
    "Как и в предыдущих случаях, данные скошены вправо, но разброс не сильно большой. Также найдём .99 квантиль."
   ]
  },
  {
   "cell_type": "code",
   "execution_count": 98,
   "id": "3c2286d8",
   "metadata": {},
   "outputs": [
    {
     "data": {
      "text/plain": [
       "1474.0"
      ]
     },
     "execution_count": 98,
     "metadata": {},
     "output_type": "execute_result"
    }
   ],
   "source": [
    "# найдём значение .99 квантиля\n",
    "HOUSEHOLDS_99 = df_housing.approxQuantile(\"households\", [0.99], 0)[0]\n",
    "HOUSEHOLDS_99"
   ]
  },
  {
   "cell_type": "code",
   "execution_count": 99,
   "id": "9289fdca",
   "metadata": {},
   "outputs": [
    {
     "data": {
      "text/plain": [
       "0.9738372093023256"
      ]
     },
     "execution_count": 99,
     "metadata": {},
     "output_type": "execute_result"
    }
   ],
   "source": [
    "# посчитаем процент выбросов к удалению\n",
    "HOUSEHOLDS_DELETED = df_housing.filter(df_housing.households > HOUSEHOLDS_99).count() / COUNT * 100\n",
    "HOUSEHOLDS_DELETED"
   ]
  },
  {
   "cell_type": "code",
   "execution_count": 100,
   "id": "34745467",
   "metadata": {},
   "outputs": [],
   "source": [
    "# удаляем выбросы\n",
    "df_housing = df_housing.filter(df_housing.households <= HOUSEHOLDS_99) "
   ]
  },
  {
   "cell_type": "code",
   "execution_count": 101,
   "id": "049038ff",
   "metadata": {},
   "outputs": [
    {
     "data": {
      "text/plain": [
       "<AxesSubplot:xlabel='households', ylabel='Count'>"
      ]
     },
     "execution_count": 101,
     "metadata": {},
     "output_type": "execute_result"
    },
    {
     "data": {
      "image/png": "[encoded data removed]",
      "text/plain": [
       "<Figure size 432x288 with 1 Axes>"
      ]
     },
     "metadata": {
      "needs_background": "light"
     },
     "output_type": "display_data"
    }
   ],
   "source": [
    "# снова посмотрим на общее распределение количества жильцов\n",
    "sns.histplot(data=df_housing.sample(0.5).toPandas(), x='households')"
   ]
  },
  {
   "cell_type": "markdown",
   "id": "e4c89f0e",
   "metadata": {},
   "source": [
    "Теперь распределение выглядит лучше."
   ]
  },
  {
   "cell_type": "markdown",
   "id": "0b556dea",
   "metadata": {},
   "source": [
    "<div class=\"alert alert-block alert-info\">\n",
    "<b>Комментарий студента V2:</b> Добавила ко всем колонкам удаление по .99 квантилю, чтбы всё по науке было\n",
    "</div>"
   ]
  },
  {
   "cell_type": "markdown",
   "id": "d733c4ea",
   "metadata": {},
   "source": [
    "#### median_income"
   ]
  },
  {
   "cell_type": "code",
   "execution_count": 102,
   "id": "dc17e503",
   "metadata": {
    "scrolled": false
   },
   "outputs": [
    {
     "data": {
      "text/html": [
       "<div>\n",
       "<style scoped>\n",
       "    .dataframe tbody tr th:only-of-type {\n",
       "        vertical-align: middle;\n",
       "    }\n",
       "\n",
       "    .dataframe tbody tr th {\n",
       "        vertical-align: top;\n",
       "    }\n",
       "\n",
       "    .dataframe thead th {\n",
       "        text-align: right;\n",
       "    }\n",
       "</style>\n",
       "<table border=\"1\" class=\"dataframe\">\n",
       "  <thead>\n",
       "    <tr style=\"text-align: right;\">\n",
       "      <th></th>\n",
       "      <th>summary</th>\n",
       "      <th>median_income</th>\n",
       "    </tr>\n",
       "  </thead>\n",
       "  <tbody>\n",
       "    <tr>\n",
       "      <th>0</th>\n",
       "      <td>count</td>\n",
       "      <td>20029</td>\n",
       "    </tr>\n",
       "    <tr>\n",
       "      <th>1</th>\n",
       "      <td>mean</td>\n",
       "      <td>3.863432867342394</td>\n",
       "    </tr>\n",
       "    <tr>\n",
       "      <th>2</th>\n",
       "      <td>stddev</td>\n",
       "      <td>1.9065573932749351</td>\n",
       "    </tr>\n",
       "    <tr>\n",
       "      <th>3</th>\n",
       "      <td>min</td>\n",
       "      <td>0.4999</td>\n",
       "    </tr>\n",
       "    <tr>\n",
       "      <th>4</th>\n",
       "      <td>max</td>\n",
       "      <td>15.0001</td>\n",
       "    </tr>\n",
       "  </tbody>\n",
       "</table>\n",
       "</div>"
      ],
      "text/plain": [
       "  summary       median_income\n",
       "0   count               20029\n",
       "1    mean   3.863432867342394\n",
       "2  stddev  1.9065573932749351\n",
       "3     min              0.4999\n",
       "4     max             15.0001"
      ]
     },
     "execution_count": 102,
     "metadata": {},
     "output_type": "execute_result"
    }
   ],
   "source": [
    "# статистика по колонке\n",
    "df_housing.select('median_income').describe().toPandas()"
   ]
  },
  {
   "cell_type": "code",
   "execution_count": 103,
   "id": "2e4d25b6",
   "metadata": {},
   "outputs": [
    {
     "data": {
      "text/plain": [
       "<AxesSubplot:xlabel='median_income', ylabel='Count'>"
      ]
     },
     "execution_count": 103,
     "metadata": {},
     "output_type": "execute_result"
    },
    {
     "data": {
      "image/png": "[encoded data removed]",
      "text/plain": [
       "<Figure size 432x288 with 1 Axes>"
      ]
     },
     "metadata": {
      "needs_background": "light"
     },
     "output_type": "display_data"
    }
   ],
   "source": [
    "# посмотрим на распределение медианного дохода жителей в целом\n",
    "sns.histplot(data=df_housing.sample(0.5).toPandas(), x='median_income')"
   ]
  },
  {
   "cell_type": "markdown",
   "id": "a7be9a43",
   "metadata": {},
   "source": [
    "Как обычно, данные скошены вправо, ищем .99 квантиль."
   ]
  },
  {
   "cell_type": "code",
   "execution_count": 104,
   "id": "a06836fa",
   "metadata": {},
   "outputs": [
    {
     "data": {
      "text/plain": [
       "10.6514"
      ]
     },
     "execution_count": 104,
     "metadata": {},
     "output_type": "execute_result"
    }
   ],
   "source": [
    "# найдём значение .99 квантиля\n",
    "MEDIAN_INCOME_99 = df_housing.approxQuantile(\"median_income\", [0.99], 0)[0]\n",
    "MEDIAN_INCOME_99"
   ]
  },
  {
   "cell_type": "code",
   "execution_count": 105,
   "id": "038144e4",
   "metadata": {},
   "outputs": [
    {
     "data": {
      "text/plain": [
       "0.9689922480620154"
      ]
     },
     "execution_count": 105,
     "metadata": {},
     "output_type": "execute_result"
    }
   ],
   "source": [
    "# посчитаем процент выбросов к удалению\n",
    "MEDIAN_INCOME_DELETED = df_housing.filter(df_housing.median_income > MEDIAN_INCOME_99).count() / COUNT * 100\n",
    "MEDIAN_INCOME_DELETED"
   ]
  },
  {
   "cell_type": "code",
   "execution_count": 106,
   "id": "10172e7a",
   "metadata": {},
   "outputs": [],
   "source": [
    "# удаляем выбросы\n",
    "df_housing = df_housing.filter(df_housing.median_income <= MEDIAN_INCOME_99) "
   ]
  },
  {
   "cell_type": "code",
   "execution_count": 107,
   "id": "086768f4",
   "metadata": {},
   "outputs": [
    {
     "data": {
      "text/plain": [
       "<AxesSubplot:xlabel='median_income', ylabel='Count'>"
      ]
     },
     "execution_count": 107,
     "metadata": {},
     "output_type": "execute_result"
    },
    {
     "data": {
      "image/png": "[encoded data removed]",
      "text/plain": [
       "<Figure size 432x288 with 1 Axes>"
      ]
     },
     "metadata": {
      "needs_background": "light"
     },
     "output_type": "display_data"
    }
   ],
   "source": [
    "# снова посмотрим на общее распределение количества жильцов\n",
    "sns.histplot(data=df_housing.sample(0.5).toPandas(), x='median_income')"
   ]
  },
  {
   "cell_type": "markdown",
   "id": "55fadf62",
   "metadata": {},
   "source": [
    "Теперь распределение выглядит лучше."
   ]
  },
  {
   "cell_type": "code",
   "execution_count": 108,
   "id": "5efe2612",
   "metadata": {},
   "outputs": [
    {
     "data": {
      "text/plain": [
       "3.929263565891473"
      ]
     },
     "execution_count": 108,
     "metadata": {},
     "output_type": "execute_result"
    }
   ],
   "source": [
    "# посчитаем общий процент удалённых записей\n",
    "DELETED = TOTAL_ROOMS_DELETED + POPULATION_DELETED + HOUSEHOLDS_DELETED + MEDIAN_INCOME_DELETED\n",
    "DELETED"
   ]
  },
  {
   "cell_type": "markdown",
   "id": "ea945eb3",
   "metadata": {},
   "source": [
    "Итого, удалённых данных почти 5%."
   ]
  },
  {
   "cell_type": "markdown",
   "id": "05e248fc",
   "metadata": {},
   "source": [
    "### Вывод"
   ]
  },
  {
   "cell_type": "markdown",
   "id": "361e2beb",
   "metadata": {},
   "source": [
    "В этом разделе:\n",
    "- Удалены почти 5% выбросов из колонок `total_rooms`, `total_bedrooms`, `households`, `median_income` и `population`\n",
    "- Пропусков и дубликатов нет\n",
    "- Удалили признак `total_bedrooms`из-за высокой корреляции с признаком `total_rooms`"
   ]
  },
  {
   "cell_type": "markdown",
   "id": "242df4e6",
   "metadata": {},
   "source": [
    "## Подготовка признаков к обучению"
   ]
  },
  {
   "cell_type": "markdown",
   "id": "803cc121",
   "metadata": {},
   "source": [
    "### Кодирование категориальных признаков"
   ]
  },
  {
   "cell_type": "code",
   "execution_count": 109,
   "id": "4501fce6",
   "metadata": {},
   "outputs": [
    {
     "name": "stdout",
     "output_type": "stream",
     "text": [
      "15770 4059\n"
     ]
    }
   ],
   "source": [
    "# разобьём данные на обучающую и тестовую выборки\n",
    "train_data, test_data = df_housing.randomSplit([.8,.2], seed=RANDOM_SEED)\n",
    "print(train_data.count(), test_data.count())"
   ]
  },
  {
   "cell_type": "markdown",
   "id": "b170ef07",
   "metadata": {},
   "source": [
    "Разделим признаки на категориальные, числовые и целевой."
   ]
  },
  {
   "cell_type": "code",
   "execution_count": 110,
   "id": "cb9f40a6",
   "metadata": {},
   "outputs": [],
   "source": [
    "categorical_cols = [\"ocean_proximity\"]\n",
    "numerical_cols  = [\"longitude\", \"latitude\", \"housing_median_age\", \"total_rooms\", \"population\", \"households\", \"median_income\"]\n",
    "target = \"median_house_value\""
   ]
  },
  {
   "cell_type": "markdown",
   "id": "ac379af0",
   "metadata": {},
   "source": [
    "В первую очередь трансформируем категориальные признаки с помощью трансформера StringIndexer. Он переводит текстовые категории в числовое представление, так как большинство ML-алгоритмов работает с числовыми данными. В данных только один категориальный признак - это `ocean_proximity`."
   ]
  },
  {
   "cell_type": "code",
   "execution_count": 111,
   "id": "e808ddfd",
   "metadata": {},
   "outputs": [],
   "source": [
    "indexer = StringIndexer(inputCols=categorical_cols, \n",
    "                        outputCols=[c+'_idx' for c in categorical_cols])"
   ]
  },
  {
   "cell_type": "markdown",
   "id": "ff7c1ceb",
   "metadata": {},
   "source": [
    "Далее закодируем его техникой OneHotEncoding."
   ]
  },
  {
   "cell_type": "code",
   "execution_count": 112,
   "id": "fc8aa80f",
   "metadata": {},
   "outputs": [],
   "source": [
    "encoder = OneHotEncoder(inputCols=['ocean_proximity_idx'],\n",
    "                        outputCols=['ocean_proximity_ohe'])"
   ]
  },
  {
   "cell_type": "markdown",
   "id": "de53db9c",
   "metadata": {},
   "source": [
    "### Трансформация числовых признаков"
   ]
  },
  {
   "cell_type": "markdown",
   "id": "0fbf2730",
   "metadata": {},
   "source": [
    "Приведём числовые признаки к одному масштабу, т.к. линейные модели чувствительны к масштабу."
   ]
  },
  {
   "cell_type": "code",
   "execution_count": 113,
   "id": "9d8fadb1",
   "metadata": {},
   "outputs": [],
   "source": [
    "numerical_assembler = VectorAssembler(inputCols=numerical_cols,\n",
    "                                    outputCol=\"numerical_features\")"
   ]
  },
  {
   "cell_type": "code",
   "execution_count": 114,
   "id": "f6f40e95",
   "metadata": {},
   "outputs": [],
   "source": [
    "standardScaler = StandardScaler(inputCol='numerical_features',\n",
    "                                outputCol=\"numerical_features_scaled\")"
   ]
  },
  {
   "cell_type": "markdown",
   "id": "5d03bc22",
   "metadata": {},
   "source": [
    "Финальный шаг преобразований — это объединение признаков в один вектор, с которым ML-алгоритм умеет работать."
   ]
  },
  {
   "cell_type": "code",
   "execution_count": 115,
   "id": "9efd1fc6",
   "metadata": {},
   "outputs": [],
   "source": [
    "all_features = ['ocean_proximity_ohe','numerical_features_scaled']\n",
    "\n",
    "final_assembler = VectorAssembler(inputCols=all_features, \n",
    "                                  outputCol=\"features\") "
   ]
  },
  {
   "cell_type": "markdown",
   "id": "9f0a82f3",
   "metadata": {
    "id": "9f0a82f3"
   },
   "source": [
    "## Обучение моделей"
   ]
  },
  {
   "cell_type": "code",
   "execution_count": 116,
   "id": "b9fb6e97",
   "metadata": {},
   "outputs": [],
   "source": [
    "# создаём функцию для обучения модели\n",
    "def train_model(features):\n",
    "    \n",
    "    # создаём объект модели линейной регрессии\n",
    "    lr = LinearRegression(labelCol=target, featuresCol=features)\n",
    "    \n",
    "    # строим сетку для подбора гиперпараметров\n",
    "    grid_search = ParamGridBuilder() \\\n",
    "        .addGrid(lr.regParam, [0.0, 0.01, 0.1]) \\\n",
    "        .addGrid(lr.elasticNetParam, [0.5, 1.0]) \\\n",
    "        .build()\n",
    "    \n",
    "    # создаём объект для оценки качества модели метрикой RMSE\n",
    "    evaluator = RegressionEvaluator(predictionCol='prediction',\n",
    "                                    labelCol=target)\n",
    "    \n",
    "    # строим итоговый пайплайн для обучения модели\n",
    "    pipeline = Pipeline(\n",
    "        stages = [indexer, \n",
    "                  encoder, \n",
    "                  numerical_assembler, \n",
    "                  standardScaler, \n",
    "                  final_assembler,\n",
    "                  lr]\n",
    "    )\n",
    "    \n",
    "    # создаём кросс-валидатор\n",
    "    cv = CrossValidator(estimator=pipeline,\n",
    "                        estimatorParamMaps=grid_search,\n",
    "                        evaluator=evaluator,\n",
    "                        numFolds = 5)\n",
    "    \n",
    "    # обучаем кросс-валидатор на обучающей выборке\n",
    "    cv_model = cv.fit(train_data)\n",
    "    \n",
    "    # получаем лучшую модель\n",
    "    best_model = cv_model.bestModel\n",
    "    \n",
    "    # получаем параметры лучшей модели\n",
    "    params = best_model.stages[5].extractParamMap()\n",
    "    \n",
    "    # получаем предсказания на тестовой выборке\n",
    "    predictions = best_model.transform(test_data)\n",
    "    \n",
    "    return params, predictions"
   ]
  },
  {
   "cell_type": "markdown",
   "id": "b4b6cd75",
   "metadata": {
    "id": "bddb08c4"
   },
   "source": [
    "### Обучение на всех данных"
   ]
  },
  {
   "cell_type": "code",
   "execution_count": 117,
   "id": "ceb8bc27",
   "metadata": {},
   "outputs": [],
   "source": [
    "# обучаем модель на полном наборе данных\n",
    "params_on_full, predictions_on_full = train_model('features')"
   ]
  },
  {
   "cell_type": "code",
   "execution_count": 118,
   "id": "c28d65c6",
   "metadata": {
    "scrolled": true
   },
   "outputs": [
    {
     "data": {
      "text/html": [
       "<div>\n",
       "<style scoped>\n",
       "    .dataframe tbody tr th:only-of-type {\n",
       "        vertical-align: middle;\n",
       "    }\n",
       "\n",
       "    .dataframe tbody tr th {\n",
       "        vertical-align: top;\n",
       "    }\n",
       "\n",
       "    .dataframe thead th {\n",
       "        text-align: right;\n",
       "    }\n",
       "</style>\n",
       "<table border=\"1\" class=\"dataframe\">\n",
       "  <thead>\n",
       "    <tr style=\"text-align: right;\">\n",
       "      <th></th>\n",
       "      <th>median_house_value</th>\n",
       "      <th>prediction</th>\n",
       "    </tr>\n",
       "  </thead>\n",
       "  <tbody>\n",
       "    <tr>\n",
       "      <th>0</th>\n",
       "      <td>50800.0</td>\n",
       "      <td>209070.320509</td>\n",
       "    </tr>\n",
       "    <tr>\n",
       "      <th>1</th>\n",
       "      <td>67000.0</td>\n",
       "      <td>144711.197177</td>\n",
       "    </tr>\n",
       "    <tr>\n",
       "      <th>2</th>\n",
       "      <td>81300.0</td>\n",
       "      <td>148460.392448</td>\n",
       "    </tr>\n",
       "    <tr>\n",
       "      <th>3</th>\n",
       "      <td>60000.0</td>\n",
       "      <td>138340.645039</td>\n",
       "    </tr>\n",
       "    <tr>\n",
       "      <th>4</th>\n",
       "      <td>109400.0</td>\n",
       "      <td>167549.205143</td>\n",
       "    </tr>\n",
       "    <tr>\n",
       "      <th>5</th>\n",
       "      <td>74100.0</td>\n",
       "      <td>147878.816700</td>\n",
       "    </tr>\n",
       "    <tr>\n",
       "      <th>6</th>\n",
       "      <td>74700.0</td>\n",
       "      <td>171737.805867</td>\n",
       "    </tr>\n",
       "    <tr>\n",
       "      <th>7</th>\n",
       "      <td>74100.0</td>\n",
       "      <td>156433.467237</td>\n",
       "    </tr>\n",
       "    <tr>\n",
       "      <th>8</th>\n",
       "      <td>67500.0</td>\n",
       "      <td>143002.784200</td>\n",
       "    </tr>\n",
       "    <tr>\n",
       "      <th>9</th>\n",
       "      <td>92500.0</td>\n",
       "      <td>168593.206176</td>\n",
       "    </tr>\n",
       "  </tbody>\n",
       "</table>\n",
       "</div>"
      ],
      "text/plain": [
       "   median_house_value     prediction\n",
       "0             50800.0  209070.320509\n",
       "1             67000.0  144711.197177\n",
       "2             81300.0  148460.392448\n",
       "3             60000.0  138340.645039\n",
       "4            109400.0  167549.205143\n",
       "5             74100.0  147878.816700\n",
       "6             74700.0  171737.805867\n",
       "7             74100.0  156433.467237\n",
       "8             67500.0  143002.784200\n",
       "9             92500.0  168593.206176"
      ]
     },
     "execution_count": 118,
     "metadata": {},
     "output_type": "execute_result"
    }
   ],
   "source": [
    "predictions_on_full.select('median_house_value', 'prediction').sample(0.5).toPandas().head(10)"
   ]
  },
  {
   "cell_type": "code",
   "execution_count": 119,
   "id": "10106830",
   "metadata": {},
   "outputs": [
    {
     "data": {
      "text/html": [
       "<div>\n",
       "<style scoped>\n",
       "    .dataframe tbody tr th:only-of-type {\n",
       "        vertical-align: middle;\n",
       "    }\n",
       "\n",
       "    .dataframe tbody tr th {\n",
       "        vertical-align: top;\n",
       "    }\n",
       "\n",
       "    .dataframe thead th {\n",
       "        text-align: right;\n",
       "    }\n",
       "</style>\n",
       "<table border=\"1\" class=\"dataframe\">\n",
       "  <thead>\n",
       "    <tr style=\"text-align: right;\">\n",
       "      <th></th>\n",
       "      <th>median_house_value</th>\n",
       "      <th>prediction</th>\n",
       "    </tr>\n",
       "  </thead>\n",
       "  <tbody>\n",
       "    <tr>\n",
       "      <th>2103</th>\n",
       "      <td>53800.0</td>\n",
       "      <td>19197.216114</td>\n",
       "    </tr>\n",
       "    <tr>\n",
       "      <th>2104</th>\n",
       "      <td>67500.0</td>\n",
       "      <td>51099.244465</td>\n",
       "    </tr>\n",
       "    <tr>\n",
       "      <th>2105</th>\n",
       "      <td>87500.0</td>\n",
       "      <td>149276.031029</td>\n",
       "    </tr>\n",
       "    <tr>\n",
       "      <th>2106</th>\n",
       "      <td>76200.0</td>\n",
       "      <td>121108.832906</td>\n",
       "    </tr>\n",
       "    <tr>\n",
       "      <th>2107</th>\n",
       "      <td>60800.0</td>\n",
       "      <td>57760.734400</td>\n",
       "    </tr>\n",
       "    <tr>\n",
       "      <th>2108</th>\n",
       "      <td>53400.0</td>\n",
       "      <td>38461.437447</td>\n",
       "    </tr>\n",
       "    <tr>\n",
       "      <th>2109</th>\n",
       "      <td>67500.0</td>\n",
       "      <td>50766.249308</td>\n",
       "    </tr>\n",
       "    <tr>\n",
       "      <th>2110</th>\n",
       "      <td>74300.0</td>\n",
       "      <td>68541.252449</td>\n",
       "    </tr>\n",
       "    <tr>\n",
       "      <th>2111</th>\n",
       "      <td>44000.0</td>\n",
       "      <td>15456.088694</td>\n",
       "    </tr>\n",
       "    <tr>\n",
       "      <th>2112</th>\n",
       "      <td>25000.0</td>\n",
       "      <td>-10054.158048</td>\n",
       "    </tr>\n",
       "  </tbody>\n",
       "</table>\n",
       "</div>"
      ],
      "text/plain": [
       "      median_house_value     prediction\n",
       "2103             53800.0   19197.216114\n",
       "2104             67500.0   51099.244465\n",
       "2105             87500.0  149276.031029\n",
       "2106             76200.0  121108.832906\n",
       "2107             60800.0   57760.734400\n",
       "2108             53400.0   38461.437447\n",
       "2109             67500.0   50766.249308\n",
       "2110             74300.0   68541.252449\n",
       "2111             44000.0   15456.088694\n",
       "2112             25000.0  -10054.158048"
      ]
     },
     "execution_count": 119,
     "metadata": {},
     "output_type": "execute_result"
    }
   ],
   "source": [
    "predictions_on_full.select('median_house_value', 'prediction').sample(0.5).toPandas().tail(10)"
   ]
  },
  {
   "cell_type": "code",
   "execution_count": 120,
   "id": "e1beae01",
   "metadata": {},
   "outputs": [],
   "source": [
    "rmse_on_full = RegressionEvaluator(labelCol='median_house_value', metricName='rmse').evaluate(predictions_on_full)\n",
    "r2_on_full = RegressionEvaluator(labelCol='median_house_value', metricName='r2').evaluate(predictions_on_full)\n",
    "mae_on_full = RegressionEvaluator(labelCol='median_house_value', metricName='mae').evaluate(predictions_on_full)"
   ]
  },
  {
   "cell_type": "code",
   "execution_count": 121,
   "id": "663533e7",
   "metadata": {
    "scrolled": true
   },
   "outputs": [
    {
     "name": "stdout",
     "output_type": "stream",
     "text": [
      "RMSE на полном наборе данных: 67743.10668969016\n"
     ]
    }
   ],
   "source": [
    "print(\"RMSE на полном наборе данных:\", rmse_on_full)"
   ]
  },
  {
   "cell_type": "code",
   "execution_count": 122,
   "id": "612384c0",
   "metadata": {},
   "outputs": [
    {
     "name": "stdout",
     "output_type": "stream",
     "text": [
      "MAE на полном наборе данных: 48929.61618482056\n"
     ]
    }
   ],
   "source": [
    "print(\"MAE на полном наборе данных:\", mae_on_full)"
   ]
  },
  {
   "cell_type": "code",
   "execution_count": 123,
   "id": "bfa9b9f9",
   "metadata": {},
   "outputs": [
    {
     "name": "stdout",
     "output_type": "stream",
     "text": [
      "R2 на полном наборе данных: 0.643058091392138\n"
     ]
    }
   ],
   "source": [
    "print(\"R2 на полном наборе данных:\", r2_on_full)"
   ]
  },
  {
   "cell_type": "markdown",
   "id": "74fff60a",
   "metadata": {},
   "source": [
    "Видно, что в некоторых случаях модель предсказала отрицаткльный результат. Посмотрим, сколько таких значений получилось."
   ]
  },
  {
   "cell_type": "code",
   "execution_count": 124,
   "id": "b6a6a8b5",
   "metadata": {},
   "outputs": [
    {
     "data": {
      "text/plain": [
       "12"
      ]
     },
     "execution_count": 124,
     "metadata": {},
     "output_type": "execute_result"
    }
   ],
   "source": [
    "predictions_on_full.filter(F.col('prediction') < 0).count()"
   ]
  },
  {
   "cell_type": "code",
   "execution_count": 130,
   "id": "7ea47b1e",
   "metadata": {},
   "outputs": [
    {
     "data": {
      "text/html": [
       "<div>\n",
       "<style scoped>\n",
       "    .dataframe tbody tr th:only-of-type {\n",
       "        vertical-align: middle;\n",
       "    }\n",
       "\n",
       "    .dataframe tbody tr th {\n",
       "        vertical-align: top;\n",
       "    }\n",
       "\n",
       "    .dataframe thead th {\n",
       "        text-align: right;\n",
       "    }\n",
       "</style>\n",
       "<table border=\"1\" class=\"dataframe\">\n",
       "  <thead>\n",
       "    <tr style=\"text-align: right;\">\n",
       "      <th></th>\n",
       "      <th>longitude</th>\n",
       "      <th>latitude</th>\n",
       "      <th>housing_median_age</th>\n",
       "      <th>total_rooms</th>\n",
       "      <th>population</th>\n",
       "      <th>households</th>\n",
       "      <th>median_income</th>\n",
       "      <th>median_house_value</th>\n",
       "      <th>ocean_proximity</th>\n",
       "      <th>ocean_proximity_idx</th>\n",
       "      <th>ocean_proximity_ohe</th>\n",
       "      <th>numerical_features</th>\n",
       "      <th>numerical_features_scaled</th>\n",
       "      <th>features</th>\n",
       "      <th>prediction</th>\n",
       "    </tr>\n",
       "  </thead>\n",
       "  <tbody>\n",
       "    <tr>\n",
       "      <th>0</th>\n",
       "      <td>-124.15</td>\n",
       "      <td>41.81</td>\n",
       "      <td>17.0</td>\n",
       "      <td>3276.0</td>\n",
       "      <td>3546.0</td>\n",
       "      <td>585.0</td>\n",
       "      <td>2.2868</td>\n",
       "      <td>103100.0</td>\n",
       "      <td>NEAR OCEAN</td>\n",
       "      <td>2.0</td>\n",
       "      <td>(0.0, 0.0, 1.0, 0.0)</td>\n",
       "      <td>[-124.15, 41.81, 17.0, 3276.0, 3546.0, 585.0, ...</td>\n",
       "      <td>[-61.79738142534058, 19.48199010055772, 1.3652...</td>\n",
       "      <td>[0.0, 0.0, 1.0, 0.0, -61.79738142534058, 19.48...</td>\n",
       "      <td>-9320.579842</td>\n",
       "    </tr>\n",
       "    <tr>\n",
       "      <th>1</th>\n",
       "      <td>-121.79</td>\n",
       "      <td>38.54</td>\n",
       "      <td>7.0</td>\n",
       "      <td>1777.0</td>\n",
       "      <td>4479.0</td>\n",
       "      <td>504.0</td>\n",
       "      <td>1.4653</td>\n",
       "      <td>310000.0</td>\n",
       "      <td>INLAND</td>\n",
       "      <td>1.0</td>\n",
       "      <td>(0.0, 1.0, 0.0, 0.0)</td>\n",
       "      <td>[-121.79, 38.54, 7.0, 1777.0, 4479.0, 504.0, 1...</td>\n",
       "      <td>[-60.622658749836724, 17.95828506279585, 0.562...</td>\n",
       "      <td>[0.0, 1.0, 0.0, 0.0, -60.622658749836724, 17.9...</td>\n",
       "      <td>-148822.837160</td>\n",
       "    </tr>\n",
       "    <tr>\n",
       "      <th>2</th>\n",
       "      <td>-120.51</td>\n",
       "      <td>40.41</td>\n",
       "      <td>36.0</td>\n",
       "      <td>36.0</td>\n",
       "      <td>4198.0</td>\n",
       "      <td>7.0</td>\n",
       "      <td>5.5179</td>\n",
       "      <td>67500.0</td>\n",
       "      <td>INLAND</td>\n",
       "      <td>1.0</td>\n",
       "      <td>(0.0, 1.0, 0.0, 0.0)</td>\n",
       "      <td>[-120.51, 40.41, 36.0, 36.0, 4198.0, 7.0, 5.5179]</td>\n",
       "      <td>[-59.98552102752954, 18.82963931986456, 2.8911...</td>\n",
       "      <td>[0.0, 1.0, 0.0, 0.0, -59.98552102752954, 18.82...</td>\n",
       "      <td>-114008.063171</td>\n",
       "    </tr>\n",
       "    <tr>\n",
       "      <th>3</th>\n",
       "      <td>-120.09</td>\n",
       "      <td>39.92</td>\n",
       "      <td>19.0</td>\n",
       "      <td>2335.0</td>\n",
       "      <td>1028.0</td>\n",
       "      <td>383.0</td>\n",
       "      <td>1.7267</td>\n",
       "      <td>60700.0</td>\n",
       "      <td>INLAND</td>\n",
       "      <td>1.0</td>\n",
       "      <td>(0.0, 1.0, 0.0, 0.0)</td>\n",
       "      <td>[-120.09, 39.92, 19.0, 2335.0, 1028.0, 383.0, ...</td>\n",
       "      <td>[-59.7764602123975, 18.601316546621963, 1.5258...</td>\n",
       "      <td>[0.0, 1.0, 0.0, 0.0, -59.7764602123975, 18.601...</td>\n",
       "      <td>-4405.362463</td>\n",
       "    </tr>\n",
       "    <tr>\n",
       "      <th>4</th>\n",
       "      <td>-120.08</td>\n",
       "      <td>41.79</td>\n",
       "      <td>34.0</td>\n",
       "      <td>1355.0</td>\n",
       "      <td>434.0</td>\n",
       "      <td>178.0</td>\n",
       "      <td>2.0903</td>\n",
       "      <td>56100.0</td>\n",
       "      <td>INLAND</td>\n",
       "      <td>1.0</td>\n",
       "      <td>(0.0, 1.0, 0.0, 0.0)</td>\n",
       "      <td>[-120.08, 41.79, 34.0, 1355.0, 434.0, 178.0, 2...</td>\n",
       "      <td>[-59.771482573941974, 19.472670803690676, 2.73...</td>\n",
       "      <td>[0.0, 1.0, 0.0, 0.0, -59.771482573941974, 19.4...</td>\n",
       "      <td>-21247.792849</td>\n",
       "    </tr>\n",
       "    <tr>\n",
       "      <th>5</th>\n",
       "      <td>-120.06</td>\n",
       "      <td>39.15</td>\n",
       "      <td>22.0</td>\n",
       "      <td>2213.0</td>\n",
       "      <td>98.0</td>\n",
       "      <td>42.0</td>\n",
       "      <td>1.1912</td>\n",
       "      <td>170000.0</td>\n",
       "      <td>INLAND</td>\n",
       "      <td>1.0</td>\n",
       "      <td>(0.0, 1.0, 0.0, 0.0)</td>\n",
       "      <td>[-120.06, 39.15, 22.0, 2213.0, 98.0, 42.0, 1.1...</td>\n",
       "      <td>[-59.76152729703093, 18.242523617240725, 1.766...</td>\n",
       "      <td>[0.0, 1.0, 0.0, 0.0, -59.76152729703093, 18.24...</td>\n",
       "      <td>-21182.882867</td>\n",
       "    </tr>\n",
       "    <tr>\n",
       "      <th>6</th>\n",
       "      <td>-119.75</td>\n",
       "      <td>36.72</td>\n",
       "      <td>22.0</td>\n",
       "      <td>3247.0</td>\n",
       "      <td>4179.0</td>\n",
       "      <td>881.0</td>\n",
       "      <td>1.3343</td>\n",
       "      <td>60800.0</td>\n",
       "      <td>INLAND</td>\n",
       "      <td>1.0</td>\n",
       "      <td>(0.0, 1.0, 0.0, 0.0)</td>\n",
       "      <td>[-119.75, 36.72, 22.0, 3247.0, 4179.0, 881.0, ...</td>\n",
       "      <td>[-59.607220504909655, 17.110229047894748, 1.76...</td>\n",
       "      <td>[0.0, 1.0, 0.0, 0.0, -59.607220504909655, 17.1...</td>\n",
       "      <td>-46015.725993</td>\n",
       "    </tr>\n",
       "    <tr>\n",
       "      <th>7</th>\n",
       "      <td>-119.28</td>\n",
       "      <td>36.33</td>\n",
       "      <td>10.0</td>\n",
       "      <td>1051.0</td>\n",
       "      <td>927.0</td>\n",
       "      <td>274.0</td>\n",
       "      <td>0.7800</td>\n",
       "      <td>55500.0</td>\n",
       "      <td>INLAND</td>\n",
       "      <td>1.0</td>\n",
       "      <td>(0.0, 1.0, 0.0, 0.0)</td>\n",
       "      <td>[-119.28, 36.33, 10.0, 1051.0, 927.0, 274.0, 0...</td>\n",
       "      <td>[-59.37327149749999, 16.92850275898737, 0.8030...</td>\n",
       "      <td>[0.0, 1.0, 0.0, 0.0, -59.37327149749999, 16.92...</td>\n",
       "      <td>-390.229504</td>\n",
       "    </tr>\n",
       "    <tr>\n",
       "      <th>8</th>\n",
       "      <td>-114.68</td>\n",
       "      <td>33.49</td>\n",
       "      <td>20.0</td>\n",
       "      <td>1491.0</td>\n",
       "      <td>1135.0</td>\n",
       "      <td>303.0</td>\n",
       "      <td>1.6395</td>\n",
       "      <td>44400.0</td>\n",
       "      <td>INLAND</td>\n",
       "      <td>1.0</td>\n",
       "      <td>(0.0, 1.0, 0.0, 0.0)</td>\n",
       "      <td>[-114.68, 33.49, 20.0, 1491.0, 1135.0, 303.0, ...</td>\n",
       "      <td>[-57.08355780795858, 15.60516260386697, 1.6061...</td>\n",
       "      <td>[0.0, 1.0, 0.0, 0.0, -57.08355780795858, 15.60...</td>\n",
       "      <td>-8480.643708</td>\n",
       "    </tr>\n",
       "    <tr>\n",
       "      <th>9</th>\n",
       "      <td>-114.65</td>\n",
       "      <td>32.79</td>\n",
       "      <td>21.0</td>\n",
       "      <td>44.0</td>\n",
       "      <td>64.0</td>\n",
       "      <td>27.0</td>\n",
       "      <td>0.8571</td>\n",
       "      <td>25000.0</td>\n",
       "      <td>INLAND</td>\n",
       "      <td>1.0</td>\n",
       "      <td>(0.0, 1.0, 0.0, 0.0)</td>\n",
       "      <td>[-114.65, 32.79, 21.0, 44.0, 64.0, 27.0, 0.8571]</td>\n",
       "      <td>[-57.068624892592005, 15.278987213520393, 1.68...</td>\n",
       "      <td>[0.0, 1.0, 0.0, 0.0, -57.068624892592005, 15.2...</td>\n",
       "      <td>-10054.158048</td>\n",
       "    </tr>\n",
       "    <tr>\n",
       "      <th>10</th>\n",
       "      <td>-114.65</td>\n",
       "      <td>34.89</td>\n",
       "      <td>17.0</td>\n",
       "      <td>2556.0</td>\n",
       "      <td>1005.0</td>\n",
       "      <td>401.0</td>\n",
       "      <td>1.6991</td>\n",
       "      <td>69100.0</td>\n",
       "      <td>INLAND</td>\n",
       "      <td>1.0</td>\n",
       "      <td>(0.0, 1.0, 0.0, 0.0)</td>\n",
       "      <td>[-114.65, 34.89, 17.0, 2556.0, 1005.0, 401.0, ...</td>\n",
       "      <td>[-57.068624892592005, 16.257513384560127, 1.36...</td>\n",
       "      <td>[0.0, 1.0, 0.0, 0.0, -57.068624892592005, 16.2...</td>\n",
       "      <td>-17075.439126</td>\n",
       "    </tr>\n",
       "    <tr>\n",
       "      <th>11</th>\n",
       "      <td>-114.31</td>\n",
       "      <td>34.19</td>\n",
       "      <td>15.0</td>\n",
       "      <td>5612.0</td>\n",
       "      <td>1015.0</td>\n",
       "      <td>472.0</td>\n",
       "      <td>1.4936</td>\n",
       "      <td>66900.0</td>\n",
       "      <td>INLAND</td>\n",
       "      <td>1.0</td>\n",
       "      <td>(0.0, 1.0, 0.0, 0.0)</td>\n",
       "      <td>[-114.31, 34.19, 15.0, 5612.0, 1015.0, 472.0, ...</td>\n",
       "      <td>[-56.89938518510416, 15.931337994213546, 1.204...</td>\n",
       "      <td>[0.0, 1.0, 0.0, 0.0, -56.89938518510416, 15.93...</td>\n",
       "      <td>-16346.324872</td>\n",
       "    </tr>\n",
       "  </tbody>\n",
       "</table>\n",
       "</div>"
      ],
      "text/plain": [
       "    longitude  latitude  housing_median_age  total_rooms  population  \\\n",
       "0     -124.15     41.81                17.0       3276.0      3546.0   \n",
       "1     -121.79     38.54                 7.0       1777.0      4479.0   \n",
       "2     -120.51     40.41                36.0         36.0      4198.0   \n",
       "3     -120.09     39.92                19.0       2335.0      1028.0   \n",
       "4     -120.08     41.79                34.0       1355.0       434.0   \n",
       "5     -120.06     39.15                22.0       2213.0        98.0   \n",
       "6     -119.75     36.72                22.0       3247.0      4179.0   \n",
       "7     -119.28     36.33                10.0       1051.0       927.0   \n",
       "8     -114.68     33.49                20.0       1491.0      1135.0   \n",
       "9     -114.65     32.79                21.0         44.0        64.0   \n",
       "10    -114.65     34.89                17.0       2556.0      1005.0   \n",
       "11    -114.31     34.19                15.0       5612.0      1015.0   \n",
       "\n",
       "    households  median_income  median_house_value ocean_proximity  \\\n",
       "0        585.0         2.2868            103100.0      NEAR OCEAN   \n",
       "1        504.0         1.4653            310000.0          INLAND   \n",
       "2          7.0         5.5179             67500.0          INLAND   \n",
       "3        383.0         1.7267             60700.0          INLAND   \n",
       "4        178.0         2.0903             56100.0          INLAND   \n",
       "5         42.0         1.1912            170000.0          INLAND   \n",
       "6        881.0         1.3343             60800.0          INLAND   \n",
       "7        274.0         0.7800             55500.0          INLAND   \n",
       "8        303.0         1.6395             44400.0          INLAND   \n",
       "9         27.0         0.8571             25000.0          INLAND   \n",
       "10       401.0         1.6991             69100.0          INLAND   \n",
       "11       472.0         1.4936             66900.0          INLAND   \n",
       "\n",
       "    ocean_proximity_idx   ocean_proximity_ohe  \\\n",
       "0                   2.0  (0.0, 0.0, 1.0, 0.0)   \n",
       "1                   1.0  (0.0, 1.0, 0.0, 0.0)   \n",
       "2                   1.0  (0.0, 1.0, 0.0, 0.0)   \n",
       "3                   1.0  (0.0, 1.0, 0.0, 0.0)   \n",
       "4                   1.0  (0.0, 1.0, 0.0, 0.0)   \n",
       "5                   1.0  (0.0, 1.0, 0.0, 0.0)   \n",
       "6                   1.0  (0.0, 1.0, 0.0, 0.0)   \n",
       "7                   1.0  (0.0, 1.0, 0.0, 0.0)   \n",
       "8                   1.0  (0.0, 1.0, 0.0, 0.0)   \n",
       "9                   1.0  (0.0, 1.0, 0.0, 0.0)   \n",
       "10                  1.0  (0.0, 1.0, 0.0, 0.0)   \n",
       "11                  1.0  (0.0, 1.0, 0.0, 0.0)   \n",
       "\n",
       "                                   numerical_features  \\\n",
       "0   [-124.15, 41.81, 17.0, 3276.0, 3546.0, 585.0, ...   \n",
       "1   [-121.79, 38.54, 7.0, 1777.0, 4479.0, 504.0, 1...   \n",
       "2   [-120.51, 40.41, 36.0, 36.0, 4198.0, 7.0, 5.5179]   \n",
       "3   [-120.09, 39.92, 19.0, 2335.0, 1028.0, 383.0, ...   \n",
       "4   [-120.08, 41.79, 34.0, 1355.0, 434.0, 178.0, 2...   \n",
       "5   [-120.06, 39.15, 22.0, 2213.0, 98.0, 42.0, 1.1...   \n",
       "6   [-119.75, 36.72, 22.0, 3247.0, 4179.0, 881.0, ...   \n",
       "7   [-119.28, 36.33, 10.0, 1051.0, 927.0, 274.0, 0...   \n",
       "8   [-114.68, 33.49, 20.0, 1491.0, 1135.0, 303.0, ...   \n",
       "9    [-114.65, 32.79, 21.0, 44.0, 64.0, 27.0, 0.8571]   \n",
       "10  [-114.65, 34.89, 17.0, 2556.0, 1005.0, 401.0, ...   \n",
       "11  [-114.31, 34.19, 15.0, 5612.0, 1015.0, 472.0, ...   \n",
       "\n",
       "                            numerical_features_scaled  \\\n",
       "0   [-61.79738142534058, 19.48199010055772, 1.3652...   \n",
       "1   [-60.622658749836724, 17.95828506279585, 0.562...   \n",
       "2   [-59.98552102752954, 18.82963931986456, 2.8911...   \n",
       "3   [-59.7764602123975, 18.601316546621963, 1.5258...   \n",
       "4   [-59.771482573941974, 19.472670803690676, 2.73...   \n",
       "5   [-59.76152729703093, 18.242523617240725, 1.766...   \n",
       "6   [-59.607220504909655, 17.110229047894748, 1.76...   \n",
       "7   [-59.37327149749999, 16.92850275898737, 0.8030...   \n",
       "8   [-57.08355780795858, 15.60516260386697, 1.6061...   \n",
       "9   [-57.068624892592005, 15.278987213520393, 1.68...   \n",
       "10  [-57.068624892592005, 16.257513384560127, 1.36...   \n",
       "11  [-56.89938518510416, 15.931337994213546, 1.204...   \n",
       "\n",
       "                                             features     prediction  \n",
       "0   [0.0, 0.0, 1.0, 0.0, -61.79738142534058, 19.48...   -9320.579842  \n",
       "1   [0.0, 1.0, 0.0, 0.0, -60.622658749836724, 17.9... -148822.837160  \n",
       "2   [0.0, 1.0, 0.0, 0.0, -59.98552102752954, 18.82... -114008.063171  \n",
       "3   [0.0, 1.0, 0.0, 0.0, -59.7764602123975, 18.601...   -4405.362463  \n",
       "4   [0.0, 1.0, 0.0, 0.0, -59.771482573941974, 19.4...  -21247.792849  \n",
       "5   [0.0, 1.0, 0.0, 0.0, -59.76152729703093, 18.24...  -21182.882867  \n",
       "6   [0.0, 1.0, 0.0, 0.0, -59.607220504909655, 17.1...  -46015.725993  \n",
       "7   [0.0, 1.0, 0.0, 0.0, -59.37327149749999, 16.92...    -390.229504  \n",
       "8   [0.0, 1.0, 0.0, 0.0, -57.08355780795858, 15.60...   -8480.643708  \n",
       "9   [0.0, 1.0, 0.0, 0.0, -57.068624892592005, 15.2...  -10054.158048  \n",
       "10  [0.0, 1.0, 0.0, 0.0, -57.068624892592005, 16.2...  -17075.439126  \n",
       "11  [0.0, 1.0, 0.0, 0.0, -56.89938518510416, 15.93...  -16346.324872  "
      ]
     },
     "execution_count": 130,
     "metadata": {},
     "output_type": "execute_result"
    }
   ],
   "source": [
    "predictions_on_full.filter(F.col('prediction') < 0).toPandas()"
   ]
  },
  {
   "cell_type": "markdown",
   "id": "1a6eb82e",
   "metadata": {},
   "source": [
    "Отрицательных предсказаний получилось совсем немного. Если посмотреть на выборку, то можно заметить, что у этих записей возраст здания небольшой, медианный доход на жителя ниже среднего, и почти все удалены от океана. Может быть, совокупность этих признаков даёт такой результат модели. Некоторые записи вообще выглядят странно, например, где 7 домовладений, но при этом 4198 человек население. Такие записи явно аномальны, поэтому модель не смогла адекватно их оценить."
   ]
  },
  {
   "cell_type": "markdown",
   "id": "c1d2783e",
   "metadata": {},
   "source": [
    "### Обучение только на числовых данных"
   ]
  },
  {
   "cell_type": "code",
   "execution_count": 125,
   "id": "c07b05a1",
   "metadata": {},
   "outputs": [],
   "source": [
    "# обучаем модель только на числовых данных\n",
    "params_on_num, predictions_on_num = train_model('numerical_features_scaled')"
   ]
  },
  {
   "cell_type": "code",
   "execution_count": 57,
   "id": "518bd582",
   "metadata": {
    "scrolled": true
   },
   "outputs": [
    {
     "data": {
      "text/html": [
       "<div>\n",
       "<style scoped>\n",
       "    .dataframe tbody tr th:only-of-type {\n",
       "        vertical-align: middle;\n",
       "    }\n",
       "\n",
       "    .dataframe tbody tr th {\n",
       "        vertical-align: top;\n",
       "    }\n",
       "\n",
       "    .dataframe thead th {\n",
       "        text-align: right;\n",
       "    }\n",
       "</style>\n",
       "<table border=\"1\" class=\"dataframe\">\n",
       "  <thead>\n",
       "    <tr style=\"text-align: right;\">\n",
       "      <th></th>\n",
       "      <th>median_house_value</th>\n",
       "      <th>prediction</th>\n",
       "    </tr>\n",
       "  </thead>\n",
       "  <tbody>\n",
       "    <tr>\n",
       "      <th>0</th>\n",
       "      <td>103600.0</td>\n",
       "      <td>99561.784205</td>\n",
       "    </tr>\n",
       "    <tr>\n",
       "      <th>1</th>\n",
       "      <td>68400.0</td>\n",
       "      <td>74319.508140</td>\n",
       "    </tr>\n",
       "    <tr>\n",
       "      <th>2</th>\n",
       "      <td>72200.0</td>\n",
       "      <td>130245.968891</td>\n",
       "    </tr>\n",
       "    <tr>\n",
       "      <th>3</th>\n",
       "      <td>81300.0</td>\n",
       "      <td>117097.005807</td>\n",
       "    </tr>\n",
       "    <tr>\n",
       "      <th>4</th>\n",
       "      <td>70500.0</td>\n",
       "      <td>136324.294133</td>\n",
       "    </tr>\n",
       "    <tr>\n",
       "      <th>5</th>\n",
       "      <td>90000.0</td>\n",
       "      <td>183763.493365</td>\n",
       "    </tr>\n",
       "    <tr>\n",
       "      <th>6</th>\n",
       "      <td>104200.0</td>\n",
       "      <td>170115.994782</td>\n",
       "    </tr>\n",
       "    <tr>\n",
       "      <th>7</th>\n",
       "      <td>74100.0</td>\n",
       "      <td>125860.652331</td>\n",
       "    </tr>\n",
       "    <tr>\n",
       "      <th>8</th>\n",
       "      <td>67500.0</td>\n",
       "      <td>111915.548272</td>\n",
       "    </tr>\n",
       "    <tr>\n",
       "      <th>9</th>\n",
       "      <td>92500.0</td>\n",
       "      <td>143084.443367</td>\n",
       "    </tr>\n",
       "  </tbody>\n",
       "</table>\n",
       "</div>"
      ],
      "text/plain": [
       "   median_house_value     prediction\n",
       "0            103600.0   99561.784205\n",
       "1             68400.0   74319.508140\n",
       "2             72200.0  130245.968891\n",
       "3             81300.0  117097.005807\n",
       "4             70500.0  136324.294133\n",
       "5             90000.0  183763.493365\n",
       "6            104200.0  170115.994782\n",
       "7             74100.0  125860.652331\n",
       "8             67500.0  111915.548272\n",
       "9             92500.0  143084.443367"
      ]
     },
     "execution_count": 57,
     "metadata": {},
     "output_type": "execute_result"
    }
   ],
   "source": [
    "predictions_on_num.select('median_house_value', 'prediction').sample(0.5).toPandas().head(10)"
   ]
  },
  {
   "cell_type": "code",
   "execution_count": 58,
   "id": "6307456e",
   "metadata": {},
   "outputs": [
    {
     "data": {
      "text/html": [
       "<div>\n",
       "<style scoped>\n",
       "    .dataframe tbody tr th:only-of-type {\n",
       "        vertical-align: middle;\n",
       "    }\n",
       "\n",
       "    .dataframe tbody tr th {\n",
       "        vertical-align: top;\n",
       "    }\n",
       "\n",
       "    .dataframe thead th {\n",
       "        text-align: right;\n",
       "    }\n",
       "</style>\n",
       "<table border=\"1\" class=\"dataframe\">\n",
       "  <thead>\n",
       "    <tr style=\"text-align: right;\">\n",
       "      <th></th>\n",
       "      <th>median_house_value</th>\n",
       "      <th>prediction</th>\n",
       "    </tr>\n",
       "  </thead>\n",
       "  <tbody>\n",
       "    <tr>\n",
       "      <th>2067</th>\n",
       "      <td>76200.0</td>\n",
       "      <td>132935.813815</td>\n",
       "    </tr>\n",
       "    <tr>\n",
       "      <th>2068</th>\n",
       "      <td>61000.0</td>\n",
       "      <td>68696.920631</td>\n",
       "    </tr>\n",
       "    <tr>\n",
       "      <th>2069</th>\n",
       "      <td>60800.0</td>\n",
       "      <td>62222.960366</td>\n",
       "    </tr>\n",
       "    <tr>\n",
       "      <th>2070</th>\n",
       "      <td>91200.0</td>\n",
       "      <td>64000.644499</td>\n",
       "    </tr>\n",
       "    <tr>\n",
       "      <th>2071</th>\n",
       "      <td>107800.0</td>\n",
       "      <td>115085.435021</td>\n",
       "    </tr>\n",
       "    <tr>\n",
       "      <th>2072</th>\n",
       "      <td>67500.0</td>\n",
       "      <td>57988.842451</td>\n",
       "    </tr>\n",
       "    <tr>\n",
       "      <th>2073</th>\n",
       "      <td>74300.0</td>\n",
       "      <td>75298.258574</td>\n",
       "    </tr>\n",
       "    <tr>\n",
       "      <th>2074</th>\n",
       "      <td>44000.0</td>\n",
       "      <td>11744.801852</td>\n",
       "    </tr>\n",
       "    <tr>\n",
       "      <th>2075</th>\n",
       "      <td>65500.0</td>\n",
       "      <td>4406.253770</td>\n",
       "    </tr>\n",
       "    <tr>\n",
       "      <th>2076</th>\n",
       "      <td>66900.0</td>\n",
       "      <td>-55085.359467</td>\n",
       "    </tr>\n",
       "  </tbody>\n",
       "</table>\n",
       "</div>"
      ],
      "text/plain": [
       "      median_house_value     prediction\n",
       "2067             76200.0  132935.813815\n",
       "2068             61000.0   68696.920631\n",
       "2069             60800.0   62222.960366\n",
       "2070             91200.0   64000.644499\n",
       "2071            107800.0  115085.435021\n",
       "2072             67500.0   57988.842451\n",
       "2073             74300.0   75298.258574\n",
       "2074             44000.0   11744.801852\n",
       "2075             65500.0    4406.253770\n",
       "2076             66900.0  -55085.359467"
      ]
     },
     "execution_count": 58,
     "metadata": {},
     "output_type": "execute_result"
    }
   ],
   "source": [
    "predictions_on_num.select('median_house_value', 'prediction').sample(0.5).toPandas().tail(10)"
   ]
  },
  {
   "cell_type": "code",
   "execution_count": 59,
   "id": "0a55c01b",
   "metadata": {},
   "outputs": [],
   "source": [
    "rmse_on_num = RegressionEvaluator(labelCol='median_house_value', metricName='rmse').evaluate(predictions_on_num)\n",
    "r2_on_num = RegressionEvaluator(labelCol='median_house_value', metricName='r2').evaluate(predictions_on_num)\n",
    "mae_on_num = RegressionEvaluator(labelCol='median_house_value', metricName='mae').evaluate(predictions_on_num)"
   ]
  },
  {
   "cell_type": "code",
   "execution_count": 60,
   "id": "e322b7c3",
   "metadata": {
    "scrolled": true
   },
   "outputs": [
    {
     "name": "stdout",
     "output_type": "stream",
     "text": [
      "RMSE на числовых данных: 68591.95895568973\n"
     ]
    }
   ],
   "source": [
    "print(\"RMSE на числовых данных:\", rmse_on_num)"
   ]
  },
  {
   "cell_type": "code",
   "execution_count": 61,
   "id": "1fefecf2",
   "metadata": {},
   "outputs": [
    {
     "name": "stdout",
     "output_type": "stream",
     "text": [
      "MAE на числовых данных: 49972.23760294756\n"
     ]
    }
   ],
   "source": [
    "print(\"MAE на числовых данных:\", mae_on_num)"
   ]
  },
  {
   "cell_type": "code",
   "execution_count": 62,
   "id": "412bce94",
   "metadata": {},
   "outputs": [
    {
     "name": "stdout",
     "output_type": "stream",
     "text": [
      "R2 на числовых данных: 0.6340567547019039\n"
     ]
    }
   ],
   "source": [
    "print(\"R2 на числовых данных:\", r2_on_num)"
   ]
  },
  {
   "cell_type": "code",
   "execution_count": 126,
   "id": "18645f54",
   "metadata": {},
   "outputs": [
    {
     "data": {
      "text/plain": [
       "24"
      ]
     },
     "execution_count": 126,
     "metadata": {},
     "output_type": "execute_result"
    }
   ],
   "source": [
    "predictions_on_num.filter(F.col('prediction') < 0).count()"
   ]
  },
  {
   "cell_type": "code",
   "execution_count": 128,
   "id": "02dc8853",
   "metadata": {},
   "outputs": [
    {
     "data": {
      "text/html": [
       "<div>\n",
       "<style scoped>\n",
       "    .dataframe tbody tr th:only-of-type {\n",
       "        vertical-align: middle;\n",
       "    }\n",
       "\n",
       "    .dataframe tbody tr th {\n",
       "        vertical-align: top;\n",
       "    }\n",
       "\n",
       "    .dataframe thead th {\n",
       "        text-align: right;\n",
       "    }\n",
       "</style>\n",
       "<table border=\"1\" class=\"dataframe\">\n",
       "  <thead>\n",
       "    <tr style=\"text-align: right;\">\n",
       "      <th></th>\n",
       "      <th>longitude</th>\n",
       "      <th>latitude</th>\n",
       "      <th>housing_median_age</th>\n",
       "      <th>total_rooms</th>\n",
       "      <th>population</th>\n",
       "      <th>households</th>\n",
       "      <th>median_income</th>\n",
       "      <th>median_house_value</th>\n",
       "      <th>ocean_proximity</th>\n",
       "      <th>ocean_proximity_idx</th>\n",
       "      <th>ocean_proximity_ohe</th>\n",
       "      <th>numerical_features</th>\n",
       "      <th>numerical_features_scaled</th>\n",
       "      <th>features</th>\n",
       "      <th>prediction</th>\n",
       "    </tr>\n",
       "  </thead>\n",
       "  <tbody>\n",
       "    <tr>\n",
       "      <th>0</th>\n",
       "      <td>-124.15</td>\n",
       "      <td>41.81</td>\n",
       "      <td>17.0</td>\n",
       "      <td>3276.0</td>\n",
       "      <td>3546.0</td>\n",
       "      <td>585.0</td>\n",
       "      <td>2.2868</td>\n",
       "      <td>103100.0</td>\n",
       "      <td>NEAR OCEAN</td>\n",
       "      <td>2.0</td>\n",
       "      <td>(0.0, 0.0, 1.0, 0.0)</td>\n",
       "      <td>[-124.15, 41.81, 17.0, 3276.0, 3546.0, 585.0, ...</td>\n",
       "      <td>[-61.79738142534058, 19.48199010055772, 1.3652...</td>\n",
       "      <td>[0.0, 0.0, 1.0, 0.0, -61.79738142534058, 19.48...</td>\n",
       "      <td>-61584.556165</td>\n",
       "    </tr>\n",
       "    <tr>\n",
       "      <th>1</th>\n",
       "      <td>-122.26</td>\n",
       "      <td>37.87</td>\n",
       "      <td>52.0</td>\n",
       "      <td>1087.0</td>\n",
       "      <td>3337.0</td>\n",
       "      <td>350.0</td>\n",
       "      <td>1.4012</td>\n",
       "      <td>175000.0</td>\n",
       "      <td>NEAR BAY</td>\n",
       "      <td>3.0</td>\n",
       "      <td>(0.0, 0.0, 0.0, 1.0)</td>\n",
       "      <td>[-122.26, 37.87, 52.0, 1087.0, 3337.0, 350.0, ...</td>\n",
       "      <td>[-60.85660775724639, 17.64608861774984, 4.1760...</td>\n",
       "      <td>[0.0, 0.0, 0.0, 1.0, -60.85660775724639, 17.64...</td>\n",
       "      <td>-3633.638449</td>\n",
       "    </tr>\n",
       "    <tr>\n",
       "      <th>2</th>\n",
       "      <td>-122.26</td>\n",
       "      <td>41.66</td>\n",
       "      <td>17.0</td>\n",
       "      <td>1885.0</td>\n",
       "      <td>953.0</td>\n",
       "      <td>328.0</td>\n",
       "      <td>2.1607</td>\n",
       "      <td>61400.0</td>\n",
       "      <td>INLAND</td>\n",
       "      <td>1.0</td>\n",
       "      <td>(0.0, 1.0, 0.0, 0.0)</td>\n",
       "      <td>[-122.26, 41.66, 17.0, 1885.0, 953.0, 328.0, 2...</td>\n",
       "      <td>[-60.85660775724639, 19.41209537405488, 1.3652...</td>\n",
       "      <td>[0.0, 1.0, 0.0, 0.0, -60.85660775724639, 19.41...</td>\n",
       "      <td>-17087.324788</td>\n",
       "    </tr>\n",
       "    <tr>\n",
       "      <th>3</th>\n",
       "      <td>-121.93</td>\n",
       "      <td>41.86</td>\n",
       "      <td>28.0</td>\n",
       "      <td>4225.0</td>\n",
       "      <td>1908.0</td>\n",
       "      <td>686.0</td>\n",
       "      <td>1.7400</td>\n",
       "      <td>44000.0</td>\n",
       "      <td>INLAND</td>\n",
       "      <td>1.0</td>\n",
       "      <td>(0.0, 1.0, 0.0, 0.0)</td>\n",
       "      <td>[-121.93, 41.86, 28.0, 4225.0, 1908.0, 686.0, ...</td>\n",
       "      <td>[-60.69234568821407, 19.505288342725333, 2.248...</td>\n",
       "      <td>[0.0, 1.0, 0.0, 0.0, -60.69234568821407, 19.50...</td>\n",
       "      <td>-34298.707126</td>\n",
       "    </tr>\n",
       "    <tr>\n",
       "      <th>4</th>\n",
       "      <td>-121.79</td>\n",
       "      <td>38.54</td>\n",
       "      <td>7.0</td>\n",
       "      <td>1777.0</td>\n",
       "      <td>4479.0</td>\n",
       "      <td>504.0</td>\n",
       "      <td>1.4653</td>\n",
       "      <td>310000.0</td>\n",
       "      <td>INLAND</td>\n",
       "      <td>1.0</td>\n",
       "      <td>(0.0, 1.0, 0.0, 0.0)</td>\n",
       "      <td>[-121.79, 38.54, 7.0, 1777.0, 4479.0, 504.0, 1...</td>\n",
       "      <td>[-60.622658749836724, 17.95828506279585, 0.562...</td>\n",
       "      <td>[0.0, 1.0, 0.0, 0.0, -60.622658749836724, 17.9...</td>\n",
       "      <td>-142711.015892</td>\n",
       "    </tr>\n",
       "    <tr>\n",
       "      <th>5</th>\n",
       "      <td>-121.67</td>\n",
       "      <td>40.61</td>\n",
       "      <td>8.0</td>\n",
       "      <td>2411.0</td>\n",
       "      <td>786.0</td>\n",
       "      <td>297.0</td>\n",
       "      <td>2.1513</td>\n",
       "      <td>80400.0</td>\n",
       "      <td>INLAND</td>\n",
       "      <td>1.0</td>\n",
       "      <td>(0.0, 1.0, 0.0, 0.0)</td>\n",
       "      <td>[-121.67, 40.61, 8.0, 2411.0, 786.0, 297.0, 2....</td>\n",
       "      <td>[-60.56292708837042, 18.922832288535016, 0.642...</td>\n",
       "      <td>[0.0, 1.0, 0.0, 0.0, -60.56292708837042, 18.92...</td>\n",
       "      <td>-8971.625520</td>\n",
       "    </tr>\n",
       "    <tr>\n",
       "      <th>6</th>\n",
       "      <td>-121.11</td>\n",
       "      <td>41.07</td>\n",
       "      <td>26.0</td>\n",
       "      <td>1707.0</td>\n",
       "      <td>761.0</td>\n",
       "      <td>250.0</td>\n",
       "      <td>2.7188</td>\n",
       "      <td>48100.0</td>\n",
       "      <td>INLAND</td>\n",
       "      <td>1.0</td>\n",
       "      <td>(0.0, 1.0, 0.0, 0.0)</td>\n",
       "      <td>[-121.11, 41.07, 26.0, 1707.0, 761.0, 250.0, 2...</td>\n",
       "      <td>[-60.28417933486103, 19.137176116477054, 2.088...</td>\n",
       "      <td>[0.0, 1.0, 0.0, 0.0, -60.28417933486103, 19.13...</td>\n",
       "      <td>-9853.729517</td>\n",
       "    </tr>\n",
       "    <tr>\n",
       "      <th>7</th>\n",
       "      <td>-120.96</td>\n",
       "      <td>41.12</td>\n",
       "      <td>29.0</td>\n",
       "      <td>779.0</td>\n",
       "      <td>364.0</td>\n",
       "      <td>123.0</td>\n",
       "      <td>2.5000</td>\n",
       "      <td>59200.0</td>\n",
       "      <td>INLAND</td>\n",
       "      <td>1.0</td>\n",
       "      <td>(0.0, 1.0, 0.0, 0.0)</td>\n",
       "      <td>[-120.96, 41.12, 29.0, 779.0, 364.0, 123.0, 2.5]</td>\n",
       "      <td>[-60.209514758028156, 19.160474358644663, 2.32...</td>\n",
       "      <td>[0.0, 1.0, 0.0, 0.0, -60.209514758028156, 19.1...</td>\n",
       "      <td>-21943.563797</td>\n",
       "    </tr>\n",
       "    <tr>\n",
       "      <th>8</th>\n",
       "      <td>-120.74</td>\n",
       "      <td>39.39</td>\n",
       "      <td>18.0</td>\n",
       "      <td>453.0</td>\n",
       "      <td>152.0</td>\n",
       "      <td>77.0</td>\n",
       "      <td>1.3523</td>\n",
       "      <td>85700.0</td>\n",
       "      <td>INLAND</td>\n",
       "      <td>1.0</td>\n",
       "      <td>(0.0, 1.0, 0.0, 0.0)</td>\n",
       "      <td>[-120.74, 39.39, 18.0, 453.0, 152.0, 77.0, 1.3...</td>\n",
       "      <td>[-60.10000671200661, 18.354355179645268, 1.445...</td>\n",
       "      <td>[0.0, 1.0, 0.0, 0.0, -60.10000671200661, 18.35...</td>\n",
       "      <td>-17520.185312</td>\n",
       "    </tr>\n",
       "    <tr>\n",
       "      <th>9</th>\n",
       "      <td>-120.51</td>\n",
       "      <td>40.41</td>\n",
       "      <td>36.0</td>\n",
       "      <td>36.0</td>\n",
       "      <td>4198.0</td>\n",
       "      <td>7.0</td>\n",
       "      <td>5.5179</td>\n",
       "      <td>67500.0</td>\n",
       "      <td>INLAND</td>\n",
       "      <td>1.0</td>\n",
       "      <td>(0.0, 1.0, 0.0, 0.0)</td>\n",
       "      <td>[-120.51, 40.41, 36.0, 36.0, 4198.0, 7.0, 5.5179]</td>\n",
       "      <td>[-59.98552102752954, 18.82963931986456, 2.8911...</td>\n",
       "      <td>[0.0, 1.0, 0.0, 0.0, -59.98552102752954, 18.82...</td>\n",
       "      <td>-154093.561627</td>\n",
       "    </tr>\n",
       "    <tr>\n",
       "      <th>10</th>\n",
       "      <td>-120.51</td>\n",
       "      <td>41.35</td>\n",
       "      <td>16.0</td>\n",
       "      <td>2843.0</td>\n",
       "      <td>892.0</td>\n",
       "      <td>386.0</td>\n",
       "      <td>2.5074</td>\n",
       "      <td>69100.0</td>\n",
       "      <td>INLAND</td>\n",
       "      <td>1.0</td>\n",
       "      <td>(0.0, 1.0, 0.0, 0.0)</td>\n",
       "      <td>[-120.51, 41.35, 16.0, 2843.0, 892.0, 386.0, 2...</td>\n",
       "      <td>[-59.98552102752954, 19.267646272615682, 1.284...</td>\n",
       "      <td>[0.0, 1.0, 0.0, 0.0, -59.98552102752954, 19.26...</td>\n",
       "      <td>-48444.073271</td>\n",
       "    </tr>\n",
       "    <tr>\n",
       "      <th>11</th>\n",
       "      <td>-120.48</td>\n",
       "      <td>39.66</td>\n",
       "      <td>32.0</td>\n",
       "      <td>1516.0</td>\n",
       "      <td>304.0</td>\n",
       "      <td>131.0</td>\n",
       "      <td>1.8839</td>\n",
       "      <td>71000.0</td>\n",
       "      <td>INLAND</td>\n",
       "      <td>1.0</td>\n",
       "      <td>(0.0, 1.0, 0.0, 0.0)</td>\n",
       "      <td>[-120.48, 39.66, 32.0, 1516.0, 304.0, 131.0, 1...</td>\n",
       "      <td>[-59.97058811216297, 18.48016568735037, 2.5699...</td>\n",
       "      <td>[0.0, 1.0, 0.0, 0.0, -59.97058811216297, 18.48...</td>\n",
       "      <td>-3237.951885</td>\n",
       "    </tr>\n",
       "    <tr>\n",
       "      <th>12</th>\n",
       "      <td>-120.48</td>\n",
       "      <td>39.78</td>\n",
       "      <td>11.0</td>\n",
       "      <td>513.0</td>\n",
       "      <td>204.0</td>\n",
       "      <td>86.0</td>\n",
       "      <td>2.3750</td>\n",
       "      <td>100000.0</td>\n",
       "      <td>INLAND</td>\n",
       "      <td>1.0</td>\n",
       "      <td>(0.0, 1.0, 0.0, 0.0)</td>\n",
       "      <td>[-120.48, 39.78, 11.0, 513.0, 204.0, 86.0, 2.375]</td>\n",
       "      <td>[-59.97058811216297, 18.536081468552645, 0.883...</td>\n",
       "      <td>[0.0, 1.0, 0.0, 0.0, -59.97058811216297, 18.53...</td>\n",
       "      <td>-10574.784075</td>\n",
       "    </tr>\n",
       "    <tr>\n",
       "      <th>13</th>\n",
       "      <td>-120.19</td>\n",
       "      <td>39.32</td>\n",
       "      <td>16.0</td>\n",
       "      <td>1536.0</td>\n",
       "      <td>646.0</td>\n",
       "      <td>208.0</td>\n",
       "      <td>2.3594</td>\n",
       "      <td>155700.0</td>\n",
       "      <td>INLAND</td>\n",
       "      <td>1.0</td>\n",
       "      <td>(0.0, 1.0, 0.0, 0.0)</td>\n",
       "      <td>[-120.19, 39.32, 16.0, 1536.0, 646.0, 208.0, 2...</td>\n",
       "      <td>[-59.82623659695275, 18.321737640610607, 1.284...</td>\n",
       "      <td>[0.0, 1.0, 0.0, 0.0, -59.82623659695275, 18.32...</td>\n",
       "      <td>-4563.605875</td>\n",
       "    </tr>\n",
       "    <tr>\n",
       "      <th>14</th>\n",
       "      <td>-120.12</td>\n",
       "      <td>41.40</td>\n",
       "      <td>33.0</td>\n",
       "      <td>2820.0</td>\n",
       "      <td>976.0</td>\n",
       "      <td>403.0</td>\n",
       "      <td>2.6062</td>\n",
       "      <td>52600.0</td>\n",
       "      <td>INLAND</td>\n",
       "      <td>1.0</td>\n",
       "      <td>(0.0, 1.0, 0.0, 0.0)</td>\n",
       "      <td>[-120.12, 41.4, 33.0, 2820.0, 976.0, 403.0, 2....</td>\n",
       "      <td>[-59.79139312776408, 19.290944514783295, 2.650...</td>\n",
       "      <td>[0.0, 1.0, 0.0, 0.0, -59.79139312776408, 19.29...</td>\n",
       "      <td>-42952.663264</td>\n",
       "    </tr>\n",
       "    <tr>\n",
       "      <th>15</th>\n",
       "      <td>-120.09</td>\n",
       "      <td>39.92</td>\n",
       "      <td>19.0</td>\n",
       "      <td>2335.0</td>\n",
       "      <td>1028.0</td>\n",
       "      <td>383.0</td>\n",
       "      <td>1.7267</td>\n",
       "      <td>60700.0</td>\n",
       "      <td>INLAND</td>\n",
       "      <td>1.0</td>\n",
       "      <td>(0.0, 1.0, 0.0, 0.0)</td>\n",
       "      <td>[-120.09, 39.92, 19.0, 2335.0, 1028.0, 383.0, ...</td>\n",
       "      <td>[-59.7764602123975, 18.601316546621963, 1.5258...</td>\n",
       "      <td>[0.0, 1.0, 0.0, 0.0, -59.7764602123975, 18.601...</td>\n",
       "      <td>-43675.026380</td>\n",
       "    </tr>\n",
       "    <tr>\n",
       "      <th>16</th>\n",
       "      <td>-120.08</td>\n",
       "      <td>41.79</td>\n",
       "      <td>34.0</td>\n",
       "      <td>1355.0</td>\n",
       "      <td>434.0</td>\n",
       "      <td>178.0</td>\n",
       "      <td>2.0903</td>\n",
       "      <td>56100.0</td>\n",
       "      <td>INLAND</td>\n",
       "      <td>1.0</td>\n",
       "      <td>(0.0, 1.0, 0.0, 0.0)</td>\n",
       "      <td>[-120.08, 41.79, 34.0, 1355.0, 434.0, 178.0, 2...</td>\n",
       "      <td>[-59.771482573941974, 19.472670803690676, 2.73...</td>\n",
       "      <td>[0.0, 1.0, 0.0, 0.0, -59.771482573941974, 19.4...</td>\n",
       "      <td>-89736.495739</td>\n",
       "    </tr>\n",
       "    <tr>\n",
       "      <th>17</th>\n",
       "      <td>-120.06</td>\n",
       "      <td>39.15</td>\n",
       "      <td>22.0</td>\n",
       "      <td>2213.0</td>\n",
       "      <td>98.0</td>\n",
       "      <td>42.0</td>\n",
       "      <td>1.1912</td>\n",
       "      <td>170000.0</td>\n",
       "      <td>INLAND</td>\n",
       "      <td>1.0</td>\n",
       "      <td>(0.0, 1.0, 0.0, 0.0)</td>\n",
       "      <td>[-120.06, 39.15, 22.0, 2213.0, 98.0, 42.0, 1.1...</td>\n",
       "      <td>[-59.76152729703093, 18.242523617240725, 1.766...</td>\n",
       "      <td>[0.0, 1.0, 0.0, 0.0, -59.76152729703093, 18.24...</td>\n",
       "      <td>-52087.391879</td>\n",
       "    </tr>\n",
       "    <tr>\n",
       "      <th>18</th>\n",
       "      <td>-119.75</td>\n",
       "      <td>36.72</td>\n",
       "      <td>22.0</td>\n",
       "      <td>3247.0</td>\n",
       "      <td>4179.0</td>\n",
       "      <td>881.0</td>\n",
       "      <td>1.3343</td>\n",
       "      <td>60800.0</td>\n",
       "      <td>INLAND</td>\n",
       "      <td>1.0</td>\n",
       "      <td>(0.0, 1.0, 0.0, 0.0)</td>\n",
       "      <td>[-119.75, 36.72, 22.0, 3247.0, 4179.0, 881.0, ...</td>\n",
       "      <td>[-59.607220504909655, 17.110229047894748, 1.76...</td>\n",
       "      <td>[0.0, 1.0, 0.0, 0.0, -59.607220504909655, 17.1...</td>\n",
       "      <td>-37063.411519</td>\n",
       "    </tr>\n",
       "    <tr>\n",
       "      <th>19</th>\n",
       "      <td>-117.02</td>\n",
       "      <td>36.40</td>\n",
       "      <td>19.0</td>\n",
       "      <td>619.0</td>\n",
       "      <td>490.0</td>\n",
       "      <td>164.0</td>\n",
       "      <td>2.1000</td>\n",
       "      <td>14999.0</td>\n",
       "      <td>INLAND</td>\n",
       "      <td>1.0</td>\n",
       "      <td>(0.0, 1.0, 0.0, 0.0)</td>\n",
       "      <td>[-117.02, 36.4, 19.0, 619.0, 490.0, 164.0, 2.1]</td>\n",
       "      <td>[-58.248325206551385, 16.961120298022028, 1.52...</td>\n",
       "      <td>[0.0, 1.0, 0.0, 0.0, -58.248325206551385, 16.9...</td>\n",
       "      <td>-15281.095288</td>\n",
       "    </tr>\n",
       "    <tr>\n",
       "      <th>20</th>\n",
       "      <td>-114.68</td>\n",
       "      <td>33.49</td>\n",
       "      <td>20.0</td>\n",
       "      <td>1491.0</td>\n",
       "      <td>1135.0</td>\n",
       "      <td>303.0</td>\n",
       "      <td>1.6395</td>\n",
       "      <td>44400.0</td>\n",
       "      <td>INLAND</td>\n",
       "      <td>1.0</td>\n",
       "      <td>(0.0, 1.0, 0.0, 0.0)</td>\n",
       "      <td>[-114.68, 33.49, 20.0, 1491.0, 1135.0, 303.0, ...</td>\n",
       "      <td>[-57.08355780795858, 15.60516260386697, 1.6061...</td>\n",
       "      <td>[0.0, 1.0, 0.0, 0.0, -57.08355780795858, 15.60...</td>\n",
       "      <td>-24260.782783</td>\n",
       "    </tr>\n",
       "    <tr>\n",
       "      <th>21</th>\n",
       "      <td>-114.65</td>\n",
       "      <td>32.79</td>\n",
       "      <td>21.0</td>\n",
       "      <td>44.0</td>\n",
       "      <td>64.0</td>\n",
       "      <td>27.0</td>\n",
       "      <td>0.8571</td>\n",
       "      <td>25000.0</td>\n",
       "      <td>INLAND</td>\n",
       "      <td>1.0</td>\n",
       "      <td>(0.0, 1.0, 0.0, 0.0)</td>\n",
       "      <td>[-114.65, 32.79, 21.0, 44.0, 64.0, 27.0, 0.8571]</td>\n",
       "      <td>[-57.068624892592005, 15.278987213520393, 1.68...</td>\n",
       "      <td>[0.0, 1.0, 0.0, 0.0, -57.068624892592005, 15.2...</td>\n",
       "      <td>-15427.764302</td>\n",
       "    </tr>\n",
       "    <tr>\n",
       "      <th>22</th>\n",
       "      <td>-114.65</td>\n",
       "      <td>34.89</td>\n",
       "      <td>17.0</td>\n",
       "      <td>2556.0</td>\n",
       "      <td>1005.0</td>\n",
       "      <td>401.0</td>\n",
       "      <td>1.6991</td>\n",
       "      <td>69100.0</td>\n",
       "      <td>INLAND</td>\n",
       "      <td>1.0</td>\n",
       "      <td>(0.0, 1.0, 0.0, 0.0)</td>\n",
       "      <td>[-114.65, 34.89, 17.0, 2556.0, 1005.0, 401.0, ...</td>\n",
       "      <td>[-57.068624892592005, 16.257513384560127, 1.36...</td>\n",
       "      <td>[0.0, 1.0, 0.0, 0.0, -57.068624892592005, 16.2...</td>\n",
       "      <td>-56824.697692</td>\n",
       "    </tr>\n",
       "    <tr>\n",
       "      <th>23</th>\n",
       "      <td>-114.31</td>\n",
       "      <td>34.19</td>\n",
       "      <td>15.0</td>\n",
       "      <td>5612.0</td>\n",
       "      <td>1015.0</td>\n",
       "      <td>472.0</td>\n",
       "      <td>1.4936</td>\n",
       "      <td>66900.0</td>\n",
       "      <td>INLAND</td>\n",
       "      <td>1.0</td>\n",
       "      <td>(0.0, 1.0, 0.0, 0.0)</td>\n",
       "      <td>[-114.31, 34.19, 15.0, 5612.0, 1015.0, 472.0, ...</td>\n",
       "      <td>[-56.89938518510416, 15.931337994213546, 1.204...</td>\n",
       "      <td>[0.0, 1.0, 0.0, 0.0, -56.89938518510416, 15.93...</td>\n",
       "      <td>-55085.359467</td>\n",
       "    </tr>\n",
       "  </tbody>\n",
       "</table>\n",
       "</div>"
      ],
      "text/plain": [
       "    longitude  latitude  housing_median_age  total_rooms  population  \\\n",
       "0     -124.15     41.81                17.0       3276.0      3546.0   \n",
       "1     -122.26     37.87                52.0       1087.0      3337.0   \n",
       "2     -122.26     41.66                17.0       1885.0       953.0   \n",
       "3     -121.93     41.86                28.0       4225.0      1908.0   \n",
       "4     -121.79     38.54                 7.0       1777.0      4479.0   \n",
       "5     -121.67     40.61                 8.0       2411.0       786.0   \n",
       "6     -121.11     41.07                26.0       1707.0       761.0   \n",
       "7     -120.96     41.12                29.0        779.0       364.0   \n",
       "8     -120.74     39.39                18.0        453.0       152.0   \n",
       "9     -120.51     40.41                36.0         36.0      4198.0   \n",
       "10    -120.51     41.35                16.0       2843.0       892.0   \n",
       "11    -120.48     39.66                32.0       1516.0       304.0   \n",
       "12    -120.48     39.78                11.0        513.0       204.0   \n",
       "13    -120.19     39.32                16.0       1536.0       646.0   \n",
       "14    -120.12     41.40                33.0       2820.0       976.0   \n",
       "15    -120.09     39.92                19.0       2335.0      1028.0   \n",
       "16    -120.08     41.79                34.0       1355.0       434.0   \n",
       "17    -120.06     39.15                22.0       2213.0        98.0   \n",
       "18    -119.75     36.72                22.0       3247.0      4179.0   \n",
       "19    -117.02     36.40                19.0        619.0       490.0   \n",
       "20    -114.68     33.49                20.0       1491.0      1135.0   \n",
       "21    -114.65     32.79                21.0         44.0        64.0   \n",
       "22    -114.65     34.89                17.0       2556.0      1005.0   \n",
       "23    -114.31     34.19                15.0       5612.0      1015.0   \n",
       "\n",
       "    households  median_income  median_house_value ocean_proximity  \\\n",
       "0        585.0         2.2868            103100.0      NEAR OCEAN   \n",
       "1        350.0         1.4012            175000.0        NEAR BAY   \n",
       "2        328.0         2.1607             61400.0          INLAND   \n",
       "3        686.0         1.7400             44000.0          INLAND   \n",
       "4        504.0         1.4653            310000.0          INLAND   \n",
       "5        297.0         2.1513             80400.0          INLAND   \n",
       "6        250.0         2.7188             48100.0          INLAND   \n",
       "7        123.0         2.5000             59200.0          INLAND   \n",
       "8         77.0         1.3523             85700.0          INLAND   \n",
       "9          7.0         5.5179             67500.0          INLAND   \n",
       "10       386.0         2.5074             69100.0          INLAND   \n",
       "11       131.0         1.8839             71000.0          INLAND   \n",
       "12        86.0         2.3750            100000.0          INLAND   \n",
       "13       208.0         2.3594            155700.0          INLAND   \n",
       "14       403.0         2.6062             52600.0          INLAND   \n",
       "15       383.0         1.7267             60700.0          INLAND   \n",
       "16       178.0         2.0903             56100.0          INLAND   \n",
       "17        42.0         1.1912            170000.0          INLAND   \n",
       "18       881.0         1.3343             60800.0          INLAND   \n",
       "19       164.0         2.1000             14999.0          INLAND   \n",
       "20       303.0         1.6395             44400.0          INLAND   \n",
       "21        27.0         0.8571             25000.0          INLAND   \n",
       "22       401.0         1.6991             69100.0          INLAND   \n",
       "23       472.0         1.4936             66900.0          INLAND   \n",
       "\n",
       "    ocean_proximity_idx   ocean_proximity_ohe  \\\n",
       "0                   2.0  (0.0, 0.0, 1.0, 0.0)   \n",
       "1                   3.0  (0.0, 0.0, 0.0, 1.0)   \n",
       "2                   1.0  (0.0, 1.0, 0.0, 0.0)   \n",
       "3                   1.0  (0.0, 1.0, 0.0, 0.0)   \n",
       "4                   1.0  (0.0, 1.0, 0.0, 0.0)   \n",
       "5                   1.0  (0.0, 1.0, 0.0, 0.0)   \n",
       "6                   1.0  (0.0, 1.0, 0.0, 0.0)   \n",
       "7                   1.0  (0.0, 1.0, 0.0, 0.0)   \n",
       "8                   1.0  (0.0, 1.0, 0.0, 0.0)   \n",
       "9                   1.0  (0.0, 1.0, 0.0, 0.0)   \n",
       "10                  1.0  (0.0, 1.0, 0.0, 0.0)   \n",
       "11                  1.0  (0.0, 1.0, 0.0, 0.0)   \n",
       "12                  1.0  (0.0, 1.0, 0.0, 0.0)   \n",
       "13                  1.0  (0.0, 1.0, 0.0, 0.0)   \n",
       "14                  1.0  (0.0, 1.0, 0.0, 0.0)   \n",
       "15                  1.0  (0.0, 1.0, 0.0, 0.0)   \n",
       "16                  1.0  (0.0, 1.0, 0.0, 0.0)   \n",
       "17                  1.0  (0.0, 1.0, 0.0, 0.0)   \n",
       "18                  1.0  (0.0, 1.0, 0.0, 0.0)   \n",
       "19                  1.0  (0.0, 1.0, 0.0, 0.0)   \n",
       "20                  1.0  (0.0, 1.0, 0.0, 0.0)   \n",
       "21                  1.0  (0.0, 1.0, 0.0, 0.0)   \n",
       "22                  1.0  (0.0, 1.0, 0.0, 0.0)   \n",
       "23                  1.0  (0.0, 1.0, 0.0, 0.0)   \n",
       "\n",
       "                                   numerical_features  \\\n",
       "0   [-124.15, 41.81, 17.0, 3276.0, 3546.0, 585.0, ...   \n",
       "1   [-122.26, 37.87, 52.0, 1087.0, 3337.0, 350.0, ...   \n",
       "2   [-122.26, 41.66, 17.0, 1885.0, 953.0, 328.0, 2...   \n",
       "3   [-121.93, 41.86, 28.0, 4225.0, 1908.0, 686.0, ...   \n",
       "4   [-121.79, 38.54, 7.0, 1777.0, 4479.0, 504.0, 1...   \n",
       "5   [-121.67, 40.61, 8.0, 2411.0, 786.0, 297.0, 2....   \n",
       "6   [-121.11, 41.07, 26.0, 1707.0, 761.0, 250.0, 2...   \n",
       "7    [-120.96, 41.12, 29.0, 779.0, 364.0, 123.0, 2.5]   \n",
       "8   [-120.74, 39.39, 18.0, 453.0, 152.0, 77.0, 1.3...   \n",
       "9   [-120.51, 40.41, 36.0, 36.0, 4198.0, 7.0, 5.5179]   \n",
       "10  [-120.51, 41.35, 16.0, 2843.0, 892.0, 386.0, 2...   \n",
       "11  [-120.48, 39.66, 32.0, 1516.0, 304.0, 131.0, 1...   \n",
       "12  [-120.48, 39.78, 11.0, 513.0, 204.0, 86.0, 2.375]   \n",
       "13  [-120.19, 39.32, 16.0, 1536.0, 646.0, 208.0, 2...   \n",
       "14  [-120.12, 41.4, 33.0, 2820.0, 976.0, 403.0, 2....   \n",
       "15  [-120.09, 39.92, 19.0, 2335.0, 1028.0, 383.0, ...   \n",
       "16  [-120.08, 41.79, 34.0, 1355.0, 434.0, 178.0, 2...   \n",
       "17  [-120.06, 39.15, 22.0, 2213.0, 98.0, 42.0, 1.1...   \n",
       "18  [-119.75, 36.72, 22.0, 3247.0, 4179.0, 881.0, ...   \n",
       "19    [-117.02, 36.4, 19.0, 619.0, 490.0, 164.0, 2.1]   \n",
       "20  [-114.68, 33.49, 20.0, 1491.0, 1135.0, 303.0, ...   \n",
       "21   [-114.65, 32.79, 21.0, 44.0, 64.0, 27.0, 0.8571]   \n",
       "22  [-114.65, 34.89, 17.0, 2556.0, 1005.0, 401.0, ...   \n",
       "23  [-114.31, 34.19, 15.0, 5612.0, 1015.0, 472.0, ...   \n",
       "\n",
       "                            numerical_features_scaled  \\\n",
       "0   [-61.79738142534058, 19.48199010055772, 1.3652...   \n",
       "1   [-60.85660775724639, 17.64608861774984, 4.1760...   \n",
       "2   [-60.85660775724639, 19.41209537405488, 1.3652...   \n",
       "3   [-60.69234568821407, 19.505288342725333, 2.248...   \n",
       "4   [-60.622658749836724, 17.95828506279585, 0.562...   \n",
       "5   [-60.56292708837042, 18.922832288535016, 0.642...   \n",
       "6   [-60.28417933486103, 19.137176116477054, 2.088...   \n",
       "7   [-60.209514758028156, 19.160474358644663, 2.32...   \n",
       "8   [-60.10000671200661, 18.354355179645268, 1.445...   \n",
       "9   [-59.98552102752954, 18.82963931986456, 2.8911...   \n",
       "10  [-59.98552102752954, 19.267646272615682, 1.284...   \n",
       "11  [-59.97058811216297, 18.48016568735037, 2.5699...   \n",
       "12  [-59.97058811216297, 18.536081468552645, 0.883...   \n",
       "13  [-59.82623659695275, 18.321737640610607, 1.284...   \n",
       "14  [-59.79139312776408, 19.290944514783295, 2.650...   \n",
       "15  [-59.7764602123975, 18.601316546621963, 1.5258...   \n",
       "16  [-59.771482573941974, 19.472670803690676, 2.73...   \n",
       "17  [-59.76152729703093, 18.242523617240725, 1.766...   \n",
       "18  [-59.607220504909655, 17.110229047894748, 1.76...   \n",
       "19  [-58.248325206551385, 16.961120298022028, 1.52...   \n",
       "20  [-57.08355780795858, 15.60516260386697, 1.6061...   \n",
       "21  [-57.068624892592005, 15.278987213520393, 1.68...   \n",
       "22  [-57.068624892592005, 16.257513384560127, 1.36...   \n",
       "23  [-56.89938518510416, 15.931337994213546, 1.204...   \n",
       "\n",
       "                                             features     prediction  \n",
       "0   [0.0, 0.0, 1.0, 0.0, -61.79738142534058, 19.48...  -61584.556165  \n",
       "1   [0.0, 0.0, 0.0, 1.0, -60.85660775724639, 17.64...   -3633.638449  \n",
       "2   [0.0, 1.0, 0.0, 0.0, -60.85660775724639, 19.41...  -17087.324788  \n",
       "3   [0.0, 1.0, 0.0, 0.0, -60.69234568821407, 19.50...  -34298.707126  \n",
       "4   [0.0, 1.0, 0.0, 0.0, -60.622658749836724, 17.9... -142711.015892  \n",
       "5   [0.0, 1.0, 0.0, 0.0, -60.56292708837042, 18.92...   -8971.625520  \n",
       "6   [0.0, 1.0, 0.0, 0.0, -60.28417933486103, 19.13...   -9853.729517  \n",
       "7   [0.0, 1.0, 0.0, 0.0, -60.209514758028156, 19.1...  -21943.563797  \n",
       "8   [0.0, 1.0, 0.0, 0.0, -60.10000671200661, 18.35...  -17520.185312  \n",
       "9   [0.0, 1.0, 0.0, 0.0, -59.98552102752954, 18.82... -154093.561627  \n",
       "10  [0.0, 1.0, 0.0, 0.0, -59.98552102752954, 19.26...  -48444.073271  \n",
       "11  [0.0, 1.0, 0.0, 0.0, -59.97058811216297, 18.48...   -3237.951885  \n",
       "12  [0.0, 1.0, 0.0, 0.0, -59.97058811216297, 18.53...  -10574.784075  \n",
       "13  [0.0, 1.0, 0.0, 0.0, -59.82623659695275, 18.32...   -4563.605875  \n",
       "14  [0.0, 1.0, 0.0, 0.0, -59.79139312776408, 19.29...  -42952.663264  \n",
       "15  [0.0, 1.0, 0.0, 0.0, -59.7764602123975, 18.601...  -43675.026380  \n",
       "16  [0.0, 1.0, 0.0, 0.0, -59.771482573941974, 19.4...  -89736.495739  \n",
       "17  [0.0, 1.0, 0.0, 0.0, -59.76152729703093, 18.24...  -52087.391879  \n",
       "18  [0.0, 1.0, 0.0, 0.0, -59.607220504909655, 17.1...  -37063.411519  \n",
       "19  [0.0, 1.0, 0.0, 0.0, -58.248325206551385, 16.9...  -15281.095288  \n",
       "20  [0.0, 1.0, 0.0, 0.0, -57.08355780795858, 15.60...  -24260.782783  \n",
       "21  [0.0, 1.0, 0.0, 0.0, -57.068624892592005, 15.2...  -15427.764302  \n",
       "22  [0.0, 1.0, 0.0, 0.0, -57.068624892592005, 16.2...  -56824.697692  \n",
       "23  [0.0, 1.0, 0.0, 0.0, -56.89938518510416, 15.93...  -55085.359467  "
      ]
     },
     "execution_count": 128,
     "metadata": {},
     "output_type": "execute_result"
    }
   ],
   "source": [
    "predictions_on_num.filter(F.col('prediction') < 0).toPandas()"
   ]
  },
  {
   "cell_type": "markdown",
   "id": "3737136f",
   "metadata": {},
   "source": [
    "Здесь ситуация с отрицательными значениями обстоит так же, как и с результатами на полном наборе данных: закономерности те же, самих отрицательных значений немного, хоть и больше, чем в первом случае."
   ]
  },
  {
   "cell_type": "code",
   "execution_count": 63,
   "id": "934392bd",
   "metadata": {},
   "outputs": [],
   "source": [
    "spark.stop()"
   ]
  },
  {
   "cell_type": "markdown",
   "id": "757fd103",
   "metadata": {
    "id": "757fd103"
   },
   "source": [
    "## Анализ результатов"
   ]
  },
  {
   "cell_type": "markdown",
   "id": "5ed5ab24",
   "metadata": {},
   "source": [
    "Все три метрики - RMSE, MAE и R2 - показали, что модель показывает лучшее качество на данных, включающих в себя категориальный признак, чем только на числовых данных.<br>\n",
    "\n",
    "**RMSE:** 67743<br>\n",
    "**MAE:** 48929<br>\n",
    "**R2:** 0.643<br>"
   ]
  }
 ],
 "metadata": {
  "ExecuteTimeLog": [
   {
    "duration": 280,
    "start_time": "2022-11-27T16:18:10.644Z"
   },
   {
    "duration": 16248,
    "start_time": "2022-11-27T16:20:36.728Z"
   },
   {
    "duration": 7457,
    "start_time": "2022-11-27T16:23:11.187Z"
   },
   {
    "duration": 14,
    "start_time": "2022-11-27T16:23:37.892Z"
   },
   {
    "duration": 570,
    "start_time": "2022-11-27T16:23:56.356Z"
   },
   {
    "duration": 305,
    "start_time": "2022-11-27T16:24:17.178Z"
   },
   {
    "duration": 814,
    "start_time": "2022-11-27T16:27:12.128Z"
   },
   {
    "duration": 50,
    "start_time": "2022-11-27T16:27:26.955Z"
   },
   {
    "duration": 21,
    "start_time": "2022-11-27T16:27:45.842Z"
   },
   {
    "duration": 3,
    "start_time": "2022-11-27T16:31:05.417Z"
   },
   {
    "duration": 49,
    "start_time": "2022-11-27T16:31:35.725Z"
   },
   {
    "duration": 19,
    "start_time": "2022-11-27T16:31:57.165Z"
   },
   {
    "duration": 7,
    "start_time": "2022-11-27T16:32:01.119Z"
   },
   {
    "duration": 17,
    "start_time": "2022-11-27T16:32:15.623Z"
   },
   {
    "duration": 9,
    "start_time": "2022-11-27T16:34:23.930Z"
   },
   {
    "duration": 11,
    "start_time": "2022-11-27T16:37:22.639Z"
   },
   {
    "duration": 13,
    "start_time": "2022-11-27T16:37:38.423Z"
   },
   {
    "duration": 12,
    "start_time": "2022-11-27T16:38:06.686Z"
   },
   {
    "duration": 17,
    "start_time": "2022-11-27T16:42:16.858Z"
   },
   {
    "duration": 17,
    "start_time": "2022-11-27T16:42:36.016Z"
   },
   {
    "duration": 41,
    "start_time": "2022-11-27T16:44:47.433Z"
   },
   {
    "duration": 10,
    "start_time": "2022-11-27T16:44:56.472Z"
   },
   {
    "duration": 3,
    "start_time": "2022-11-27T16:45:08.228Z"
   },
   {
    "duration": 32,
    "start_time": "2022-11-27T16:45:12.833Z"
   },
   {
    "duration": 4420,
    "start_time": "2022-11-27T16:46:14.625Z"
   },
   {
    "duration": 3453,
    "start_time": "2022-11-27T16:47:05.589Z"
   },
   {
    "duration": 9,
    "start_time": "2022-11-27T16:48:04.083Z"
   },
   {
    "duration": 7,
    "start_time": "2022-11-27T16:48:20.243Z"
   },
   {
    "duration": 1999,
    "start_time": "2022-11-27T16:48:33.454Z"
   },
   {
    "duration": 6,
    "start_time": "2022-11-27T16:52:02.581Z"
   },
   {
    "duration": 21,
    "start_time": "2022-11-27T16:53:49.123Z"
   },
   {
    "duration": 20,
    "start_time": "2022-11-27T16:54:14.788Z"
   },
   {
    "duration": 15,
    "start_time": "2022-11-27T16:54:53.101Z"
   },
   {
    "duration": 7,
    "start_time": "2022-11-27T16:57:14.029Z"
   },
   {
    "duration": 9,
    "start_time": "2022-11-27T16:57:43.047Z"
   },
   {
    "duration": 14,
    "start_time": "2022-11-27T16:57:57.450Z"
   },
   {
    "duration": 22,
    "start_time": "2022-11-27T16:58:27.845Z"
   },
   {
    "duration": 2373,
    "start_time": "2022-11-27T16:58:50.649Z"
   },
   {
    "duration": 2111,
    "start_time": "2022-11-27T16:59:03.180Z"
   },
   {
    "duration": 1971,
    "start_time": "2022-11-27T17:00:01.151Z"
   },
   {
    "duration": 189,
    "start_time": "2022-11-27T17:01:38.343Z"
   },
   {
    "duration": 800,
    "start_time": "2022-11-27T17:01:59.961Z"
   },
   {
    "duration": 21,
    "start_time": "2022-11-27T17:02:08.197Z"
   },
   {
    "duration": 23,
    "start_time": "2022-11-27T17:06:29.893Z"
   },
   {
    "duration": 98,
    "start_time": "2022-11-27T17:08:07.328Z"
   },
   {
    "duration": 25,
    "start_time": "2022-11-27T17:10:43.231Z"
   },
   {
    "duration": 12,
    "start_time": "2022-11-27T17:10:53.137Z"
   },
   {
    "duration": 12,
    "start_time": "2022-11-27T17:11:02.959Z"
   },
   {
    "duration": 11,
    "start_time": "2022-11-27T17:11:18.897Z"
   },
   {
    "duration": 25,
    "start_time": "2022-11-27T17:11:25.108Z"
   },
   {
    "duration": 44,
    "start_time": "2022-11-27T17:11:53.283Z"
   },
   {
    "duration": 58,
    "start_time": "2022-11-27T17:13:13.050Z"
   },
   {
    "duration": 74,
    "start_time": "2022-11-27T17:13:23.244Z"
   },
   {
    "duration": 16,
    "start_time": "2022-11-27T17:16:40.377Z"
   },
   {
    "duration": 8,
    "start_time": "2022-11-27T17:33:08.148Z"
   },
   {
    "duration": 8,
    "start_time": "2022-11-27T17:33:55.378Z"
   },
   {
    "duration": 10,
    "start_time": "2022-11-27T17:34:31.054Z"
   },
   {
    "duration": 9,
    "start_time": "2022-11-27T17:34:44.794Z"
   },
   {
    "duration": 228,
    "start_time": "2022-11-27T17:35:25.408Z"
   },
   {
    "duration": 14,
    "start_time": "2022-11-27T17:36:17.523Z"
   },
   {
    "duration": 14,
    "start_time": "2022-11-27T17:38:15.442Z"
   },
   {
    "duration": 279,
    "start_time": "2022-11-27T17:39:08.727Z"
   },
   {
    "duration": 37,
    "start_time": "2022-11-27T17:39:51.042Z"
   },
   {
    "duration": 907,
    "start_time": "2022-11-27T17:40:04.796Z"
   },
   {
    "duration": 39,
    "start_time": "2022-11-27T17:40:18.410Z"
   },
   {
    "duration": 266,
    "start_time": "2022-11-27T17:43:15.345Z"
   },
   {
    "duration": 214,
    "start_time": "2022-11-27T17:49:12.155Z"
   },
   {
    "duration": 1553,
    "start_time": "2022-11-27T17:51:22.777Z"
   },
   {
    "duration": 477,
    "start_time": "2022-11-27T17:51:48.745Z"
   },
   {
    "duration": 8,
    "start_time": "2022-11-27T17:53:28.156Z"
   },
   {
    "duration": 8,
    "start_time": "2022-11-27T17:53:38.722Z"
   },
   {
    "duration": 7,
    "start_time": "2022-11-27T17:53:44.441Z"
   },
   {
    "duration": 16,
    "start_time": "2022-11-27T17:55:03.303Z"
   },
   {
    "duration": 210,
    "start_time": "2022-11-27T17:56:02.822Z"
   },
   {
    "duration": 194,
    "start_time": "2022-11-27T17:56:06.433Z"
   },
   {
    "duration": 10,
    "start_time": "2022-11-27T18:08:55.856Z"
   },
   {
    "duration": 247,
    "start_time": "2022-11-27T18:09:06.120Z"
   },
   {
    "duration": 8,
    "start_time": "2022-11-27T18:09:14.681Z"
   },
   {
    "duration": 10,
    "start_time": "2022-11-27T18:09:31.281Z"
   },
   {
    "duration": 13,
    "start_time": "2022-11-27T18:09:41.878Z"
   },
   {
    "duration": 103,
    "start_time": "2022-11-27T18:09:43.602Z"
   },
   {
    "duration": 368,
    "start_time": "2022-11-27T18:12:09.070Z"
   },
   {
    "duration": 139,
    "start_time": "2022-11-27T18:12:35.073Z"
   },
   {
    "duration": 196,
    "start_time": "2022-11-27T18:12:42.889Z"
   },
   {
    "duration": 2,
    "start_time": "2022-11-27T18:19:09.469Z"
   },
   {
    "duration": 19,
    "start_time": "2022-11-27T18:20:02.471Z"
   },
   {
    "duration": 268,
    "start_time": "2022-11-27T18:20:16.859Z"
   },
   {
    "duration": 119,
    "start_time": "2022-11-27T18:20:20.988Z"
   },
   {
    "duration": 1035,
    "start_time": "2022-11-27T18:22:28.831Z"
   },
   {
    "duration": 248,
    "start_time": "2022-11-27T18:22:32.387Z"
   },
   {
    "duration": 3,
    "start_time": "2022-11-27T18:26:42.899Z"
   },
   {
    "duration": 33,
    "start_time": "2022-11-27T18:28:01.160Z"
   },
   {
    "duration": 704,
    "start_time": "2022-11-27T18:28:22.249Z"
   },
   {
    "duration": 14511,
    "start_time": "2022-11-27T18:28:22.955Z"
   },
   {
    "duration": 7847,
    "start_time": "2022-11-27T18:28:37.523Z"
   },
   {
    "duration": 57,
    "start_time": "2022-11-27T18:28:45.372Z"
   },
   {
    "duration": 690,
    "start_time": "2022-11-27T18:28:45.432Z"
   },
   {
    "duration": 4716,
    "start_time": "2022-11-27T18:28:46.124Z"
   },
   {
    "duration": 3181,
    "start_time": "2022-11-27T18:28:50.842Z"
   },
   {
    "duration": 307,
    "start_time": "2022-11-27T18:28:54.025Z"
   },
   {
    "duration": 188,
    "start_time": "2022-11-27T18:28:54.333Z"
   },
   {
    "duration": 1419,
    "start_time": "2022-11-27T18:28:54.523Z"
   },
   {
    "duration": 3,
    "start_time": "2022-11-27T18:28:55.944Z"
   },
   {
    "duration": 1645,
    "start_time": "2022-11-27T18:29:15.883Z"
   },
   {
    "duration": 605,
    "start_time": "2022-11-27T18:30:01.751Z"
   },
   {
    "duration": 39,
    "start_time": "2022-11-27T18:30:30.676Z"
   },
   {
    "duration": 1155,
    "start_time": "2022-11-27T18:30:40.767Z"
   },
   {
    "duration": 335,
    "start_time": "2022-11-27T18:30:43.212Z"
   },
   {
    "duration": 256,
    "start_time": "2022-11-27T18:32:40.681Z"
   },
   {
    "duration": 4,
    "start_time": "2022-11-27T18:34:26.480Z"
   },
   {
    "duration": 3066,
    "start_time": "2022-11-27T18:34:52.778Z"
   },
   {
    "duration": 270201,
    "start_time": "2022-11-27T18:36:43.727Z"
   },
   {
    "duration": 8,
    "start_time": "2022-11-27T18:41:26.261Z"
   },
   {
    "duration": 10,
    "start_time": "2022-11-27T18:42:14.613Z"
   },
   {
    "duration": 555053,
    "start_time": "2022-11-27T18:42:23.369Z"
   },
   {
    "duration": 45,
    "start_time": "2022-11-27T18:57:18.590Z"
   },
   {
    "duration": 695,
    "start_time": "2022-11-27T19:00:42.264Z"
   },
   {
    "duration": 14304,
    "start_time": "2022-11-27T19:00:42.961Z"
   },
   {
    "duration": 7963,
    "start_time": "2022-11-27T19:00:57.267Z"
   },
   {
    "duration": 15,
    "start_time": "2022-11-27T19:01:05.232Z"
   },
   {
    "duration": 776,
    "start_time": "2022-11-27T19:01:05.251Z"
   },
   {
    "duration": 4843,
    "start_time": "2022-11-27T19:01:06.029Z"
   },
   {
    "duration": 3230,
    "start_time": "2022-11-27T19:01:10.921Z"
   },
   {
    "duration": 370,
    "start_time": "2022-11-27T19:01:14.152Z"
   },
   {
    "duration": 127,
    "start_time": "2022-11-27T19:01:14.524Z"
   },
   {
    "duration": 1433,
    "start_time": "2022-11-27T19:01:14.722Z"
   },
   {
    "duration": 2,
    "start_time": "2022-11-27T19:01:16.157Z"
   },
   {
    "duration": 1760,
    "start_time": "2022-11-27T19:01:16.161Z"
   },
   {
    "duration": 530,
    "start_time": "2022-11-27T19:01:17.923Z"
   },
   {
    "duration": 85,
    "start_time": "2022-11-27T19:01:18.456Z"
   },
   {
    "duration": 1212,
    "start_time": "2022-11-27T19:01:18.542Z"
   },
   {
    "duration": 390,
    "start_time": "2022-11-27T19:01:19.756Z"
   },
   {
    "duration": 325,
    "start_time": "2022-11-27T19:01:20.148Z"
   },
   {
    "duration": 2680,
    "start_time": "2022-11-27T19:01:20.475Z"
   },
   {
    "duration": 37,
    "start_time": "2022-11-27T19:01:29.146Z"
   },
   {
    "duration": 72,
    "start_time": "2022-11-27T19:01:49.272Z"
   },
   {
    "duration": 4,
    "start_time": "2022-11-27T19:02:33.404Z"
   },
   {
    "duration": 3,
    "start_time": "2022-11-27T19:02:41.235Z"
   },
   {
    "duration": 7,
    "start_time": "2022-11-27T19:02:55.753Z"
   },
   {
    "duration": 4,
    "start_time": "2022-11-27T19:03:41.939Z"
   },
   {
    "duration": 9,
    "start_time": "2022-11-27T19:03:49.819Z"
   },
   {
    "duration": 66,
    "start_time": "2022-11-27T19:04:16.505Z"
   },
   {
    "duration": 5,
    "start_time": "2022-11-27T19:04:42.199Z"
   },
   {
    "duration": 21958,
    "start_time": "2022-11-27T19:04:49.110Z"
   },
   {
    "duration": 4,
    "start_time": "2022-11-27T19:06:04.704Z"
   },
   {
    "duration": 287,
    "start_time": "2022-11-27T19:08:28.735Z"
   },
   {
    "duration": 7,
    "start_time": "2022-11-27T19:11:17.960Z"
   },
   {
    "duration": 7,
    "start_time": "2022-11-27T19:12:28.095Z"
   },
   {
    "duration": 2,
    "start_time": "2022-11-27T19:12:28.865Z"
   },
   {
    "duration": 6,
    "start_time": "2022-11-27T19:12:29.378Z"
   },
   {
    "duration": 13089,
    "start_time": "2022-11-27T19:12:48.444Z"
   },
   {
    "duration": 7,
    "start_time": "2022-11-27T19:19:01.659Z"
   },
   {
    "duration": 7,
    "start_time": "2022-11-27T19:19:07.721Z"
   },
   {
    "duration": 3,
    "start_time": "2022-11-27T19:19:08.207Z"
   },
   {
    "duration": 7,
    "start_time": "2022-11-27T19:19:08.697Z"
   },
   {
    "duration": 5,
    "start_time": "2022-11-27T19:23:54.361Z"
   },
   {
    "duration": 5,
    "start_time": "2022-11-27T19:24:11.388Z"
   },
   {
    "duration": 4,
    "start_time": "2022-11-27T19:25:29.681Z"
   },
   {
    "duration": 5,
    "start_time": "2022-11-27T19:25:57.386Z"
   },
   {
    "duration": 8,
    "start_time": "2022-11-27T19:29:05.521Z"
   },
   {
    "duration": 3,
    "start_time": "2022-11-27T19:29:28.410Z"
   },
   {
    "duration": 11825,
    "start_time": "2022-11-27T19:30:38.725Z"
   },
   {
    "duration": 4,
    "start_time": "2022-11-27T19:31:03.668Z"
   },
   {
    "duration": 4,
    "start_time": "2022-11-27T19:31:16.927Z"
   },
   {
    "duration": 4,
    "start_time": "2022-11-27T19:31:27.489Z"
   },
   {
    "duration": 1984,
    "start_time": "2022-11-27T19:33:58.855Z"
   },
   {
    "duration": 621,
    "start_time": "2022-11-27T19:36:29.938Z"
   },
   {
    "duration": 14400,
    "start_time": "2022-11-27T19:36:30.561Z"
   },
   {
    "duration": 8164,
    "start_time": "2022-11-27T19:36:44.963Z"
   },
   {
    "duration": 19,
    "start_time": "2022-11-27T19:36:53.130Z"
   },
   {
    "duration": 772,
    "start_time": "2022-11-27T19:36:53.151Z"
   },
   {
    "duration": 3824,
    "start_time": "2022-11-27T19:36:53.924Z"
   },
   {
    "duration": 4082,
    "start_time": "2022-11-27T19:36:57.750Z"
   },
   {
    "duration": 2822,
    "start_time": "2022-11-27T19:37:01.834Z"
   },
   {
    "duration": 274,
    "start_time": "2022-11-27T19:37:04.658Z"
   },
   {
    "duration": 189,
    "start_time": "2022-11-27T19:37:04.935Z"
   },
   {
    "duration": 1429,
    "start_time": "2022-11-27T19:37:05.126Z"
   },
   {
    "duration": 64,
    "start_time": "2022-11-27T19:37:06.557Z"
   },
   {
    "duration": 1502,
    "start_time": "2022-11-27T19:37:06.623Z"
   },
   {
    "duration": 596,
    "start_time": "2022-11-27T19:37:08.126Z"
   },
   {
    "duration": 38,
    "start_time": "2022-11-27T19:37:08.724Z"
   },
   {
    "duration": 1202,
    "start_time": "2022-11-27T19:37:08.826Z"
   },
   {
    "duration": 340,
    "start_time": "2022-11-27T19:37:10.030Z"
   },
   {
    "duration": 460,
    "start_time": "2022-11-27T19:37:10.372Z"
   },
   {
    "duration": 2,
    "start_time": "2022-11-27T19:37:10.833Z"
   },
   {
    "duration": 102,
    "start_time": "2022-11-27T19:37:10.837Z"
   },
   {
    "duration": 3,
    "start_time": "2022-11-27T19:37:10.940Z"
   },
   {
    "duration": 19,
    "start_time": "2022-11-27T19:37:10.945Z"
   },
   {
    "duration": 22065,
    "start_time": "2022-11-27T19:37:10.966Z"
   },
   {
    "duration": 5,
    "start_time": "2022-11-27T19:37:33.033Z"
   },
   {
    "duration": 15,
    "start_time": "2022-11-27T19:37:33.039Z"
   },
   {
    "duration": 8,
    "start_time": "2022-11-27T19:37:33.056Z"
   },
   {
    "duration": 11,
    "start_time": "2022-11-27T19:37:33.065Z"
   },
   {
    "duration": 4,
    "start_time": "2022-11-27T19:37:33.078Z"
   },
   {
    "duration": 11,
    "start_time": "2022-11-27T19:37:33.084Z"
   },
   {
    "duration": 14446,
    "start_time": "2022-11-27T19:37:33.096Z"
   },
   {
    "duration": 5,
    "start_time": "2022-11-27T19:37:47.543Z"
   },
   {
    "duration": 21,
    "start_time": "2022-11-27T19:37:47.549Z"
   },
   {
    "duration": 16,
    "start_time": "2022-11-27T19:37:47.572Z"
   },
   {
    "duration": 630,
    "start_time": "2022-11-28T06:09:38.709Z"
   },
   {
    "duration": 14771,
    "start_time": "2022-11-28T06:09:39.341Z"
   },
   {
    "duration": 8228,
    "start_time": "2022-11-28T06:09:54.114Z"
   },
   {
    "duration": 21,
    "start_time": "2022-11-28T06:10:02.398Z"
   },
   {
    "duration": 688,
    "start_time": "2022-11-28T06:10:02.421Z"
   },
   {
    "duration": 4028,
    "start_time": "2022-11-28T06:10:03.110Z"
   },
   {
    "duration": 4467,
    "start_time": "2022-11-28T06:10:07.140Z"
   },
   {
    "duration": 3503,
    "start_time": "2022-11-28T06:10:11.609Z"
   },
   {
    "duration": 310,
    "start_time": "2022-11-28T06:10:15.114Z"
   },
   {
    "duration": 185,
    "start_time": "2022-11-28T06:10:15.428Z"
   },
   {
    "duration": 1314,
    "start_time": "2022-11-28T06:10:15.617Z"
   },
   {
    "duration": 3,
    "start_time": "2022-11-28T06:10:16.933Z"
   },
   {
    "duration": 1473,
    "start_time": "2022-11-28T06:10:16.997Z"
   },
   {
    "duration": 539,
    "start_time": "2022-11-28T06:10:18.471Z"
   },
   {
    "duration": 106,
    "start_time": "2022-11-28T06:10:19.014Z"
   },
   {
    "duration": 1284,
    "start_time": "2022-11-28T06:10:19.122Z"
   },
   {
    "duration": 343,
    "start_time": "2022-11-28T06:10:20.407Z"
   },
   {
    "duration": 398,
    "start_time": "2022-11-28T06:10:20.752Z"
   },
   {
    "duration": 2,
    "start_time": "2022-11-28T06:10:21.198Z"
   },
   {
    "duration": 112,
    "start_time": "2022-11-28T06:10:21.202Z"
   },
   {
    "duration": 3,
    "start_time": "2022-11-28T06:10:21.316Z"
   },
   {
    "duration": 15,
    "start_time": "2022-11-28T06:10:21.321Z"
   },
   {
    "duration": 22101,
    "start_time": "2022-11-28T06:10:21.337Z"
   },
   {
    "duration": 7,
    "start_time": "2022-11-28T06:10:43.498Z"
   },
   {
    "duration": 7,
    "start_time": "2022-11-28T06:10:43.507Z"
   },
   {
    "duration": 5,
    "start_time": "2022-11-28T06:10:43.517Z"
   },
   {
    "duration": 8,
    "start_time": "2022-11-28T06:10:43.523Z"
   },
   {
    "duration": 7,
    "start_time": "2022-11-28T06:10:43.534Z"
   },
   {
    "duration": 6,
    "start_time": "2022-11-28T06:10:43.543Z"
   },
   {
    "duration": 14267,
    "start_time": "2022-11-28T06:10:43.550Z"
   },
   {
    "duration": 5,
    "start_time": "2022-11-28T06:10:57.818Z"
   },
   {
    "duration": 9,
    "start_time": "2022-11-28T06:10:57.825Z"
   },
   {
    "duration": 64,
    "start_time": "2022-11-28T06:10:57.836Z"
   },
   {
    "duration": 2126,
    "start_time": "2022-11-28T06:48:24.644Z"
   },
   {
    "duration": 11,
    "start_time": "2022-11-28T06:48:31.270Z"
   },
   {
    "duration": 25,
    "start_time": "2022-11-28T06:48:31.283Z"
   },
   {
    "duration": 331,
    "start_time": "2022-11-28T06:48:31.311Z"
   },
   {
    "duration": 56,
    "start_time": "2022-11-28T06:48:31.644Z"
   },
   {
    "duration": 155,
    "start_time": "2022-11-28T06:48:31.703Z"
   },
   {
    "duration": 1065,
    "start_time": "2022-11-28T06:48:31.859Z"
   },
   {
    "duration": 1501,
    "start_time": "2022-11-28T06:48:32.926Z"
   },
   {
    "duration": 60,
    "start_time": "2022-11-28T07:00:36.277Z"
   },
   {
    "duration": 64,
    "start_time": "2022-11-28T07:03:37.147Z"
   },
   {
    "duration": 4,
    "start_time": "2022-11-28T07:03:47.556Z"
   },
   {
    "duration": 14,
    "start_time": "2022-11-28T07:03:47.561Z"
   },
   {
    "duration": 264,
    "start_time": "2022-11-28T07:03:47.577Z"
   },
   {
    "duration": 3,
    "start_time": "2022-11-28T07:03:47.843Z"
   },
   {
    "duration": 156,
    "start_time": "2022-11-28T07:03:47.848Z"
   },
   {
    "duration": 1123,
    "start_time": "2022-11-28T07:03:48.006Z"
   },
   {
    "duration": 1609,
    "start_time": "2022-11-28T07:03:49.131Z"
   },
   {
    "duration": 672,
    "start_time": "2022-11-28T07:03:57.659Z"
   },
   {
    "duration": 14475,
    "start_time": "2022-11-28T07:03:58.332Z"
   },
   {
    "duration": 7703,
    "start_time": "2022-11-28T07:04:12.809Z"
   },
   {
    "duration": 13,
    "start_time": "2022-11-28T07:04:20.514Z"
   },
   {
    "duration": 674,
    "start_time": "2022-11-28T07:04:20.528Z"
   },
   {
    "duration": 3628,
    "start_time": "2022-11-28T07:04:21.203Z"
   },
   {
    "duration": 3576,
    "start_time": "2022-11-28T07:04:24.832Z"
   },
   {
    "duration": 3089,
    "start_time": "2022-11-28T07:04:28.409Z"
   },
   {
    "duration": 298,
    "start_time": "2022-11-28T07:04:31.499Z"
   },
   {
    "duration": 120,
    "start_time": "2022-11-28T07:04:31.800Z"
   },
   {
    "duration": 1316,
    "start_time": "2022-11-28T07:04:31.921Z"
   },
   {
    "duration": 3,
    "start_time": "2022-11-28T07:04:33.239Z"
   },
   {
    "duration": 1502,
    "start_time": "2022-11-28T07:04:33.244Z"
   },
   {
    "duration": 560,
    "start_time": "2022-11-28T07:04:34.749Z"
   },
   {
    "duration": 102,
    "start_time": "2022-11-28T07:04:35.311Z"
   },
   {
    "duration": 1213,
    "start_time": "2022-11-28T07:04:35.414Z"
   },
   {
    "duration": 378,
    "start_time": "2022-11-28T07:04:36.629Z"
   },
   {
    "duration": 403,
    "start_time": "2022-11-28T07:04:37.009Z"
   },
   {
    "duration": 2,
    "start_time": "2022-11-28T07:04:37.413Z"
   },
   {
    "duration": 37,
    "start_time": "2022-11-28T07:04:37.417Z"
   },
   {
    "duration": 3,
    "start_time": "2022-11-28T07:04:37.455Z"
   },
   {
    "duration": 47,
    "start_time": "2022-11-28T07:04:37.459Z"
   },
   {
    "duration": 21807,
    "start_time": "2022-11-28T07:04:37.507Z"
   },
   {
    "duration": 6,
    "start_time": "2022-11-28T07:04:59.316Z"
   },
   {
    "duration": 21,
    "start_time": "2022-11-28T07:04:59.324Z"
   },
   {
    "duration": 7,
    "start_time": "2022-11-28T07:04:59.346Z"
   },
   {
    "duration": 8,
    "start_time": "2022-11-28T07:04:59.354Z"
   },
   {
    "duration": 4,
    "start_time": "2022-11-28T07:04:59.365Z"
   },
   {
    "duration": 2,
    "start_time": "2022-11-28T07:04:59.398Z"
   },
   {
    "duration": 14955,
    "start_time": "2022-11-28T07:04:59.402Z"
   },
   {
    "duration": 5,
    "start_time": "2022-11-28T07:05:14.358Z"
   },
   {
    "duration": 33,
    "start_time": "2022-11-28T07:05:14.365Z"
   },
   {
    "duration": 4,
    "start_time": "2022-11-28T07:05:14.400Z"
   },
   {
    "duration": 20,
    "start_time": "2022-11-28T07:56:29.461Z"
   },
   {
    "duration": 186,
    "start_time": "2022-11-28T07:56:53.325Z"
   },
   {
    "duration": 17,
    "start_time": "2022-11-28T07:57:11.134Z"
   },
   {
    "duration": 8,
    "start_time": "2022-11-28T07:57:30.862Z"
   },
   {
    "duration": 31,
    "start_time": "2022-11-28T07:57:53.637Z"
   },
   {
    "duration": 65,
    "start_time": "2022-11-28T08:00:05.662Z"
   },
   {
    "duration": 48,
    "start_time": "2022-11-28T08:02:17.310Z"
   },
   {
    "duration": 767,
    "start_time": "2022-11-29T10:42:04.271Z"
   },
   {
    "duration": 17459,
    "start_time": "2022-11-29T10:48:03.770Z"
   },
   {
    "duration": 9343,
    "start_time": "2022-11-29T10:48:23.792Z"
   },
   {
    "duration": 1166,
    "start_time": "2022-11-29T10:49:40.557Z"
   },
   {
    "duration": 704,
    "start_time": "2022-11-29T10:50:50.261Z"
   },
   {
    "duration": 108,
    "start_time": "2022-11-29T10:58:24.535Z"
   },
   {
    "duration": 953,
    "start_time": "2022-11-29T10:59:22.672Z"
   },
   {
    "duration": 459,
    "start_time": "2022-11-29T11:00:00.622Z"
   },
   {
    "duration": 2106,
    "start_time": "2022-11-29T11:07:30.511Z"
   },
   {
    "duration": 1065,
    "start_time": "2022-11-29T11:07:40.407Z"
   },
   {
    "duration": 373,
    "start_time": "2022-11-29T11:07:58.969Z"
   },
   {
    "duration": 1099,
    "start_time": "2022-11-29T11:09:37.113Z"
   },
   {
    "duration": 744,
    "start_time": "2022-11-29T11:10:56.650Z"
   },
   {
    "duration": 316,
    "start_time": "2022-11-29T11:16:29.364Z"
   },
   {
    "duration": 536,
    "start_time": "2022-11-29T11:17:04.848Z"
   },
   {
    "duration": 4,
    "start_time": "2022-11-29T11:18:22.311Z"
   },
   {
    "duration": 24,
    "start_time": "2022-11-29T11:19:42.493Z"
   },
   {
    "duration": 279,
    "start_time": "2022-11-29T11:19:55.799Z"
   },
   {
    "duration": 3467,
    "start_time": "2022-11-29T11:22:49.478Z"
   },
   {
    "duration": 75,
    "start_time": "2022-11-29T11:23:13.466Z"
   },
   {
    "duration": 1631,
    "start_time": "2022-11-29T11:23:16.323Z"
   },
   {
    "duration": 42,
    "start_time": "2022-11-29T11:25:10.751Z"
   },
   {
    "duration": 8,
    "start_time": "2022-11-29T11:25:41.286Z"
   },
   {
    "duration": 31,
    "start_time": "2022-11-29T11:25:47.941Z"
   },
   {
    "duration": 13,
    "start_time": "2022-11-29T11:26:05.291Z"
   },
   {
    "duration": 285,
    "start_time": "2022-11-29T11:26:13.157Z"
   },
   {
    "duration": 346,
    "start_time": "2022-11-29T11:26:24.178Z"
   },
   {
    "duration": 22,
    "start_time": "2022-11-29T11:26:32.531Z"
   },
   {
    "duration": 370,
    "start_time": "2022-11-29T11:26:41.877Z"
   },
   {
    "duration": 41,
    "start_time": "2022-11-29T11:35:55.717Z"
   },
   {
    "duration": 18,
    "start_time": "2022-11-29T11:36:06.221Z"
   },
   {
    "duration": 8,
    "start_time": "2022-11-29T11:38:55.390Z"
   },
   {
    "duration": 10,
    "start_time": "2022-11-29T11:39:18.866Z"
   },
   {
    "duration": 4,
    "start_time": "2022-11-29T11:39:35.327Z"
   },
   {
    "duration": 14,
    "start_time": "2022-11-29T11:39:52.950Z"
   },
   {
    "duration": 12,
    "start_time": "2022-11-29T11:47:00.148Z"
   },
   {
    "duration": 14,
    "start_time": "2022-11-29T11:56:41.344Z"
   },
   {
    "duration": 13,
    "start_time": "2022-11-29T12:00:03.544Z"
   },
   {
    "duration": 11,
    "start_time": "2022-11-29T12:00:25.321Z"
   },
   {
    "duration": 14,
    "start_time": "2022-11-29T12:00:32.413Z"
   },
   {
    "duration": 1315,
    "start_time": "2022-11-30T03:57:48.625Z"
   },
   {
    "duration": 14433,
    "start_time": "2022-11-30T03:57:57.002Z"
   },
   {
    "duration": 8267,
    "start_time": "2022-11-30T03:58:13.341Z"
   },
   {
    "duration": 19,
    "start_time": "2022-11-30T03:58:24.683Z"
   },
   {
    "duration": 549,
    "start_time": "2022-11-30T03:58:35.978Z"
   },
   {
    "duration": 3829,
    "start_time": "2022-11-30T03:58:40.770Z"
   },
   {
    "duration": 6,
    "start_time": "2022-11-30T03:58:49.454Z"
   },
   {
    "duration": 1459,
    "start_time": "2022-11-30T03:59:02.744Z"
   },
   {
    "duration": 982,
    "start_time": "2022-11-30T04:01:04.327Z"
   },
   {
    "duration": 107,
    "start_time": "2022-11-30T04:01:13.533Z"
   },
   {
    "duration": 20,
    "start_time": "2022-11-30T04:01:18.181Z"
   },
   {
    "duration": 93,
    "start_time": "2022-11-30T04:02:35.769Z"
   },
   {
    "duration": 182,
    "start_time": "2022-11-30T04:03:31.251Z"
   },
   {
    "duration": 5,
    "start_time": "2022-11-30T04:10:37.020Z"
   },
   {
    "duration": 9,
    "start_time": "2022-11-30T04:12:12.025Z"
   },
   {
    "duration": 8,
    "start_time": "2022-11-30T04:12:28.464Z"
   },
   {
    "duration": 9,
    "start_time": "2022-11-30T04:12:39.619Z"
   },
   {
    "duration": 8,
    "start_time": "2022-11-30T04:12:47.743Z"
   },
   {
    "duration": 8,
    "start_time": "2022-11-30T04:13:26.127Z"
   },
   {
    "duration": 14,
    "start_time": "2022-11-30T04:13:52.662Z"
   },
   {
    "duration": 789,
    "start_time": "2022-11-30T04:13:57.584Z"
   },
   {
    "duration": 172,
    "start_time": "2022-11-30T04:14:16.574Z"
   },
   {
    "duration": 9,
    "start_time": "2022-11-30T04:14:27.407Z"
   },
   {
    "duration": 111,
    "start_time": "2022-11-30T04:14:50.904Z"
   },
   {
    "duration": 94,
    "start_time": "2022-11-30T04:15:24.040Z"
   },
   {
    "duration": 45,
    "start_time": "2022-11-30T04:16:39.352Z"
   },
   {
    "duration": 4,
    "start_time": "2022-11-30T04:17:00.765Z"
   },
   {
    "duration": 843,
    "start_time": "2022-11-30T04:17:09.890Z"
   },
   {
    "duration": 775,
    "start_time": "2022-11-30T04:17:41.900Z"
   },
   {
    "duration": 17,
    "start_time": "2022-11-30T04:24:53.990Z"
   },
   {
    "duration": 8,
    "start_time": "2022-11-30T04:25:07.736Z"
   },
   {
    "duration": 702,
    "start_time": "2022-11-30T04:25:14.100Z"
   },
   {
    "duration": 289,
    "start_time": "2022-11-30T04:25:29.636Z"
   },
   {
    "duration": 630,
    "start_time": "2022-11-30T04:29:13.381Z"
   },
   {
    "duration": 8,
    "start_time": "2022-11-30T04:30:23.520Z"
   },
   {
    "duration": 164,
    "start_time": "2022-11-30T04:31:48.093Z"
   },
   {
    "duration": 454,
    "start_time": "2022-11-30T04:32:31.710Z"
   },
   {
    "duration": 11,
    "start_time": "2022-11-30T04:37:22.384Z"
   },
   {
    "duration": 50,
    "start_time": "2022-11-30T04:40:03.034Z"
   },
   {
    "duration": 18,
    "start_time": "2022-11-30T04:40:08.328Z"
   },
   {
    "duration": 589,
    "start_time": "2022-11-30T04:40:52.978Z"
   },
   {
    "duration": 1099,
    "start_time": "2022-11-30T04:41:22.528Z"
   },
   {
    "duration": 721,
    "start_time": "2022-11-30T04:42:36.878Z"
   },
   {
    "duration": 840,
    "start_time": "2022-11-30T04:42:48.869Z"
   },
   {
    "duration": 640,
    "start_time": "2022-11-30T04:43:02.036Z"
   },
   {
    "duration": 400,
    "start_time": "2022-11-30T04:45:24.528Z"
   },
   {
    "duration": 775,
    "start_time": "2022-11-30T04:45:55.980Z"
   },
   {
    "duration": 493,
    "start_time": "2022-11-30T04:46:28.534Z"
   },
   {
    "duration": 750,
    "start_time": "2022-11-30T04:47:25.131Z"
   },
   {
    "duration": 555,
    "start_time": "2022-11-30T04:47:38.362Z"
   },
   {
    "duration": 14,
    "start_time": "2022-11-30T04:49:25.451Z"
   },
   {
    "duration": 674,
    "start_time": "2022-11-30T04:49:41.548Z"
   },
   {
    "duration": 427,
    "start_time": "2022-11-30T04:51:36.780Z"
   },
   {
    "duration": 571,
    "start_time": "2022-11-30T04:52:43.211Z"
   },
   {
    "duration": 11,
    "start_time": "2022-11-30T04:53:38.320Z"
   },
   {
    "duration": 807,
    "start_time": "2022-11-30T04:53:53.731Z"
   },
   {
    "duration": 475,
    "start_time": "2022-11-30T04:55:07.083Z"
   },
   {
    "duration": 610,
    "start_time": "2022-11-30T04:55:59.827Z"
   },
   {
    "duration": 409,
    "start_time": "2022-11-30T04:58:19.632Z"
   },
   {
    "duration": 863,
    "start_time": "2022-11-30T04:58:53.427Z"
   },
   {
    "duration": 262,
    "start_time": "2022-11-30T05:00:58.452Z"
   },
   {
    "duration": 493,
    "start_time": "2022-11-30T05:01:28.922Z"
   },
   {
    "duration": 1149,
    "start_time": "2022-11-30T05:10:42.430Z"
   },
   {
    "duration": 14818,
    "start_time": "2022-11-30T05:10:43.581Z"
   },
   {
    "duration": 8333,
    "start_time": "2022-11-30T05:10:58.401Z"
   },
   {
    "duration": 14,
    "start_time": "2022-11-30T05:11:06.797Z"
   },
   {
    "duration": 704,
    "start_time": "2022-11-30T05:11:06.812Z"
   },
   {
    "duration": 4113,
    "start_time": "2022-11-30T05:11:07.517Z"
   },
   {
    "duration": 5,
    "start_time": "2022-11-30T05:11:11.632Z"
   },
   {
    "duration": 208,
    "start_time": "2022-11-30T05:11:11.697Z"
   },
   {
    "duration": 20,
    "start_time": "2022-11-30T05:11:35.158Z"
   },
   {
    "duration": 5526,
    "start_time": "2022-11-30T05:11:40.021Z"
   },
   {
    "duration": 270,
    "start_time": "2022-11-30T05:12:03.085Z"
   },
   {
    "duration": 996,
    "start_time": "2022-11-30T05:12:04.145Z"
   },
   {
    "duration": 549,
    "start_time": "2022-11-30T05:12:07.435Z"
   },
   {
    "duration": 684,
    "start_time": "2022-11-30T05:12:08.592Z"
   },
   {
    "duration": 947,
    "start_time": "2022-11-30T05:13:14.177Z"
   },
   {
    "duration": 564,
    "start_time": "2022-11-30T05:13:40.549Z"
   },
   {
    "duration": 501,
    "start_time": "2022-11-30T05:14:21.619Z"
   },
   {
    "duration": 13,
    "start_time": "2022-11-30T05:14:28.720Z"
   },
   {
    "duration": 906,
    "start_time": "2022-11-30T05:14:29.783Z"
   },
   {
    "duration": 385,
    "start_time": "2022-11-30T05:14:39.783Z"
   },
   {
    "duration": 1105,
    "start_time": "2022-11-30T05:14:41.284Z"
   },
   {
    "duration": 3,
    "start_time": "2022-11-30T05:17:52.537Z"
   },
   {
    "duration": 3,
    "start_time": "2022-11-30T05:18:25.195Z"
   },
   {
    "duration": 88,
    "start_time": "2022-11-30T05:18:56.319Z"
   },
   {
    "duration": 6,
    "start_time": "2022-11-30T05:19:04.765Z"
   },
   {
    "duration": 20,
    "start_time": "2022-11-30T05:19:04.773Z"
   },
   {
    "duration": 435,
    "start_time": "2022-11-30T05:19:04.795Z"
   },
   {
    "duration": 4,
    "start_time": "2022-11-30T05:19:05.232Z"
   },
   {
    "duration": 198,
    "start_time": "2022-11-30T05:19:05.237Z"
   },
   {
    "duration": 1273,
    "start_time": "2022-11-30T05:19:05.437Z"
   },
   {
    "duration": 5,
    "start_time": "2022-11-30T05:19:06.712Z"
   },
   {
    "duration": 3847,
    "start_time": "2022-11-30T05:19:06.718Z"
   },
   {
    "duration": 2,
    "start_time": "2022-11-30T05:19:10.566Z"
   },
   {
    "duration": 282,
    "start_time": "2022-11-30T05:19:10.571Z"
   },
   {
    "duration": 776,
    "start_time": "2022-11-30T05:19:10.854Z"
   },
   {
    "duration": 400,
    "start_time": "2022-11-30T05:19:11.632Z"
   },
   {
    "duration": 897,
    "start_time": "2022-11-30T05:19:12.033Z"
   },
   {
    "duration": 184,
    "start_time": "2022-11-30T05:19:38.454Z"
   },
   {
    "duration": 11,
    "start_time": "2022-11-30T05:19:43.000Z"
   },
   {
    "duration": 642,
    "start_time": "2022-11-30T05:19:43.839Z"
   },
   {
    "duration": 266,
    "start_time": "2022-11-30T05:19:47.190Z"
   },
   {
    "duration": 693,
    "start_time": "2022-11-30T05:19:48.878Z"
   },
   {
    "duration": 207,
    "start_time": "2022-11-30T05:20:19.410Z"
   },
   {
    "duration": 199,
    "start_time": "2022-11-30T05:20:26.190Z"
   },
   {
    "duration": 10,
    "start_time": "2022-11-30T05:20:30.643Z"
   },
   {
    "duration": 555,
    "start_time": "2022-11-30T05:20:31.438Z"
   },
   {
    "duration": 576,
    "start_time": "2022-11-30T05:20:35.578Z"
   },
   {
    "duration": 680,
    "start_time": "2022-11-30T05:20:36.793Z"
   },
   {
    "duration": 296,
    "start_time": "2022-11-30T05:21:28.805Z"
   },
   {
    "duration": 9,
    "start_time": "2022-11-30T05:21:37.782Z"
   },
   {
    "duration": 583,
    "start_time": "2022-11-30T05:21:38.729Z"
   },
   {
    "duration": 440,
    "start_time": "2022-11-30T05:21:44.271Z"
   },
   {
    "duration": 450,
    "start_time": "2022-11-30T05:21:45.459Z"
   },
   {
    "duration": 266,
    "start_time": "2022-11-30T05:21:53.272Z"
   },
   {
    "duration": 608,
    "start_time": "2022-11-30T05:21:55.449Z"
   },
   {
    "duration": 358,
    "start_time": "2022-11-30T05:21:59.391Z"
   },
   {
    "duration": 294,
    "start_time": "2022-11-30T05:23:00.843Z"
   },
   {
    "duration": 4,
    "start_time": "2022-11-30T05:23:53.471Z"
   },
   {
    "duration": 5,
    "start_time": "2022-11-30T05:24:00.176Z"
   },
   {
    "duration": 30,
    "start_time": "2022-11-30T05:24:00.183Z"
   },
   {
    "duration": 393,
    "start_time": "2022-11-30T05:24:00.214Z"
   },
   {
    "duration": 3,
    "start_time": "2022-11-30T05:24:00.609Z"
   },
   {
    "duration": 183,
    "start_time": "2022-11-30T05:24:00.614Z"
   },
   {
    "duration": 1012,
    "start_time": "2022-11-30T05:24:00.799Z"
   },
   {
    "duration": 4,
    "start_time": "2022-11-30T05:24:01.813Z"
   },
   {
    "duration": 3691,
    "start_time": "2022-11-30T05:24:01.819Z"
   },
   {
    "duration": 3,
    "start_time": "2022-11-30T05:24:05.511Z"
   },
   {
    "duration": 446,
    "start_time": "2022-11-30T05:24:05.516Z"
   },
   {
    "duration": 658,
    "start_time": "2022-11-30T05:24:05.963Z"
   },
   {
    "duration": 580,
    "start_time": "2022-11-30T05:24:06.622Z"
   },
   {
    "duration": 784,
    "start_time": "2022-11-30T05:24:07.203Z"
   },
   {
    "duration": 141,
    "start_time": "2022-11-30T05:24:07.989Z"
   },
   {
    "duration": 10,
    "start_time": "2022-11-30T05:24:08.132Z"
   },
   {
    "duration": 722,
    "start_time": "2022-11-30T05:24:08.143Z"
   },
   {
    "duration": 238,
    "start_time": "2022-11-30T05:24:08.867Z"
   },
   {
    "duration": 507,
    "start_time": "2022-11-30T05:24:09.107Z"
   },
   {
    "duration": 193,
    "start_time": "2022-11-30T05:24:09.616Z"
   },
   {
    "duration": 8,
    "start_time": "2022-11-30T05:24:09.810Z"
   },
   {
    "duration": 668,
    "start_time": "2022-11-30T05:24:09.820Z"
   },
   {
    "duration": 255,
    "start_time": "2022-11-30T05:24:10.489Z"
   },
   {
    "duration": 521,
    "start_time": "2022-11-30T05:24:10.745Z"
   },
   {
    "duration": 154,
    "start_time": "2022-11-30T05:24:11.267Z"
   },
   {
    "duration": 9,
    "start_time": "2022-11-30T05:24:11.422Z"
   },
   {
    "duration": 705,
    "start_time": "2022-11-30T05:24:11.433Z"
   },
   {
    "duration": 234,
    "start_time": "2022-11-30T05:24:12.139Z"
   },
   {
    "duration": 581,
    "start_time": "2022-11-30T05:24:12.398Z"
   },
   {
    "duration": 257,
    "start_time": "2022-11-30T05:24:12.981Z"
   },
   {
    "duration": 448,
    "start_time": "2022-11-30T05:24:13.240Z"
   },
   {
    "duration": 219,
    "start_time": "2022-11-30T05:24:13.690Z"
   },
   {
    "duration": 3,
    "start_time": "2022-11-30T05:24:29.173Z"
   },
   {
    "duration": 2542,
    "start_time": "2022-11-30T05:31:43.933Z"
   },
   {
    "duration": 2204,
    "start_time": "2022-11-30T05:31:48.594Z"
   },
   {
    "duration": 262,
    "start_time": "2022-11-30T05:31:53.931Z"
   },
   {
    "duration": 1012,
    "start_time": "2022-11-30T05:32:31.480Z"
   },
   {
    "duration": 4,
    "start_time": "2022-11-30T05:35:14.132Z"
   },
   {
    "duration": 8,
    "start_time": "2022-11-30T05:35:21.819Z"
   },
   {
    "duration": 4,
    "start_time": "2022-11-30T05:35:25.635Z"
   },
   {
    "duration": 9,
    "start_time": "2022-11-30T05:35:32.197Z"
   },
   {
    "duration": 4121,
    "start_time": "2022-11-30T05:36:13.379Z"
   },
   {
    "duration": 3485,
    "start_time": "2022-11-30T05:36:52.017Z"
   },
   {
    "duration": 5,
    "start_time": "2022-11-30T05:37:04.883Z"
   },
   {
    "duration": 15,
    "start_time": "2022-11-30T05:37:04.889Z"
   },
   {
    "duration": 307,
    "start_time": "2022-11-30T05:37:04.905Z"
   },
   {
    "duration": 3,
    "start_time": "2022-11-30T05:37:05.214Z"
   },
   {
    "duration": 119,
    "start_time": "2022-11-30T05:37:05.219Z"
   },
   {
    "duration": 884,
    "start_time": "2022-11-30T05:37:05.340Z"
   },
   {
    "duration": 4,
    "start_time": "2022-11-30T05:37:06.226Z"
   },
   {
    "duration": 6972,
    "start_time": "2022-11-30T05:37:06.231Z"
   },
   {
    "duration": 2,
    "start_time": "2022-11-30T05:37:13.205Z"
   },
   {
    "duration": 428,
    "start_time": "2022-11-30T05:37:13.209Z"
   },
   {
    "duration": 1883,
    "start_time": "2022-11-30T05:37:13.638Z"
   },
   {
    "duration": 1106,
    "start_time": "2022-11-30T05:37:15.523Z"
   },
   {
    "duration": 1781,
    "start_time": "2022-11-30T05:37:16.630Z"
   },
   {
    "duration": 212,
    "start_time": "2022-11-30T05:37:18.414Z"
   },
   {
    "duration": 8,
    "start_time": "2022-11-30T05:37:18.627Z"
   },
   {
    "duration": 976,
    "start_time": "2022-11-30T05:37:18.636Z"
   },
   {
    "duration": 410,
    "start_time": "2022-11-30T05:37:19.614Z"
   },
   {
    "duration": 1503,
    "start_time": "2022-11-30T05:37:20.026Z"
   },
   {
    "duration": 285,
    "start_time": "2022-11-30T05:37:21.531Z"
   },
   {
    "duration": 7,
    "start_time": "2022-11-30T05:37:21.818Z"
   },
   {
    "duration": 1001,
    "start_time": "2022-11-30T05:37:21.827Z"
   },
   {
    "duration": 491,
    "start_time": "2022-11-30T05:37:22.830Z"
   },
   {
    "duration": 1023,
    "start_time": "2022-11-30T05:37:23.322Z"
   },
   {
    "duration": 241,
    "start_time": "2022-11-30T05:37:24.398Z"
   },
   {
    "duration": 9,
    "start_time": "2022-11-30T05:37:24.699Z"
   },
   {
    "duration": 1403,
    "start_time": "2022-11-30T05:37:24.711Z"
   },
   {
    "duration": 325,
    "start_time": "2022-11-30T05:37:26.115Z"
   },
   {
    "duration": 438,
    "start_time": "2022-11-30T05:37:26.442Z"
   },
   {
    "duration": 234,
    "start_time": "2022-11-30T05:37:26.882Z"
   },
   {
    "duration": 710,
    "start_time": "2022-11-30T05:37:27.118Z"
   },
   {
    "duration": 204,
    "start_time": "2022-11-30T05:37:27.829Z"
   },
   {
    "duration": 5,
    "start_time": "2022-11-30T05:37:28.035Z"
   },
   {
    "duration": 1830,
    "start_time": "2022-11-30T05:37:28.041Z"
   },
   {
    "duration": 1838,
    "start_time": "2022-11-30T05:37:29.873Z"
   },
   {
    "duration": 3,
    "start_time": "2022-11-30T05:37:31.713Z"
   },
   {
    "duration": 2867,
    "start_time": "2022-11-30T05:38:06.061Z"
   },
   {
    "duration": 744,
    "start_time": "2022-11-30T05:39:09.931Z"
   },
   {
    "duration": 6,
    "start_time": "2022-11-30T05:44:28.945Z"
   },
   {
    "duration": 3,
    "start_time": "2022-11-30T05:44:50.076Z"
   },
   {
    "duration": 1522,
    "start_time": "2022-11-30T05:45:28.477Z"
   },
   {
    "duration": 507,
    "start_time": "2022-11-30T05:45:46.601Z"
   },
   {
    "duration": 38,
    "start_time": "2022-11-30T05:45:54.133Z"
   },
   {
    "duration": 989,
    "start_time": "2022-11-30T05:45:55.511Z"
   },
   {
    "duration": 7,
    "start_time": "2022-11-30T05:47:48.241Z"
   },
   {
    "duration": 12,
    "start_time": "2022-11-30T05:47:48.250Z"
   },
   {
    "duration": 361,
    "start_time": "2022-11-30T05:47:48.264Z"
   },
   {
    "duration": 3,
    "start_time": "2022-11-30T05:47:48.629Z"
   },
   {
    "duration": 164,
    "start_time": "2022-11-30T05:47:48.634Z"
   },
   {
    "duration": 738,
    "start_time": "2022-11-30T05:47:48.799Z"
   },
   {
    "duration": 4,
    "start_time": "2022-11-30T05:47:49.538Z"
   },
   {
    "duration": 3856,
    "start_time": "2022-11-30T05:47:49.598Z"
   },
   {
    "duration": 2,
    "start_time": "2022-11-30T05:47:53.456Z"
   },
   {
    "duration": 272,
    "start_time": "2022-11-30T05:47:53.460Z"
   },
   {
    "duration": 979,
    "start_time": "2022-11-30T05:47:53.733Z"
   },
   {
    "duration": 421,
    "start_time": "2022-11-30T05:47:54.714Z"
   },
   {
    "duration": 690,
    "start_time": "2022-11-30T05:47:55.137Z"
   },
   {
    "duration": 168,
    "start_time": "2022-11-30T05:47:55.829Z"
   },
   {
    "duration": 8,
    "start_time": "2022-11-30T05:47:55.998Z"
   },
   {
    "duration": 784,
    "start_time": "2022-11-30T05:47:56.008Z"
   },
   {
    "duration": 238,
    "start_time": "2022-11-30T05:47:56.798Z"
   },
   {
    "duration": 527,
    "start_time": "2022-11-30T05:47:57.038Z"
   },
   {
    "duration": 144,
    "start_time": "2022-11-30T05:47:57.567Z"
   },
   {
    "duration": 7,
    "start_time": "2022-11-30T05:47:57.713Z"
   },
   {
    "duration": 573,
    "start_time": "2022-11-30T05:47:57.721Z"
   },
   {
    "duration": 353,
    "start_time": "2022-11-30T05:47:58.297Z"
   },
   {
    "duration": 847,
    "start_time": "2022-11-30T05:47:58.652Z"
   },
   {
    "duration": 313,
    "start_time": "2022-11-30T05:47:59.500Z"
   },
   {
    "duration": 8,
    "start_time": "2022-11-30T05:47:59.816Z"
   },
   {
    "duration": 653,
    "start_time": "2022-11-30T05:47:59.826Z"
   },
   {
    "duration": 252,
    "start_time": "2022-11-30T05:48:00.481Z"
   },
   {
    "duration": 485,
    "start_time": "2022-11-30T05:48:00.737Z"
   },
   {
    "duration": 512,
    "start_time": "2022-11-30T05:48:01.223Z"
   },
   {
    "duration": 469,
    "start_time": "2022-11-30T05:48:01.737Z"
   },
   {
    "duration": 162,
    "start_time": "2022-11-30T05:48:02.208Z"
   },
   {
    "duration": 4,
    "start_time": "2022-11-30T05:48:02.372Z"
   },
   {
    "duration": 1580,
    "start_time": "2022-11-30T05:48:02.377Z"
   },
   {
    "duration": 1512,
    "start_time": "2022-11-30T05:48:03.959Z"
   },
   {
    "duration": 3,
    "start_time": "2022-11-30T05:48:05.472Z"
   },
   {
    "duration": 2648,
    "start_time": "2022-11-30T05:48:05.476Z"
   },
   {
    "duration": 1102,
    "start_time": "2022-11-30T05:48:08.125Z"
   },
   {
    "duration": 5,
    "start_time": "2022-11-30T05:48:09.230Z"
   },
   {
    "duration": 65,
    "start_time": "2022-11-30T05:48:09.237Z"
   },
   {
    "duration": 13,
    "start_time": "2022-11-30T05:48:09.305Z"
   },
   {
    "duration": 996,
    "start_time": "2022-11-30T05:48:41.356Z"
   },
   {
    "duration": 3,
    "start_time": "2022-11-30T05:49:16.142Z"
   },
   {
    "duration": 470,
    "start_time": "2022-11-30T05:50:30.529Z"
   },
   {
    "duration": 27,
    "start_time": "2022-11-30T06:10:38.866Z"
   },
   {
    "duration": 6,
    "start_time": "2022-11-30T06:11:21.105Z"
   },
   {
    "duration": 112,
    "start_time": "2022-11-30T06:11:31.957Z"
   },
   {
    "duration": 4,
    "start_time": "2022-11-30T06:11:57.840Z"
   },
   {
    "duration": 6,
    "start_time": "2022-11-30T06:11:57.846Z"
   },
   {
    "duration": 473,
    "start_time": "2022-11-30T06:11:57.854Z"
   },
   {
    "duration": 4,
    "start_time": "2022-11-30T06:11:58.329Z"
   },
   {
    "duration": 117,
    "start_time": "2022-11-30T06:11:58.334Z"
   },
   {
    "duration": 568,
    "start_time": "2022-11-30T06:11:58.453Z"
   },
   {
    "duration": 4,
    "start_time": "2022-11-30T06:11:59.023Z"
   },
   {
    "duration": 3380,
    "start_time": "2022-11-30T06:11:59.029Z"
   },
   {
    "duration": 3,
    "start_time": "2022-11-30T06:12:02.410Z"
   },
   {
    "duration": 242,
    "start_time": "2022-11-30T06:12:02.418Z"
   },
   {
    "duration": 820,
    "start_time": "2022-11-30T06:12:02.662Z"
   },
   {
    "duration": 700,
    "start_time": "2022-11-30T06:12:03.484Z"
   },
   {
    "duration": 1114,
    "start_time": "2022-11-30T06:12:04.186Z"
   },
   {
    "duration": 175,
    "start_time": "2022-11-30T06:12:05.302Z"
   },
   {
    "duration": 9,
    "start_time": "2022-11-30T06:12:05.480Z"
   },
   {
    "duration": 574,
    "start_time": "2022-11-30T06:12:05.492Z"
   },
   {
    "duration": 241,
    "start_time": "2022-11-30T06:12:06.068Z"
   },
   {
    "duration": 569,
    "start_time": "2022-11-30T06:12:06.311Z"
   },
   {
    "duration": 152,
    "start_time": "2022-11-30T06:12:06.882Z"
   },
   {
    "duration": 8,
    "start_time": "2022-11-30T06:12:07.035Z"
   },
   {
    "duration": 556,
    "start_time": "2022-11-30T06:12:07.045Z"
   },
   {
    "duration": 599,
    "start_time": "2022-11-30T06:12:07.603Z"
   },
   {
    "duration": 559,
    "start_time": "2022-11-30T06:12:08.203Z"
   },
   {
    "duration": 136,
    "start_time": "2022-11-30T06:12:08.764Z"
   },
   {
    "duration": 7,
    "start_time": "2022-11-30T06:12:08.902Z"
   },
   {
    "duration": 580,
    "start_time": "2022-11-30T06:12:08.911Z"
   },
   {
    "duration": 315,
    "start_time": "2022-11-30T06:12:09.492Z"
   },
   {
    "duration": 489,
    "start_time": "2022-11-30T06:12:09.810Z"
   },
   {
    "duration": 615,
    "start_time": "2022-11-30T06:12:10.301Z"
   },
   {
    "duration": 470,
    "start_time": "2022-11-30T06:12:10.918Z"
   },
   {
    "duration": 234,
    "start_time": "2022-11-30T06:12:11.389Z"
   },
   {
    "duration": 4,
    "start_time": "2022-11-30T06:12:11.625Z"
   },
   {
    "duration": 1573,
    "start_time": "2022-11-30T06:12:11.631Z"
   },
   {
    "duration": 1370,
    "start_time": "2022-11-30T06:12:13.205Z"
   },
   {
    "duration": 19,
    "start_time": "2022-11-30T06:12:14.577Z"
   },
   {
    "duration": 3313,
    "start_time": "2022-11-30T06:12:14.599Z"
   },
   {
    "duration": 746,
    "start_time": "2022-11-30T06:12:17.914Z"
   },
   {
    "duration": 6,
    "start_time": "2022-11-30T06:12:18.662Z"
   },
   {
    "duration": 15,
    "start_time": "2022-11-30T06:12:18.669Z"
   },
   {
    "duration": 25,
    "start_time": "2022-11-30T06:12:18.685Z"
   },
   {
    "duration": 463,
    "start_time": "2022-11-30T06:12:18.712Z"
   },
   {
    "duration": 4,
    "start_time": "2022-11-30T06:12:19.197Z"
   },
   {
    "duration": 2323,
    "start_time": "2022-11-30T06:12:25.580Z"
   },
   {
    "duration": 466,
    "start_time": "2022-11-30T06:12:43.345Z"
   },
   {
    "duration": 529,
    "start_time": "2022-11-30T06:12:58.690Z"
   },
   {
    "duration": 1162,
    "start_time": "2022-11-30T06:46:21.203Z"
   },
   {
    "duration": 14496,
    "start_time": "2022-11-30T06:46:25.325Z"
   },
   {
    "duration": 8747,
    "start_time": "2022-11-30T06:46:45.163Z"
   },
   {
    "duration": 15,
    "start_time": "2022-11-30T06:47:00.560Z"
   },
   {
    "duration": 640,
    "start_time": "2022-11-30T06:47:02.577Z"
   },
   {
    "duration": 3648,
    "start_time": "2022-11-30T06:47:06.597Z"
   },
   {
    "duration": 6,
    "start_time": "2022-11-30T06:47:14.627Z"
   },
   {
    "duration": 5820,
    "start_time": "2022-11-30T06:47:41.703Z"
   },
   {
    "duration": 2,
    "start_time": "2022-11-30T06:47:58.635Z"
   },
   {
    "duration": 273,
    "start_time": "2022-11-30T06:48:16.062Z"
   },
   {
    "duration": 827,
    "start_time": "2022-11-30T06:48:20.212Z"
   },
   {
    "duration": 501,
    "start_time": "2022-11-30T06:48:23.890Z"
   },
   {
    "duration": 729,
    "start_time": "2022-11-30T06:48:26.900Z"
   },
   {
    "duration": 515,
    "start_time": "2022-11-30T06:48:50.907Z"
   },
   {
    "duration": 11,
    "start_time": "2022-11-30T06:49:03.881Z"
   },
   {
    "duration": 816,
    "start_time": "2022-11-30T06:49:05.868Z"
   },
   {
    "duration": 443,
    "start_time": "2022-11-30T06:49:17.734Z"
   },
   {
    "duration": 680,
    "start_time": "2022-11-30T06:49:20.776Z"
   },
   {
    "duration": 319,
    "start_time": "2022-11-30T06:49:28.824Z"
   },
   {
    "duration": 13,
    "start_time": "2022-11-30T06:49:38.612Z"
   },
   {
    "duration": 883,
    "start_time": "2022-11-30T06:49:41.762Z"
   },
   {
    "duration": 381,
    "start_time": "2022-11-30T06:49:54.188Z"
   },
   {
    "duration": 719,
    "start_time": "2022-11-30T06:49:56.626Z"
   },
   {
    "duration": 408,
    "start_time": "2022-11-30T06:50:05.914Z"
   },
   {
    "duration": 13,
    "start_time": "2022-11-30T06:50:14.725Z"
   },
   {
    "duration": 1069,
    "start_time": "2022-11-30T06:50:18.568Z"
   },
   {
    "duration": 795,
    "start_time": "2022-11-30T06:50:36.134Z"
   },
   {
    "duration": 580,
    "start_time": "2022-11-30T06:50:39.169Z"
   },
   {
    "duration": 439,
    "start_time": "2022-11-30T06:50:49.830Z"
   },
   {
    "duration": 527,
    "start_time": "2022-11-30T06:50:53.167Z"
   },
   {
    "duration": 409,
    "start_time": "2022-11-30T06:51:14.612Z"
   },
   {
    "duration": 4,
    "start_time": "2022-11-30T06:51:19.191Z"
   },
   {
    "duration": 2895,
    "start_time": "2022-11-30T06:51:25.844Z"
   },
   {
    "duration": 2465,
    "start_time": "2022-11-30T06:51:30.664Z"
   },
   {
    "duration": 5378,
    "start_time": "2022-11-30T06:51:52.634Z"
   },
   {
    "duration": 640,
    "start_time": "2022-11-30T06:52:11.659Z"
   },
   {
    "duration": 6,
    "start_time": "2022-11-30T06:52:39.953Z"
   },
   {
    "duration": 1012,
    "start_time": "2022-11-30T06:52:58.607Z"
   },
   {
    "duration": 2,
    "start_time": "2022-11-30T06:53:05.364Z"
   },
   {
    "duration": 24,
    "start_time": "2022-11-30T06:53:14.792Z"
   },
   {
    "duration": 11,
    "start_time": "2022-11-30T06:53:18.318Z"
   },
   {
    "duration": 11,
    "start_time": "2022-11-30T06:53:26.271Z"
   },
   {
    "duration": 9,
    "start_time": "2022-11-30T06:53:26.990Z"
   },
   {
    "duration": 6,
    "start_time": "2022-11-30T06:53:32.426Z"
   },
   {
    "duration": 39,
    "start_time": "2022-11-30T06:53:58.240Z"
   },
   {
    "duration": 5,
    "start_time": "2022-11-30T06:54:14.831Z"
   },
   {
    "duration": 10,
    "start_time": "2022-11-30T06:54:37.715Z"
   },
   {
    "duration": 3,
    "start_time": "2022-11-30T06:54:58.625Z"
   },
   {
    "duration": 3,
    "start_time": "2022-11-30T06:55:11.875Z"
   },
   {
    "duration": 4,
    "start_time": "2022-11-30T06:55:47.126Z"
   },
   {
    "duration": 55071,
    "start_time": "2022-11-30T06:56:03.474Z"
   },
   {
    "duration": 4,
    "start_time": "2022-11-30T06:59:24.978Z"
   },
   {
    "duration": 43534,
    "start_time": "2022-11-30T06:59:28.064Z"
   },
   {
    "duration": 3,
    "start_time": "2022-11-30T07:01:46.755Z"
   },
   {
    "duration": 33503,
    "start_time": "2022-11-30T07:02:11.499Z"
   },
   {
    "duration": 4,
    "start_time": "2022-11-30T07:03:30.998Z"
   },
   {
    "duration": 12,
    "start_time": "2022-11-30T07:04:50.046Z"
   },
   {
    "duration": 1429,
    "start_time": "2022-11-30T07:04:59.768Z"
   },
   {
    "duration": 809,
    "start_time": "2022-11-30T07:05:30.913Z"
   },
   {
    "duration": 3,
    "start_time": "2022-11-30T07:05:44.925Z"
   },
   {
    "duration": 8,
    "start_time": "2022-11-30T07:06:54.018Z"
   },
   {
    "duration": 247,
    "start_time": "2022-11-30T07:07:15.474Z"
   },
   {
    "duration": 9,
    "start_time": "2022-11-30T08:10:17.136Z"
   },
   {
    "duration": 8,
    "start_time": "2022-11-30T08:10:26.091Z"
   },
   {
    "duration": 8,
    "start_time": "2022-11-30T08:12:31.291Z"
   },
   {
    "duration": 7,
    "start_time": "2022-11-30T08:15:52.378Z"
   },
   {
    "duration": 5,
    "start_time": "2022-11-30T08:15:54.617Z"
   },
   {
    "duration": 3,
    "start_time": "2022-11-30T08:15:59.916Z"
   },
   {
    "duration": 3,
    "start_time": "2022-11-30T08:16:21.593Z"
   },
   {
    "duration": 8,
    "start_time": "2022-11-30T08:32:56.105Z"
   },
   {
    "duration": 18,
    "start_time": "2022-11-30T08:32:56.115Z"
   },
   {
    "duration": 565,
    "start_time": "2022-11-30T08:32:56.135Z"
   },
   {
    "duration": 11,
    "start_time": "2022-11-30T08:32:56.702Z"
   },
   {
    "duration": 134,
    "start_time": "2022-11-30T08:32:56.715Z"
   },
   {
    "duration": 1264,
    "start_time": "2022-11-30T08:32:56.851Z"
   },
   {
    "duration": 5,
    "start_time": "2022-11-30T08:32:58.117Z"
   },
   {
    "duration": 3975,
    "start_time": "2022-11-30T08:32:58.123Z"
   },
   {
    "duration": 2,
    "start_time": "2022-11-30T08:33:02.100Z"
   },
   {
    "duration": 244,
    "start_time": "2022-11-30T08:33:02.105Z"
   },
   {
    "duration": 880,
    "start_time": "2022-11-30T08:33:02.350Z"
   },
   {
    "duration": 473,
    "start_time": "2022-11-30T08:33:03.231Z"
   },
   {
    "duration": 814,
    "start_time": "2022-11-30T08:33:03.705Z"
   },
   {
    "duration": 284,
    "start_time": "2022-11-30T08:33:04.521Z"
   },
   {
    "duration": 8,
    "start_time": "2022-11-30T08:33:04.806Z"
   },
   {
    "duration": 607,
    "start_time": "2022-11-30T08:33:04.816Z"
   },
   {
    "duration": 442,
    "start_time": "2022-11-30T08:33:05.425Z"
   },
   {
    "duration": 549,
    "start_time": "2022-11-30T08:33:05.868Z"
   },
   {
    "duration": 175,
    "start_time": "2022-11-30T08:33:06.419Z"
   },
   {
    "duration": 6,
    "start_time": "2022-11-30T08:33:06.597Z"
   },
   {
    "duration": 701,
    "start_time": "2022-11-30T08:33:06.604Z"
   },
   {
    "duration": 252,
    "start_time": "2022-11-30T08:33:07.306Z"
   },
   {
    "duration": 572,
    "start_time": "2022-11-30T08:33:07.559Z"
   },
   {
    "duration": 180,
    "start_time": "2022-11-30T08:33:08.133Z"
   },
   {
    "duration": 5,
    "start_time": "2022-11-30T08:33:08.315Z"
   },
   {
    "duration": 691,
    "start_time": "2022-11-30T08:33:08.322Z"
   },
   {
    "duration": 229,
    "start_time": "2022-11-30T08:33:09.015Z"
   },
   {
    "duration": 611,
    "start_time": "2022-11-30T08:33:09.247Z"
   },
   {
    "duration": 207,
    "start_time": "2022-11-30T08:33:09.860Z"
   },
   {
    "duration": 513,
    "start_time": "2022-11-30T08:33:10.069Z"
   },
   {
    "duration": 128,
    "start_time": "2022-11-30T08:33:10.584Z"
   },
   {
    "duration": 4,
    "start_time": "2022-11-30T08:33:10.714Z"
   },
   {
    "duration": 1833,
    "start_time": "2022-11-30T08:33:10.719Z"
   },
   {
    "duration": 1653,
    "start_time": "2022-11-30T08:33:12.554Z"
   },
   {
    "duration": 2,
    "start_time": "2022-11-30T08:33:14.209Z"
   },
   {
    "duration": 2893,
    "start_time": "2022-11-30T08:33:14.212Z"
   },
   {
    "duration": 845,
    "start_time": "2022-11-30T08:33:17.107Z"
   },
   {
    "duration": 5,
    "start_time": "2022-11-30T08:33:17.954Z"
   },
   {
    "duration": 16,
    "start_time": "2022-11-30T08:33:17.960Z"
   },
   {
    "duration": 27,
    "start_time": "2022-11-30T08:33:17.978Z"
   },
   {
    "duration": 436,
    "start_time": "2022-11-30T08:33:18.007Z"
   },
   {
    "duration": 3,
    "start_time": "2022-11-30T08:33:18.445Z"
   },
   {
    "duration": 38,
    "start_time": "2022-11-30T08:33:18.449Z"
   },
   {
    "duration": 28,
    "start_time": "2022-11-30T08:33:18.488Z"
   },
   {
    "duration": 20,
    "start_time": "2022-11-30T08:33:18.518Z"
   },
   {
    "duration": 35,
    "start_time": "2022-11-30T08:33:18.540Z"
   },
   {
    "duration": 30,
    "start_time": "2022-11-30T08:33:18.577Z"
   },
   {
    "duration": 6,
    "start_time": "2022-11-30T08:34:06.492Z"
   },
   {
    "duration": 8,
    "start_time": "2022-11-30T08:35:23.447Z"
   },
   {
    "duration": 32135,
    "start_time": "2022-11-30T08:35:41.108Z"
   },
   {
    "duration": 4,
    "start_time": "2022-11-30T08:41:53.877Z"
   },
   {
    "duration": 992,
    "start_time": "2022-11-30T08:42:00.519Z"
   },
   {
    "duration": 5,
    "start_time": "2022-11-30T08:42:08.241Z"
   },
   {
    "duration": 24,
    "start_time": "2022-11-30T08:44:36.598Z"
   },
   {
    "duration": 7989,
    "start_time": "2022-11-30T08:44:51.011Z"
   },
   {
    "duration": 13,
    "start_time": "2022-11-30T08:45:49.733Z"
   },
   {
    "duration": 28,
    "start_time": "2022-11-30T08:46:04.880Z"
   },
   {
    "duration": 4,
    "start_time": "2022-11-30T08:46:11.144Z"
   },
   {
    "duration": 26,
    "start_time": "2022-11-30T08:46:11.151Z"
   },
   {
    "duration": 0,
    "start_time": "2022-11-30T08:46:11.193Z"
   },
   {
    "duration": 0,
    "start_time": "2022-11-30T08:46:11.194Z"
   },
   {
    "duration": 0,
    "start_time": "2022-11-30T08:46:11.195Z"
   },
   {
    "duration": 0,
    "start_time": "2022-11-30T08:46:11.196Z"
   },
   {
    "duration": 0,
    "start_time": "2022-11-30T08:46:11.197Z"
   },
   {
    "duration": 0,
    "start_time": "2022-11-30T08:46:11.198Z"
   },
   {
    "duration": 0,
    "start_time": "2022-11-30T08:46:11.199Z"
   },
   {
    "duration": 0,
    "start_time": "2022-11-30T08:46:11.199Z"
   },
   {
    "duration": 0,
    "start_time": "2022-11-30T08:46:11.200Z"
   },
   {
    "duration": 0,
    "start_time": "2022-11-30T08:46:11.201Z"
   },
   {
    "duration": 0,
    "start_time": "2022-11-30T08:46:11.202Z"
   },
   {
    "duration": 0,
    "start_time": "2022-11-30T08:46:11.203Z"
   },
   {
    "duration": 0,
    "start_time": "2022-11-30T08:46:11.204Z"
   },
   {
    "duration": 0,
    "start_time": "2022-11-30T08:46:11.205Z"
   },
   {
    "duration": 0,
    "start_time": "2022-11-30T08:46:11.206Z"
   },
   {
    "duration": 0,
    "start_time": "2022-11-30T08:46:11.208Z"
   },
   {
    "duration": 0,
    "start_time": "2022-11-30T08:46:11.209Z"
   },
   {
    "duration": 0,
    "start_time": "2022-11-30T08:46:11.210Z"
   },
   {
    "duration": 0,
    "start_time": "2022-11-30T08:46:11.211Z"
   },
   {
    "duration": 0,
    "start_time": "2022-11-30T08:46:11.212Z"
   },
   {
    "duration": 0,
    "start_time": "2022-11-30T08:46:11.213Z"
   },
   {
    "duration": 0,
    "start_time": "2022-11-30T08:46:11.213Z"
   },
   {
    "duration": 0,
    "start_time": "2022-11-30T08:46:11.214Z"
   },
   {
    "duration": 0,
    "start_time": "2022-11-30T08:46:11.215Z"
   },
   {
    "duration": 0,
    "start_time": "2022-11-30T08:46:11.216Z"
   },
   {
    "duration": 0,
    "start_time": "2022-11-30T08:46:11.217Z"
   },
   {
    "duration": 0,
    "start_time": "2022-11-30T08:46:11.218Z"
   },
   {
    "duration": 18,
    "start_time": "2022-11-30T08:46:11.222Z"
   },
   {
    "duration": 0,
    "start_time": "2022-11-30T08:46:11.297Z"
   },
   {
    "duration": 0,
    "start_time": "2022-11-30T08:46:11.298Z"
   },
   {
    "duration": 0,
    "start_time": "2022-11-30T08:46:11.299Z"
   },
   {
    "duration": 0,
    "start_time": "2022-11-30T08:46:11.301Z"
   },
   {
    "duration": 0,
    "start_time": "2022-11-30T08:46:11.301Z"
   },
   {
    "duration": 0,
    "start_time": "2022-11-30T08:46:11.302Z"
   },
   {
    "duration": 0,
    "start_time": "2022-11-30T08:46:11.303Z"
   },
   {
    "duration": 0,
    "start_time": "2022-11-30T08:46:11.304Z"
   },
   {
    "duration": 0,
    "start_time": "2022-11-30T08:46:11.305Z"
   },
   {
    "duration": 0,
    "start_time": "2022-11-30T08:46:11.306Z"
   },
   {
    "duration": 0,
    "start_time": "2022-11-30T08:46:11.307Z"
   },
   {
    "duration": 0,
    "start_time": "2022-11-30T08:46:11.308Z"
   },
   {
    "duration": 0,
    "start_time": "2022-11-30T08:46:11.308Z"
   },
   {
    "duration": 0,
    "start_time": "2022-11-30T08:46:11.309Z"
   },
   {
    "duration": 0,
    "start_time": "2022-11-30T08:46:11.310Z"
   },
   {
    "duration": 0,
    "start_time": "2022-11-30T08:46:11.311Z"
   },
   {
    "duration": 0,
    "start_time": "2022-11-30T08:46:11.312Z"
   },
   {
    "duration": 0,
    "start_time": "2022-11-30T08:46:11.313Z"
   },
   {
    "duration": 0,
    "start_time": "2022-11-30T08:46:11.314Z"
   },
   {
    "duration": 0,
    "start_time": "2022-11-30T08:46:11.315Z"
   },
   {
    "duration": 0,
    "start_time": "2022-11-30T08:46:11.316Z"
   },
   {
    "duration": 1152,
    "start_time": "2022-11-30T08:47:00.004Z"
   },
   {
    "duration": 14638,
    "start_time": "2022-11-30T08:47:05.075Z"
   },
   {
    "duration": 5,
    "start_time": "2022-11-30T08:47:38.056Z"
   },
   {
    "duration": 7,
    "start_time": "2022-11-30T08:47:38.063Z"
   },
   {
    "duration": 7926,
    "start_time": "2022-11-30T08:47:38.072Z"
   },
   {
    "duration": 14,
    "start_time": "2022-11-30T08:47:46.000Z"
   },
   {
    "duration": 699,
    "start_time": "2022-11-30T08:47:46.016Z"
   },
   {
    "duration": 3985,
    "start_time": "2022-11-30T08:47:46.717Z"
   },
   {
    "duration": 5,
    "start_time": "2022-11-30T08:47:50.704Z"
   },
   {
    "duration": 5690,
    "start_time": "2022-11-30T08:47:50.710Z"
   },
   {
    "duration": 3,
    "start_time": "2022-11-30T08:47:56.402Z"
   },
   {
    "duration": 427,
    "start_time": "2022-11-30T08:47:56.408Z"
   },
   {
    "duration": 787,
    "start_time": "2022-11-30T08:47:56.836Z"
   },
   {
    "duration": 498,
    "start_time": "2022-11-30T08:47:57.624Z"
   },
   {
    "duration": 644,
    "start_time": "2022-11-30T08:47:58.124Z"
   },
   {
    "duration": 554,
    "start_time": "2022-11-30T08:47:58.770Z"
   },
   {
    "duration": 72,
    "start_time": "2022-11-30T08:47:59.326Z"
   },
   {
    "duration": 915,
    "start_time": "2022-11-30T08:47:59.400Z"
   },
   {
    "duration": 347,
    "start_time": "2022-11-30T08:48:00.317Z"
   },
   {
    "duration": 726,
    "start_time": "2022-11-30T08:48:00.666Z"
   },
   {
    "duration": 435,
    "start_time": "2022-11-30T08:48:01.394Z"
   },
   {
    "duration": 71,
    "start_time": "2022-11-30T08:48:01.831Z"
   },
   {
    "duration": 848,
    "start_time": "2022-11-30T08:48:01.903Z"
   },
   {
    "duration": 568,
    "start_time": "2022-11-30T08:48:02.753Z"
   },
   {
    "duration": 707,
    "start_time": "2022-11-30T08:48:03.323Z"
   },
   {
    "duration": 368,
    "start_time": "2022-11-30T08:48:04.031Z"
   },
   {
    "duration": 10,
    "start_time": "2022-11-30T08:48:04.401Z"
   },
   {
    "duration": 947,
    "start_time": "2022-11-30T08:48:04.412Z"
   },
   {
    "duration": 419,
    "start_time": "2022-11-30T08:48:05.360Z"
   },
   {
    "duration": 487,
    "start_time": "2022-11-30T08:48:05.784Z"
   },
   {
    "duration": 386,
    "start_time": "2022-11-30T08:48:06.273Z"
   },
   {
    "duration": 580,
    "start_time": "2022-11-30T08:48:06.661Z"
   },
   {
    "duration": 359,
    "start_time": "2022-11-30T08:48:07.243Z"
   },
   {
    "duration": 4,
    "start_time": "2022-11-30T08:48:07.603Z"
   },
   {
    "duration": 3041,
    "start_time": "2022-11-30T08:48:07.609Z"
   },
   {
    "duration": 2657,
    "start_time": "2022-11-30T08:48:10.652Z"
   },
   {
    "duration": 3,
    "start_time": "2022-11-30T08:48:13.311Z"
   },
   {
    "duration": 5605,
    "start_time": "2022-11-30T08:48:13.316Z"
   },
   {
    "duration": 792,
    "start_time": "2022-11-30T08:48:18.923Z"
   },
   {
    "duration": 5,
    "start_time": "2022-11-30T08:48:19.717Z"
   },
   {
    "duration": 20,
    "start_time": "2022-11-30T08:48:19.724Z"
   },
   {
    "duration": 11,
    "start_time": "2022-11-30T08:48:19.746Z"
   },
   {
    "duration": 1166,
    "start_time": "2022-11-30T08:48:19.758Z"
   },
   {
    "duration": 3,
    "start_time": "2022-11-30T08:48:20.926Z"
   },
   {
    "duration": 90,
    "start_time": "2022-11-30T08:48:20.930Z"
   },
   {
    "duration": 11,
    "start_time": "2022-11-30T08:48:21.021Z"
   },
   {
    "duration": 83,
    "start_time": "2022-11-30T08:48:21.033Z"
   },
   {
    "duration": 15,
    "start_time": "2022-11-30T08:48:21.117Z"
   },
   {
    "duration": 21,
    "start_time": "2022-11-30T08:48:21.133Z"
   },
   {
    "duration": 14,
    "start_time": "2022-11-30T08:48:21.156Z"
   },
   {
    "duration": 57737,
    "start_time": "2022-11-30T08:48:21.171Z"
   },
   {
    "duration": 4,
    "start_time": "2022-11-30T08:49:18.910Z"
   },
   {
    "duration": 1380,
    "start_time": "2022-11-30T08:49:26.451Z"
   },
   {
    "duration": 10,
    "start_time": "2022-11-30T08:49:35.395Z"
   },
   {
    "duration": 97,
    "start_time": "2022-11-30T08:49:42.683Z"
   },
   {
    "duration": 819,
    "start_time": "2022-11-30T08:49:55.809Z"
   },
   {
    "duration": 552,
    "start_time": "2022-11-30T08:50:48.951Z"
   },
   {
    "duration": 373,
    "start_time": "2022-11-30T08:51:31.968Z"
   },
   {
    "duration": 4,
    "start_time": "2022-11-30T08:52:29.876Z"
   },
   {
    "duration": 32057,
    "start_time": "2022-11-30T09:01:22.879Z"
   },
   {
    "duration": 41309,
    "start_time": "2022-11-30T09:02:34.909Z"
   },
   {
    "duration": 4,
    "start_time": "2022-11-30T09:03:50.855Z"
   },
   {
    "duration": 307,
    "start_time": "2022-11-30T09:04:56.213Z"
   },
   {
    "duration": 287,
    "start_time": "2022-11-30T09:05:31.942Z"
   },
   {
    "duration": 88,
    "start_time": "2022-11-30T09:05:47.878Z"
   },
   {
    "duration": 387,
    "start_time": "2022-11-30T09:05:51.787Z"
   },
   {
    "duration": 202,
    "start_time": "2022-11-30T09:06:03.349Z"
   },
   {
    "duration": 9,
    "start_time": "2022-11-30T09:06:18.712Z"
   },
   {
    "duration": 4,
    "start_time": "2022-11-30T09:07:29.298Z"
   },
   {
    "duration": 4,
    "start_time": "2022-11-30T09:07:49.679Z"
   },
   {
    "duration": 27217,
    "start_time": "2022-11-30T09:10:55.947Z"
   },
   {
    "duration": 24543,
    "start_time": "2022-11-30T09:11:55.568Z"
   },
   {
    "duration": 26149,
    "start_time": "2022-11-30T09:14:49.939Z"
   },
   {
    "duration": 8,
    "start_time": "2022-11-30T09:16:28.641Z"
   },
   {
    "duration": 5,
    "start_time": "2022-11-30T09:16:45.115Z"
   },
   {
    "duration": 313,
    "start_time": "2022-11-30T09:17:18.594Z"
   },
   {
    "duration": 245,
    "start_time": "2022-11-30T09:17:30.379Z"
   },
   {
    "duration": 3,
    "start_time": "2022-11-30T09:17:48.139Z"
   },
   {
    "duration": 4,
    "start_time": "2022-11-30T09:18:04.245Z"
   },
   {
    "duration": 4,
    "start_time": "2022-11-30T09:18:18.000Z"
   },
   {
    "duration": 26573,
    "start_time": "2022-11-30T09:19:19.251Z"
   },
   {
    "duration": 4,
    "start_time": "2022-11-30T09:19:55.115Z"
   },
   {
    "duration": 1386,
    "start_time": "2022-12-01T04:43:12.687Z"
   },
   {
    "duration": 15202,
    "start_time": "2022-12-01T04:43:14.074Z"
   },
   {
    "duration": 8761,
    "start_time": "2022-12-01T04:43:29.278Z"
   },
   {
    "duration": 15,
    "start_time": "2022-12-01T04:43:38.041Z"
   },
   {
    "duration": 808,
    "start_time": "2022-12-01T04:43:38.059Z"
   },
   {
    "duration": 4815,
    "start_time": "2022-12-01T04:43:38.936Z"
   },
   {
    "duration": 6606,
    "start_time": "2022-12-01T04:43:43.753Z"
   },
   {
    "duration": 3,
    "start_time": "2022-12-01T04:43:50.361Z"
   },
   {
    "duration": 741,
    "start_time": "2022-12-01T04:44:29.329Z"
   },
   {
    "duration": 637,
    "start_time": "2022-12-01T04:50:47.771Z"
   },
   {
    "duration": 931,
    "start_time": "2022-12-01T04:51:23.135Z"
   },
   {
    "duration": 54,
    "start_time": "2022-12-01T04:52:39.048Z"
   },
   {
    "duration": 657,
    "start_time": "2022-12-01T04:52:43.049Z"
   },
   {
    "duration": 24,
    "start_time": "2022-12-01T04:53:28.976Z"
   },
   {
    "duration": 30,
    "start_time": "2022-12-01T04:57:27.144Z"
   },
   {
    "duration": 40,
    "start_time": "2022-12-01T04:57:50.742Z"
   },
   {
    "duration": 786,
    "start_time": "2022-12-01T04:59:08.369Z"
   },
   {
    "duration": 251,
    "start_time": "2022-12-01T04:59:17.097Z"
   },
   {
    "duration": 316,
    "start_time": "2022-12-01T04:59:43.632Z"
   },
   {
    "duration": 314,
    "start_time": "2022-12-01T05:01:00.544Z"
   },
   {
    "duration": 8,
    "start_time": "2022-12-01T05:01:30.678Z"
   },
   {
    "duration": 362,
    "start_time": "2022-12-01T05:01:36.274Z"
   },
   {
    "duration": 276,
    "start_time": "2022-12-01T05:01:43.574Z"
   },
   {
    "duration": 255,
    "start_time": "2022-12-01T05:02:04.410Z"
   },
   {
    "duration": 9,
    "start_time": "2022-12-01T05:05:17.174Z"
   },
   {
    "duration": 9,
    "start_time": "2022-12-01T05:05:33.092Z"
   },
   {
    "duration": 9,
    "start_time": "2022-12-01T05:05:47.734Z"
   },
   {
    "duration": 8,
    "start_time": "2022-12-01T05:06:48.484Z"
   },
   {
    "duration": 205,
    "start_time": "2022-12-01T05:09:46.736Z"
   },
   {
    "duration": 135,
    "start_time": "2022-12-01T05:10:02.328Z"
   },
   {
    "duration": 12,
    "start_time": "2022-12-01T05:10:48.187Z"
   },
   {
    "duration": 8,
    "start_time": "2022-12-01T05:12:02.090Z"
   },
   {
    "duration": 12,
    "start_time": "2022-12-01T05:12:53.401Z"
   },
   {
    "duration": 231,
    "start_time": "2022-12-01T05:12:58.913Z"
   },
   {
    "duration": 184,
    "start_time": "2022-12-01T05:13:07.788Z"
   },
   {
    "duration": 1007,
    "start_time": "2022-12-01T05:14:10.861Z"
   },
   {
    "duration": 872,
    "start_time": "2022-12-01T05:54:49.012Z"
   },
   {
    "duration": 996,
    "start_time": "2022-12-01T05:55:08.115Z"
   },
   {
    "duration": 323,
    "start_time": "2022-12-01T05:59:03.632Z"
   },
   {
    "duration": 328,
    "start_time": "2022-12-01T05:59:36.827Z"
   },
   {
    "duration": 28,
    "start_time": "2022-12-01T06:00:05.022Z"
   },
   {
    "duration": 43,
    "start_time": "2022-12-01T06:00:17.418Z"
   },
   {
    "duration": 257,
    "start_time": "2022-12-01T06:02:08.590Z"
   },
   {
    "duration": 388,
    "start_time": "2022-12-01T06:02:17.454Z"
   },
   {
    "duration": 192,
    "start_time": "2022-12-01T06:02:39.178Z"
   },
   {
    "duration": 163,
    "start_time": "2022-12-01T06:02:43.711Z"
   },
   {
    "duration": 8,
    "start_time": "2022-12-01T06:02:56.455Z"
   },
   {
    "duration": 782,
    "start_time": "2022-12-01T06:03:09.467Z"
   },
   {
    "duration": 275,
    "start_time": "2022-12-01T06:03:48.410Z"
   },
   {
    "duration": 600,
    "start_time": "2022-12-01T06:04:07.908Z"
   },
   {
    "duration": 6,
    "start_time": "2022-12-01T06:07:38.652Z"
   },
   {
    "duration": 38,
    "start_time": "2022-12-01T06:07:38.660Z"
   },
   {
    "duration": 538,
    "start_time": "2022-12-01T06:07:38.699Z"
   },
   {
    "duration": 5,
    "start_time": "2022-12-01T06:07:39.240Z"
   },
   {
    "duration": 194,
    "start_time": "2022-12-01T06:07:39.246Z"
   },
   {
    "duration": 1230,
    "start_time": "2022-12-01T06:07:39.441Z"
   },
   {
    "duration": 2682,
    "start_time": "2022-12-01T06:07:40.674Z"
   },
   {
    "duration": 1930,
    "start_time": "2022-12-01T06:07:43.358Z"
   },
   {
    "duration": 5451,
    "start_time": "2022-12-01T06:07:45.290Z"
   },
   {
    "duration": 1033,
    "start_time": "2022-12-01T06:07:50.744Z"
   },
   {
    "duration": 9,
    "start_time": "2022-12-01T06:07:58.272Z"
   },
   {
    "duration": 3814,
    "start_time": "2022-12-01T06:09:14.128Z"
   },
   {
    "duration": 3,
    "start_time": "2022-12-01T06:10:09.103Z"
   },
   {
    "duration": 210,
    "start_time": "2022-12-01T06:10:12.346Z"
   },
   {
    "duration": 776,
    "start_time": "2022-12-01T06:10:18.461Z"
   },
   {
    "duration": 574,
    "start_time": "2022-12-01T06:10:26.511Z"
   },
   {
    "duration": 782,
    "start_time": "2022-12-01T06:10:32.463Z"
   },
   {
    "duration": 271,
    "start_time": "2022-12-01T06:10:42.970Z"
   },
   {
    "duration": 125,
    "start_time": "2022-12-01T06:10:48.248Z"
   },
   {
    "duration": 9,
    "start_time": "2022-12-01T06:10:53.927Z"
   },
   {
    "duration": 496,
    "start_time": "2022-12-01T06:10:58.270Z"
   },
   {
    "duration": 297,
    "start_time": "2022-12-01T06:11:53.465Z"
   },
   {
    "duration": 724,
    "start_time": "2022-12-01T06:12:12.454Z"
   },
   {
    "duration": 261,
    "start_time": "2022-12-01T06:13:07.788Z"
   },
   {
    "duration": 211,
    "start_time": "2022-12-01T06:13:34.261Z"
   },
   {
    "duration": 8,
    "start_time": "2022-12-01T06:13:44.978Z"
   },
   {
    "duration": 863,
    "start_time": "2022-12-01T06:13:58.791Z"
   },
   {
    "duration": 312,
    "start_time": "2022-12-01T06:14:32.846Z"
   },
   {
    "duration": 1307,
    "start_time": "2022-12-01T06:14:46.036Z"
   },
   {
    "duration": 249,
    "start_time": "2022-12-01T06:15:32.718Z"
   },
   {
    "duration": 13,
    "start_time": "2022-12-01T06:17:06.778Z"
   },
   {
    "duration": 165,
    "start_time": "2022-12-01T06:17:15.681Z"
   },
   {
    "duration": 9,
    "start_time": "2022-12-01T06:17:30.765Z"
   },
   {
    "duration": 485,
    "start_time": "2022-12-01T06:17:37.781Z"
   },
   {
    "duration": 472,
    "start_time": "2022-12-01T06:18:28.527Z"
   },
   {
    "duration": 5,
    "start_time": "2022-12-01T06:18:47.837Z"
   },
   {
    "duration": 11,
    "start_time": "2022-12-01T06:18:47.845Z"
   },
   {
    "duration": 331,
    "start_time": "2022-12-01T06:18:47.858Z"
   },
   {
    "duration": 4,
    "start_time": "2022-12-01T06:18:48.192Z"
   },
   {
    "duration": 123,
    "start_time": "2022-12-01T06:18:48.198Z"
   },
   {
    "duration": 1115,
    "start_time": "2022-12-01T06:18:48.323Z"
   },
   {
    "duration": 1917,
    "start_time": "2022-12-01T06:18:49.440Z"
   },
   {
    "duration": 1484,
    "start_time": "2022-12-01T06:18:51.359Z"
   },
   {
    "duration": 4297,
    "start_time": "2022-12-01T06:18:52.845Z"
   },
   {
    "duration": 1208,
    "start_time": "2022-12-01T06:18:57.146Z"
   },
   {
    "duration": 6,
    "start_time": "2022-12-01T06:18:58.356Z"
   },
   {
    "duration": 3017,
    "start_time": "2022-12-01T06:18:58.364Z"
   },
   {
    "duration": 3,
    "start_time": "2022-12-01T06:19:01.383Z"
   },
   {
    "duration": 257,
    "start_time": "2022-12-01T06:19:01.387Z"
   },
   {
    "duration": 981,
    "start_time": "2022-12-01T06:19:01.645Z"
   },
   {
    "duration": 527,
    "start_time": "2022-12-01T06:19:02.629Z"
   },
   {
    "duration": 855,
    "start_time": "2022-12-01T06:19:03.158Z"
   },
   {
    "duration": 169,
    "start_time": "2022-12-01T06:19:04.014Z"
   },
   {
    "duration": 133,
    "start_time": "2022-12-01T06:19:04.184Z"
   },
   {
    "duration": 21,
    "start_time": "2022-12-01T06:19:04.318Z"
   },
   {
    "duration": 511,
    "start_time": "2022-12-01T06:19:04.341Z"
   },
   {
    "duration": 201,
    "start_time": "2022-12-01T06:19:04.855Z"
   },
   {
    "duration": 657,
    "start_time": "2022-12-01T06:19:05.058Z"
   },
   {
    "duration": 188,
    "start_time": "2022-12-01T06:19:05.717Z"
   },
   {
    "duration": 189,
    "start_time": "2022-12-01T06:19:05.907Z"
   },
   {
    "duration": 6,
    "start_time": "2022-12-01T06:19:06.098Z"
   },
   {
    "duration": 711,
    "start_time": "2022-12-01T06:19:06.106Z"
   },
   {
    "duration": 244,
    "start_time": "2022-12-01T06:19:06.821Z"
   },
   {
    "duration": 502,
    "start_time": "2022-12-01T06:19:07.066Z"
   },
   {
    "duration": 211,
    "start_time": "2022-12-01T06:19:07.570Z"
   },
   {
    "duration": 172,
    "start_time": "2022-12-01T06:19:07.783Z"
   },
   {
    "duration": 7,
    "start_time": "2022-12-01T06:19:07.957Z"
   },
   {
    "duration": 515,
    "start_time": "2022-12-01T06:19:42.736Z"
   },
   {
    "duration": 278,
    "start_time": "2022-12-01T06:20:56.288Z"
   },
   {
    "duration": 650,
    "start_time": "2022-12-01T06:21:12.012Z"
   },
   {
    "duration": 199,
    "start_time": "2022-12-01T06:22:53.286Z"
   },
   {
    "duration": 238,
    "start_time": "2022-12-01T06:22:56.899Z"
   },
   {
    "duration": 223,
    "start_time": "2022-12-01T06:23:34.213Z"
   },
   {
    "duration": 7,
    "start_time": "2022-12-01T06:23:52.108Z"
   },
   {
    "duration": 697,
    "start_time": "2022-12-01T06:24:03.013Z"
   },
   {
    "duration": 5,
    "start_time": "2022-12-01T06:24:51.627Z"
   },
   {
    "duration": 913,
    "start_time": "2022-12-01T06:26:51.242Z"
   },
   {
    "duration": 3,
    "start_time": "2022-12-01T06:26:55.698Z"
   },
   {
    "duration": 35,
    "start_time": "2022-12-01T06:27:05.234Z"
   },
   {
    "duration": 14,
    "start_time": "2022-12-01T06:27:07.529Z"
   },
   {
    "duration": 14,
    "start_time": "2022-12-01T06:27:39.261Z"
   },
   {
    "duration": 11,
    "start_time": "2022-12-01T06:27:40.046Z"
   },
   {
    "duration": 9,
    "start_time": "2022-12-01T06:27:43.535Z"
   },
   {
    "duration": 6,
    "start_time": "2022-12-01T06:31:14.964Z"
   },
   {
    "duration": 5,
    "start_time": "2022-12-01T06:31:28.468Z"
   },
   {
    "duration": 64,
    "start_time": "2022-12-01T06:31:41.864Z"
   },
   {
    "duration": 47,
    "start_time": "2022-12-01T06:32:58.121Z"
   },
   {
    "duration": 6,
    "start_time": "2022-12-01T06:33:05.092Z"
   },
   {
    "duration": 16,
    "start_time": "2022-12-01T06:33:11.594Z"
   },
   {
    "duration": 5,
    "start_time": "2022-12-01T06:33:27.655Z"
   },
   {
    "duration": 44193,
    "start_time": "2022-12-01T06:33:29.998Z"
   },
   {
    "duration": 4,
    "start_time": "2022-12-01T06:35:03.722Z"
   },
   {
    "duration": 372,
    "start_time": "2022-12-01T06:35:50.192Z"
   },
   {
    "duration": 428,
    "start_time": "2022-12-01T06:36:09.127Z"
   },
   {
    "duration": 932,
    "start_time": "2022-12-01T06:38:08.766Z"
   },
   {
    "duration": 4,
    "start_time": "2022-12-01T06:38:13.565Z"
   },
   {
    "duration": 4,
    "start_time": "2022-12-01T06:38:22.983Z"
   },
   {
    "duration": 4,
    "start_time": "2022-12-01T06:38:27.216Z"
   },
   {
    "duration": 1361,
    "start_time": "2022-12-01T06:38:57.435Z"
   },
   {
    "duration": 5,
    "start_time": "2022-12-01T06:38:58.799Z"
   },
   {
    "duration": 645,
    "start_time": "2022-12-01T06:39:06.908Z"
   },
   {
    "duration": 3,
    "start_time": "2022-12-01T06:39:07.555Z"
   },
   {
    "duration": 4,
    "start_time": "2022-12-01T06:39:08.692Z"
   },
   {
    "duration": 4,
    "start_time": "2022-12-01T06:39:09.315Z"
   },
   {
    "duration": 33905,
    "start_time": "2022-12-01T06:40:12.968Z"
   },
   {
    "duration": 4,
    "start_time": "2022-12-01T06:41:12.021Z"
   },
   {
    "duration": 302,
    "start_time": "2022-12-01T06:41:25.157Z"
   },
   {
    "duration": 284,
    "start_time": "2022-12-01T06:41:36.670Z"
   },
   {
    "duration": 1011,
    "start_time": "2022-12-01T06:42:22.278Z"
   },
   {
    "duration": 4,
    "start_time": "2022-12-01T06:42:24.314Z"
   },
   {
    "duration": 4,
    "start_time": "2022-12-01T06:42:30.014Z"
   },
   {
    "duration": 3,
    "start_time": "2022-12-01T06:42:31.703Z"
   },
   {
    "duration": 5,
    "start_time": "2022-12-01T06:43:14.829Z"
   },
   {
    "duration": 9,
    "start_time": "2022-12-01T06:44:01.677Z"
   },
   {
    "duration": 35192,
    "start_time": "2022-12-01T06:44:05.158Z"
   },
   {
    "duration": 4,
    "start_time": "2022-12-01T06:44:44.425Z"
   },
   {
    "duration": 457,
    "start_time": "2022-12-01T06:44:53.499Z"
   },
   {
    "duration": 399,
    "start_time": "2022-12-01T06:44:57.854Z"
   },
   {
    "duration": 646,
    "start_time": "2022-12-01T06:45:01.929Z"
   },
   {
    "duration": 4,
    "start_time": "2022-12-01T06:45:04.603Z"
   },
   {
    "duration": 4,
    "start_time": "2022-12-01T06:45:07.491Z"
   },
   {
    "duration": 3,
    "start_time": "2022-12-01T06:45:08.938Z"
   },
   {
    "duration": 1304,
    "start_time": "2022-12-01T06:49:39.172Z"
   },
   {
    "duration": 16101,
    "start_time": "2022-12-01T06:49:40.478Z"
   },
   {
    "duration": 8941,
    "start_time": "2022-12-01T06:49:56.636Z"
   },
   {
    "duration": 16,
    "start_time": "2022-12-01T06:50:05.637Z"
   },
   {
    "duration": 696,
    "start_time": "2022-12-01T06:50:05.654Z"
   },
   {
    "duration": 4526,
    "start_time": "2022-12-01T06:50:06.352Z"
   },
   {
    "duration": 4502,
    "start_time": "2022-12-01T06:50:10.936Z"
   },
   {
    "duration": 3302,
    "start_time": "2022-12-01T06:50:15.440Z"
   },
   {
    "duration": 6405,
    "start_time": "2022-12-01T06:50:18.744Z"
   },
   {
    "duration": 1333,
    "start_time": "2022-12-01T06:50:25.153Z"
   },
   {
    "duration": 7,
    "start_time": "2022-12-01T06:50:26.536Z"
   },
   {
    "duration": 3971,
    "start_time": "2022-12-01T06:50:26.545Z"
   },
   {
    "duration": 3,
    "start_time": "2022-12-01T06:50:30.518Z"
   },
   {
    "duration": 365,
    "start_time": "2022-12-01T06:50:30.523Z"
   },
   {
    "duration": 874,
    "start_time": "2022-12-01T06:50:30.889Z"
   },
   {
    "duration": 521,
    "start_time": "2022-12-01T06:50:31.764Z"
   },
   {
    "duration": 1132,
    "start_time": "2022-12-01T06:50:32.287Z"
   },
   {
    "duration": 533,
    "start_time": "2022-12-01T06:50:33.421Z"
   },
   {
    "duration": 307,
    "start_time": "2022-12-01T06:50:33.956Z"
   },
   {
    "duration": 3,
    "start_time": "2022-12-01T06:50:34.265Z"
   },
   {
    "duration": 17,
    "start_time": "2022-12-01T06:50:34.270Z"
   },
   {
    "duration": 742,
    "start_time": "2022-12-01T06:50:34.336Z"
   },
   {
    "duration": 397,
    "start_time": "2022-12-01T06:50:35.080Z"
   },
   {
    "duration": 745,
    "start_time": "2022-12-01T06:50:35.478Z"
   },
   {
    "duration": 338,
    "start_time": "2022-12-01T06:50:36.225Z"
   },
   {
    "duration": 336,
    "start_time": "2022-12-01T06:50:36.565Z"
   },
   {
    "duration": 35,
    "start_time": "2022-12-01T06:50:36.903Z"
   },
   {
    "duration": 560,
    "start_time": "2022-12-01T06:50:36.943Z"
   },
   {
    "duration": 281,
    "start_time": "2022-12-01T06:50:37.505Z"
   },
   {
    "duration": 672,
    "start_time": "2022-12-01T06:50:37.836Z"
   },
   {
    "duration": 247,
    "start_time": "2022-12-01T06:50:38.510Z"
   },
   {
    "duration": 375,
    "start_time": "2022-12-01T06:50:38.760Z"
   },
   {
    "duration": 9,
    "start_time": "2022-12-01T06:50:39.138Z"
   },
   {
    "duration": 599,
    "start_time": "2022-12-01T06:50:39.150Z"
   },
   {
    "duration": 425,
    "start_time": "2022-12-01T06:50:39.751Z"
   },
   {
    "duration": 663,
    "start_time": "2022-12-01T06:50:40.236Z"
   },
   {
    "duration": 283,
    "start_time": "2022-12-01T06:50:40.900Z"
   },
   {
    "duration": 405,
    "start_time": "2022-12-01T06:50:41.236Z"
   },
   {
    "duration": 9,
    "start_time": "2022-12-01T06:50:41.644Z"
   },
   {
    "duration": 792,
    "start_time": "2022-12-01T06:50:41.655Z"
   },
   {
    "duration": 5,
    "start_time": "2022-12-01T06:50:42.449Z"
   },
   {
    "duration": 1311,
    "start_time": "2022-12-01T06:50:42.455Z"
   },
   {
    "duration": 68,
    "start_time": "2022-12-01T06:50:43.768Z"
   },
   {
    "duration": 32,
    "start_time": "2022-12-01T06:50:43.838Z"
   },
   {
    "duration": 70,
    "start_time": "2022-12-01T06:50:43.873Z"
   },
   {
    "duration": 11,
    "start_time": "2022-12-01T06:50:43.946Z"
   },
   {
    "duration": 9,
    "start_time": "2022-12-01T06:50:43.960Z"
   },
   {
    "duration": 68,
    "start_time": "2022-12-01T06:50:43.971Z"
   },
   {
    "duration": 5,
    "start_time": "2022-12-01T06:50:44.041Z"
   },
   {
    "duration": 62208,
    "start_time": "2022-12-01T06:50:44.048Z"
   },
   {
    "duration": 6,
    "start_time": "2022-12-01T06:51:46.258Z"
   },
   {
    "duration": 502,
    "start_time": "2022-12-01T06:51:46.267Z"
   },
   {
    "duration": 479,
    "start_time": "2022-12-01T06:51:46.773Z"
   },
   {
    "duration": 1138,
    "start_time": "2022-12-01T06:51:47.255Z"
   },
   {
    "duration": 4,
    "start_time": "2022-12-01T06:51:48.395Z"
   },
   {
    "duration": 39,
    "start_time": "2022-12-01T06:51:48.400Z"
   },
   {
    "duration": 32,
    "start_time": "2022-12-01T06:51:48.441Z"
   },
   {
    "duration": 36700,
    "start_time": "2022-12-01T06:51:48.475Z"
   },
   {
    "duration": 6,
    "start_time": "2022-12-01T06:52:25.177Z"
   },
   {
    "duration": 304,
    "start_time": "2022-12-01T06:52:25.184Z"
   },
   {
    "duration": 459,
    "start_time": "2022-12-01T06:52:25.491Z"
   },
   {
    "duration": 963,
    "start_time": "2022-12-01T06:52:25.952Z"
   },
   {
    "duration": 4,
    "start_time": "2022-12-01T06:52:26.917Z"
   },
   {
    "duration": 10,
    "start_time": "2022-12-01T06:52:26.922Z"
   },
   {
    "duration": 8,
    "start_time": "2022-12-01T06:52:26.934Z"
   },
   {
    "duration": 628,
    "start_time": "2022-12-01T06:52:26.944Z"
   },
   {
    "duration": 1386,
    "start_time": "2022-12-01T06:56:36.120Z"
   },
   {
    "duration": 16164,
    "start_time": "2022-12-01T06:56:37.508Z"
   },
   {
    "duration": 9779,
    "start_time": "2022-12-01T06:56:53.674Z"
   },
   {
    "duration": 19,
    "start_time": "2022-12-01T06:57:03.455Z"
   },
   {
    "duration": 874,
    "start_time": "2022-12-01T06:57:03.476Z"
   },
   {
    "duration": 4306,
    "start_time": "2022-12-01T06:57:04.352Z"
   },
   {
    "duration": 4604,
    "start_time": "2022-12-01T06:57:08.660Z"
   },
   {
    "duration": 3310,
    "start_time": "2022-12-01T06:57:13.265Z"
   },
   {
    "duration": 6623,
    "start_time": "2022-12-01T06:57:16.635Z"
   },
   {
    "duration": 1527,
    "start_time": "2022-12-01T06:57:23.261Z"
   },
   {
    "duration": 10,
    "start_time": "2022-12-01T06:57:24.790Z"
   },
   {
    "duration": 3825,
    "start_time": "2022-12-01T06:57:24.836Z"
   },
   {
    "duration": 3,
    "start_time": "2022-12-01T06:57:28.663Z"
   },
   {
    "duration": 569,
    "start_time": "2022-12-01T06:57:28.668Z"
   },
   {
    "duration": 999,
    "start_time": "2022-12-01T06:57:29.239Z"
   },
   {
    "duration": 938,
    "start_time": "2022-12-01T06:57:30.240Z"
   },
   {
    "duration": 938,
    "start_time": "2022-12-01T06:57:31.234Z"
   },
   {
    "duration": 498,
    "start_time": "2022-12-01T06:57:32.173Z"
   },
   {
    "duration": 363,
    "start_time": "2022-12-01T06:57:32.683Z"
   },
   {
    "duration": 13,
    "start_time": "2022-12-01T06:57:33.049Z"
   },
   {
    "duration": 72,
    "start_time": "2022-12-01T06:57:33.064Z"
   },
   {
    "duration": 1201,
    "start_time": "2022-12-01T06:57:33.138Z"
   },
   {
    "duration": 423,
    "start_time": "2022-12-01T06:57:34.341Z"
   },
   {
    "duration": 815,
    "start_time": "2022-12-01T06:57:34.766Z"
   },
   {
    "duration": 459,
    "start_time": "2022-12-01T06:57:35.583Z"
   },
   {
    "duration": 327,
    "start_time": "2022-12-01T06:57:36.044Z"
   },
   {
    "duration": 3,
    "start_time": "2022-12-01T06:57:36.373Z"
   },
   {
    "duration": 59,
    "start_time": "2022-12-01T06:57:36.380Z"
   },
   {
    "duration": 875,
    "start_time": "2022-12-01T06:57:36.440Z"
   },
   {
    "duration": 360,
    "start_time": "2022-12-01T06:57:37.317Z"
   },
   {
    "duration": 756,
    "start_time": "2022-12-01T06:57:37.679Z"
   },
   {
    "duration": 310,
    "start_time": "2022-12-01T06:57:38.437Z"
   },
   {
    "duration": 320,
    "start_time": "2022-12-01T06:57:38.748Z"
   },
   {
    "duration": 10,
    "start_time": "2022-12-01T06:57:39.069Z"
   },
   {
    "duration": 668,
    "start_time": "2022-12-01T06:57:39.081Z"
   },
   {
    "duration": 498,
    "start_time": "2022-12-01T06:57:39.751Z"
   },
   {
    "duration": 749,
    "start_time": "2022-12-01T06:57:40.251Z"
   },
   {
    "duration": 350,
    "start_time": "2022-12-01T06:57:41.001Z"
   },
   {
    "duration": 293,
    "start_time": "2022-12-01T06:57:41.353Z"
   },
   {
    "duration": 8,
    "start_time": "2022-12-01T06:57:41.648Z"
   },
   {
    "duration": 850,
    "start_time": "2022-12-01T06:57:41.658Z"
   },
   {
    "duration": 5,
    "start_time": "2022-12-01T06:57:42.510Z"
   },
   {
    "duration": 1223,
    "start_time": "2022-12-01T06:57:42.536Z"
   },
   {
    "duration": 4,
    "start_time": "2022-12-01T06:57:43.761Z"
   },
   {
    "duration": 93,
    "start_time": "2022-12-01T06:57:43.767Z"
   },
   {
    "duration": 22,
    "start_time": "2022-12-01T06:57:43.862Z"
   },
   {
    "duration": 20,
    "start_time": "2022-12-01T06:57:43.886Z"
   },
   {
    "duration": 60,
    "start_time": "2022-12-01T06:57:43.908Z"
   },
   {
    "duration": 30,
    "start_time": "2022-12-01T06:57:43.970Z"
   },
   {
    "duration": 36,
    "start_time": "2022-12-01T06:57:44.003Z"
   },
   {
    "duration": 45296,
    "start_time": "2022-12-01T06:57:44.040Z"
   },
   {
    "duration": 0,
    "start_time": "2022-12-01T06:58:29.340Z"
   },
   {
    "duration": 0,
    "start_time": "2022-12-01T06:58:29.341Z"
   },
   {
    "duration": 0,
    "start_time": "2022-12-01T06:58:29.343Z"
   },
   {
    "duration": 0,
    "start_time": "2022-12-01T06:58:29.344Z"
   },
   {
    "duration": 0,
    "start_time": "2022-12-01T06:58:29.347Z"
   },
   {
    "duration": 0,
    "start_time": "2022-12-01T06:58:29.349Z"
   },
   {
    "duration": 0,
    "start_time": "2022-12-01T06:58:29.351Z"
   },
   {
    "duration": 0,
    "start_time": "2022-12-01T06:58:29.352Z"
   },
   {
    "duration": 0,
    "start_time": "2022-12-01T06:58:29.355Z"
   },
   {
    "duration": 1,
    "start_time": "2022-12-01T06:58:29.357Z"
   },
   {
    "duration": 0,
    "start_time": "2022-12-01T06:58:29.360Z"
   },
   {
    "duration": 0,
    "start_time": "2022-12-01T06:58:29.361Z"
   },
   {
    "duration": 0,
    "start_time": "2022-12-01T06:58:29.362Z"
   },
   {
    "duration": 0,
    "start_time": "2022-12-01T06:58:29.363Z"
   },
   {
    "duration": 0,
    "start_time": "2022-12-01T06:58:29.435Z"
   },
   {
    "duration": 0,
    "start_time": "2022-12-01T06:58:29.438Z"
   },
   {
    "duration": 6,
    "start_time": "2022-12-01T07:03:44.991Z"
   },
   {
    "duration": 23,
    "start_time": "2022-12-01T07:03:44.999Z"
   },
   {
    "duration": 424,
    "start_time": "2022-12-01T07:03:45.024Z"
   },
   {
    "duration": 8,
    "start_time": "2022-12-01T07:03:45.451Z"
   },
   {
    "duration": 278,
    "start_time": "2022-12-01T07:03:45.461Z"
   },
   {
    "duration": 1311,
    "start_time": "2022-12-01T07:03:45.741Z"
   },
   {
    "duration": 2191,
    "start_time": "2022-12-01T07:03:47.054Z"
   },
   {
    "duration": 1595,
    "start_time": "2022-12-01T07:03:49.248Z"
   },
   {
    "duration": 3789,
    "start_time": "2022-12-01T07:03:50.847Z"
   },
   {
    "duration": 778,
    "start_time": "2022-12-01T07:03:54.637Z"
   },
   {
    "duration": 5,
    "start_time": "2022-12-01T07:03:55.417Z"
   },
   {
    "duration": 3454,
    "start_time": "2022-12-01T07:03:55.424Z"
   },
   {
    "duration": 2,
    "start_time": "2022-12-01T07:03:58.881Z"
   },
   {
    "duration": 203,
    "start_time": "2022-12-01T07:03:58.885Z"
   },
   {
    "duration": 707,
    "start_time": "2022-12-01T07:03:59.090Z"
   },
   {
    "duration": 469,
    "start_time": "2022-12-01T07:03:59.798Z"
   },
   {
    "duration": 745,
    "start_time": "2022-12-01T07:04:00.269Z"
   },
   {
    "duration": 235,
    "start_time": "2022-12-01T07:04:01.016Z"
   },
   {
    "duration": 252,
    "start_time": "2022-12-01T07:04:01.253Z"
   },
   {
    "duration": 30,
    "start_time": "2022-12-01T07:04:01.507Z"
   },
   {
    "duration": 3,
    "start_time": "2022-12-01T07:04:01.538Z"
   },
   {
    "duration": 601,
    "start_time": "2022-12-01T07:04:01.543Z"
   },
   {
    "duration": 222,
    "start_time": "2022-12-01T07:04:02.146Z"
   },
   {
    "duration": 834,
    "start_time": "2022-12-01T07:04:02.372Z"
   },
   {
    "duration": 248,
    "start_time": "2022-12-01T07:04:03.208Z"
   },
   {
    "duration": 184,
    "start_time": "2022-12-01T07:04:03.458Z"
   },
   {
    "duration": 5,
    "start_time": "2022-12-01T07:04:03.644Z"
   },
   {
    "duration": 34,
    "start_time": "2022-12-01T07:04:03.651Z"
   },
   {
    "duration": 594,
    "start_time": "2022-12-01T07:04:03.687Z"
   },
   {
    "duration": 219,
    "start_time": "2022-12-01T07:04:04.283Z"
   },
   {
    "duration": 572,
    "start_time": "2022-12-01T07:04:04.504Z"
   },
   {
    "duration": 269,
    "start_time": "2022-12-01T07:04:05.078Z"
   },
   {
    "duration": 274,
    "start_time": "2022-12-01T07:04:05.349Z"
   },
   {
    "duration": 6,
    "start_time": "2022-12-01T07:04:05.625Z"
   },
   {
    "duration": 675,
    "start_time": "2022-12-01T07:04:05.633Z"
   },
   {
    "duration": 246,
    "start_time": "2022-12-01T07:04:06.310Z"
   },
   {
    "duration": 564,
    "start_time": "2022-12-01T07:04:06.558Z"
   },
   {
    "duration": 328,
    "start_time": "2022-12-01T07:04:07.124Z"
   },
   {
    "duration": 215,
    "start_time": "2022-12-01T07:04:07.454Z"
   },
   {
    "duration": 6,
    "start_time": "2022-12-01T07:04:07.671Z"
   },
   {
    "duration": 612,
    "start_time": "2022-12-01T07:04:07.679Z"
   },
   {
    "duration": 5,
    "start_time": "2022-12-01T07:04:08.293Z"
   },
   {
    "duration": 935,
    "start_time": "2022-12-01T07:04:08.300Z"
   },
   {
    "duration": 3,
    "start_time": "2022-12-01T07:04:09.238Z"
   },
   {
    "duration": 11,
    "start_time": "2022-12-01T07:04:09.243Z"
   },
   {
    "duration": 21,
    "start_time": "2022-12-01T07:04:09.256Z"
   },
   {
    "duration": 61,
    "start_time": "2022-12-01T07:04:09.279Z"
   },
   {
    "duration": 22,
    "start_time": "2022-12-01T07:04:09.342Z"
   },
   {
    "duration": 11,
    "start_time": "2022-12-01T07:04:09.366Z"
   },
   {
    "duration": 58,
    "start_time": "2022-12-01T07:04:09.379Z"
   },
   {
    "duration": 44605,
    "start_time": "2022-12-01T07:04:09.439Z"
   },
   {
    "duration": 5,
    "start_time": "2022-12-01T07:04:54.046Z"
   },
   {
    "duration": 518,
    "start_time": "2022-12-01T07:04:54.053Z"
   },
   {
    "duration": 573,
    "start_time": "2022-12-01T07:04:54.574Z"
   },
   {
    "duration": 992,
    "start_time": "2022-12-01T07:04:55.150Z"
   },
   {
    "duration": 4,
    "start_time": "2022-12-01T07:04:56.144Z"
   },
   {
    "duration": 12,
    "start_time": "2022-12-01T07:04:56.150Z"
   },
   {
    "duration": 11,
    "start_time": "2022-12-01T07:04:56.164Z"
   },
   {
    "duration": 34119,
    "start_time": "2022-12-01T07:04:56.236Z"
   },
   {
    "duration": 5,
    "start_time": "2022-12-01T07:05:30.360Z"
   },
   {
    "duration": 321,
    "start_time": "2022-12-01T07:05:30.366Z"
   },
   {
    "duration": 363,
    "start_time": "2022-12-01T07:05:30.690Z"
   },
   {
    "duration": 892,
    "start_time": "2022-12-01T07:05:31.055Z"
   },
   {
    "duration": 4,
    "start_time": "2022-12-01T07:05:31.949Z"
   },
   {
    "duration": 24,
    "start_time": "2022-12-01T07:05:31.954Z"
   },
   {
    "duration": 37,
    "start_time": "2022-12-01T07:05:31.979Z"
   },
   {
    "duration": 536,
    "start_time": "2022-12-01T07:05:32.018Z"
   },
   {
    "duration": 6,
    "start_time": "2022-12-01T07:08:26.053Z"
   },
   {
    "duration": 387,
    "start_time": "2022-12-01T07:08:26.061Z"
   },
   {
    "duration": 396,
    "start_time": "2022-12-01T07:08:26.450Z"
   },
   {
    "duration": 4,
    "start_time": "2022-12-01T07:08:26.849Z"
   },
   {
    "duration": 133,
    "start_time": "2022-12-01T07:08:26.856Z"
   },
   {
    "duration": 1170,
    "start_time": "2022-12-01T07:08:26.992Z"
   },
   {
    "duration": 1779,
    "start_time": "2022-12-01T07:08:28.164Z"
   },
   {
    "duration": 1198,
    "start_time": "2022-12-01T07:08:29.945Z"
   },
   {
    "duration": 2623,
    "start_time": "2022-12-01T07:08:31.150Z"
   },
   {
    "duration": 856,
    "start_time": "2022-12-01T07:08:33.774Z"
   },
   {
    "duration": 5,
    "start_time": "2022-12-01T07:08:34.635Z"
   },
   {
    "duration": 3205,
    "start_time": "2022-12-01T07:08:34.642Z"
   },
   {
    "duration": 2,
    "start_time": "2022-12-01T07:08:37.849Z"
   },
   {
    "duration": 166,
    "start_time": "2022-12-01T07:08:37.853Z"
   },
   {
    "duration": 733,
    "start_time": "2022-12-01T07:08:38.021Z"
   },
   {
    "duration": 442,
    "start_time": "2022-12-01T07:08:38.756Z"
   },
   {
    "duration": 903,
    "start_time": "2022-12-01T07:08:39.200Z"
   },
   {
    "duration": 163,
    "start_time": "2022-12-01T07:08:40.106Z"
   },
   {
    "duration": 195,
    "start_time": "2022-12-01T07:08:40.271Z"
   },
   {
    "duration": 5,
    "start_time": "2022-12-01T07:08:40.468Z"
   },
   {
    "duration": 3,
    "start_time": "2022-12-01T07:08:40.475Z"
   },
   {
    "duration": 772,
    "start_time": "2022-12-01T07:08:40.480Z"
   },
   {
    "duration": 301,
    "start_time": "2022-12-01T07:08:41.254Z"
   },
   {
    "duration": 611,
    "start_time": "2022-12-01T07:08:41.561Z"
   },
   {
    "duration": 186,
    "start_time": "2022-12-01T07:08:42.173Z"
   },
   {
    "duration": 202,
    "start_time": "2022-12-01T07:08:42.361Z"
   },
   {
    "duration": 3,
    "start_time": "2022-12-01T07:08:42.566Z"
   },
   {
    "duration": 33,
    "start_time": "2022-12-01T07:08:42.570Z"
   },
   {
    "duration": 564,
    "start_time": "2022-12-01T07:08:42.606Z"
   },
   {
    "duration": 302,
    "start_time": "2022-12-01T07:08:43.172Z"
   },
   {
    "duration": 701,
    "start_time": "2022-12-01T07:08:43.476Z"
   },
   {
    "duration": 191,
    "start_time": "2022-12-01T07:08:44.179Z"
   },
   {
    "duration": 216,
    "start_time": "2022-12-01T07:08:44.372Z"
   },
   {
    "duration": 8,
    "start_time": "2022-12-01T07:08:44.636Z"
   },
   {
    "duration": 465,
    "start_time": "2022-12-01T07:08:44.645Z"
   },
   {
    "duration": 342,
    "start_time": "2022-12-01T07:08:45.111Z"
   },
   {
    "duration": 592,
    "start_time": "2022-12-01T07:08:45.455Z"
   },
   {
    "duration": 192,
    "start_time": "2022-12-01T07:08:46.049Z"
   },
   {
    "duration": 127,
    "start_time": "2022-12-01T07:08:46.243Z"
   },
   {
    "duration": 5,
    "start_time": "2022-12-01T07:08:46.371Z"
   },
   {
    "duration": 534,
    "start_time": "2022-12-01T07:08:46.378Z"
   },
   {
    "duration": 4,
    "start_time": "2022-12-01T07:08:46.914Z"
   },
   {
    "duration": 478,
    "start_time": "2022-12-01T07:08:46.920Z"
   },
   {
    "duration": 4,
    "start_time": "2022-12-01T07:08:47.400Z"
   },
   {
    "duration": 19,
    "start_time": "2022-12-01T07:08:47.406Z"
   },
   {
    "duration": 9,
    "start_time": "2022-12-01T07:08:47.436Z"
   },
   {
    "duration": 12,
    "start_time": "2022-12-01T07:08:47.447Z"
   },
   {
    "duration": 18,
    "start_time": "2022-12-01T07:08:47.461Z"
   },
   {
    "duration": 8,
    "start_time": "2022-12-01T07:08:47.481Z"
   },
   {
    "duration": 8,
    "start_time": "2022-12-01T07:08:47.492Z"
   },
   {
    "duration": 21257,
    "start_time": "2022-12-01T07:08:47.501Z"
   },
   {
    "duration": 0,
    "start_time": "2022-12-01T07:09:08.761Z"
   },
   {
    "duration": 0,
    "start_time": "2022-12-01T07:09:08.763Z"
   },
   {
    "duration": 0,
    "start_time": "2022-12-01T07:09:08.766Z"
   },
   {
    "duration": 0,
    "start_time": "2022-12-01T07:09:08.768Z"
   },
   {
    "duration": 0,
    "start_time": "2022-12-01T07:09:08.770Z"
   },
   {
    "duration": 0,
    "start_time": "2022-12-01T07:09:08.771Z"
   },
   {
    "duration": 0,
    "start_time": "2022-12-01T07:09:08.774Z"
   },
   {
    "duration": 0,
    "start_time": "2022-12-01T07:09:08.776Z"
   },
   {
    "duration": 0,
    "start_time": "2022-12-01T07:09:08.778Z"
   },
   {
    "duration": 0,
    "start_time": "2022-12-01T07:09:08.780Z"
   },
   {
    "duration": 0,
    "start_time": "2022-12-01T07:09:08.782Z"
   },
   {
    "duration": 0,
    "start_time": "2022-12-01T07:09:08.784Z"
   },
   {
    "duration": 0,
    "start_time": "2022-12-01T07:09:08.837Z"
   },
   {
    "duration": 0,
    "start_time": "2022-12-01T07:09:08.839Z"
   },
   {
    "duration": 0,
    "start_time": "2022-12-01T07:09:08.841Z"
   },
   {
    "duration": 0,
    "start_time": "2022-12-01T07:09:08.843Z"
   },
   {
    "duration": 12,
    "start_time": "2022-12-01T07:12:40.842Z"
   },
   {
    "duration": 20,
    "start_time": "2022-12-01T07:12:40.856Z"
   },
   {
    "duration": 242,
    "start_time": "2022-12-01T07:12:40.878Z"
   },
   {
    "duration": 4,
    "start_time": "2022-12-01T07:12:41.122Z"
   },
   {
    "duration": 86,
    "start_time": "2022-12-01T07:12:41.129Z"
   },
   {
    "duration": 1251,
    "start_time": "2022-12-01T07:12:41.217Z"
   },
   {
    "duration": 1484,
    "start_time": "2022-12-01T07:12:42.471Z"
   },
   {
    "duration": 1584,
    "start_time": "2022-12-01T07:12:43.957Z"
   },
   {
    "duration": 3432,
    "start_time": "2022-12-01T07:12:45.543Z"
   },
   {
    "duration": 1581,
    "start_time": "2022-12-01T07:12:48.978Z"
   },
   {
    "duration": 5,
    "start_time": "2022-12-01T07:12:50.561Z"
   },
   {
    "duration": 3277,
    "start_time": "2022-12-01T07:12:50.567Z"
   },
   {
    "duration": 3,
    "start_time": "2022-12-01T07:12:53.846Z"
   },
   {
    "duration": 143,
    "start_time": "2022-12-01T07:12:53.851Z"
   },
   {
    "duration": 721,
    "start_time": "2022-12-01T07:12:53.996Z"
   },
   {
    "duration": 387,
    "start_time": "2022-12-01T07:12:54.718Z"
   },
   {
    "duration": 852,
    "start_time": "2022-12-01T07:12:55.107Z"
   },
   {
    "duration": 130,
    "start_time": "2022-12-01T07:12:55.960Z"
   },
   {
    "duration": 153,
    "start_time": "2022-12-01T07:12:56.093Z"
   },
   {
    "duration": 5,
    "start_time": "2022-12-01T07:12:56.248Z"
   },
   {
    "duration": 26,
    "start_time": "2022-12-01T07:12:56.254Z"
   },
   {
    "duration": 461,
    "start_time": "2022-12-01T07:12:56.282Z"
   },
   {
    "duration": 198,
    "start_time": "2022-12-01T07:12:56.746Z"
   },
   {
    "duration": 562,
    "start_time": "2022-12-01T07:12:56.946Z"
   },
   {
    "duration": 165,
    "start_time": "2022-12-01T07:12:57.510Z"
   },
   {
    "duration": 113,
    "start_time": "2022-12-01T07:12:57.677Z"
   },
   {
    "duration": 3,
    "start_time": "2022-12-01T07:12:57.792Z"
   },
   {
    "duration": 35,
    "start_time": "2022-12-01T07:12:57.799Z"
   },
   {
    "duration": 487,
    "start_time": "2022-12-01T07:12:57.836Z"
   },
   {
    "duration": 155,
    "start_time": "2022-12-01T07:12:58.325Z"
   },
   {
    "duration": 765,
    "start_time": "2022-12-01T07:12:58.482Z"
   },
   {
    "duration": 189,
    "start_time": "2022-12-01T07:12:59.248Z"
   },
   {
    "duration": 124,
    "start_time": "2022-12-01T07:12:59.439Z"
   },
   {
    "duration": 2,
    "start_time": "2022-12-01T07:12:59.565Z"
   },
   {
    "duration": 564,
    "start_time": "2022-12-01T07:12:59.569Z"
   },
   {
    "duration": 138,
    "start_time": "2022-12-01T07:13:00.135Z"
   },
   {
    "duration": 555,
    "start_time": "2022-12-01T07:13:00.275Z"
   },
   {
    "duration": 226,
    "start_time": "2022-12-01T07:13:00.832Z"
   },
   {
    "duration": 157,
    "start_time": "2022-12-01T07:13:01.059Z"
   },
   {
    "duration": 2,
    "start_time": "2022-12-01T07:13:01.217Z"
   },
   {
    "duration": 478,
    "start_time": "2022-12-01T07:13:01.221Z"
   },
   {
    "duration": 5,
    "start_time": "2022-12-01T07:13:01.701Z"
   },
   {
    "duration": 449,
    "start_time": "2022-12-01T07:13:01.708Z"
   },
   {
    "duration": 3,
    "start_time": "2022-12-01T07:13:02.160Z"
   },
   {
    "duration": 29,
    "start_time": "2022-12-01T07:13:02.165Z"
   },
   {
    "duration": 21,
    "start_time": "2022-12-01T07:13:02.196Z"
   },
   {
    "duration": 35,
    "start_time": "2022-12-01T07:13:02.219Z"
   },
   {
    "duration": 21,
    "start_time": "2022-12-01T07:13:02.257Z"
   },
   {
    "duration": 31,
    "start_time": "2022-12-01T07:13:02.280Z"
   },
   {
    "duration": 29,
    "start_time": "2022-12-01T07:13:02.313Z"
   },
   {
    "duration": 34506,
    "start_time": "2022-12-01T07:13:02.344Z"
   },
   {
    "duration": 4,
    "start_time": "2022-12-01T07:13:36.852Z"
   },
   {
    "duration": 408,
    "start_time": "2022-12-01T07:13:36.858Z"
   },
   {
    "duration": 475,
    "start_time": "2022-12-01T07:13:37.268Z"
   },
   {
    "duration": 963,
    "start_time": "2022-12-01T07:13:37.745Z"
   },
   {
    "duration": 4,
    "start_time": "2022-12-01T07:13:38.734Z"
   },
   {
    "duration": 10,
    "start_time": "2022-12-01T07:13:38.740Z"
   },
   {
    "duration": 12,
    "start_time": "2022-12-01T07:13:38.752Z"
   },
   {
    "duration": 30178,
    "start_time": "2022-12-01T07:13:38.766Z"
   },
   {
    "duration": 5,
    "start_time": "2022-12-01T07:14:08.946Z"
   },
   {
    "duration": 224,
    "start_time": "2022-12-01T07:14:08.953Z"
   },
   {
    "duration": 305,
    "start_time": "2022-12-01T07:14:09.179Z"
   },
   {
    "duration": 791,
    "start_time": "2022-12-01T07:14:09.486Z"
   },
   {
    "duration": 4,
    "start_time": "2022-12-01T07:14:10.278Z"
   },
   {
    "duration": 18,
    "start_time": "2022-12-01T07:14:10.284Z"
   },
   {
    "duration": 36,
    "start_time": "2022-12-01T07:14:10.303Z"
   },
   {
    "duration": 340,
    "start_time": "2022-12-01T07:14:10.341Z"
   },
   {
    "duration": 8,
    "start_time": "2022-12-01T07:14:52.005Z"
   },
   {
    "duration": 354,
    "start_time": "2022-12-01T07:14:52.016Z"
   },
   {
    "duration": 470,
    "start_time": "2022-12-01T07:14:52.372Z"
   },
   {
    "duration": 4,
    "start_time": "2022-12-01T07:14:52.844Z"
   },
   {
    "duration": 86,
    "start_time": "2022-12-01T07:14:52.851Z"
   },
   {
    "duration": 526,
    "start_time": "2022-12-01T07:14:52.939Z"
   },
   {
    "duration": 1236,
    "start_time": "2022-12-01T07:14:53.466Z"
   },
   {
    "duration": 1337,
    "start_time": "2022-12-01T07:14:54.704Z"
   },
   {
    "duration": 2492,
    "start_time": "2022-12-01T07:14:56.043Z"
   },
   {
    "duration": 930,
    "start_time": "2022-12-01T07:14:58.538Z"
   },
   {
    "duration": 5,
    "start_time": "2022-12-01T07:14:59.483Z"
   },
   {
    "duration": 2727,
    "start_time": "2022-12-01T07:14:59.490Z"
   },
   {
    "duration": 3,
    "start_time": "2022-12-01T07:15:02.218Z"
   },
   {
    "duration": 162,
    "start_time": "2022-12-01T07:15:02.224Z"
   },
   {
    "duration": 915,
    "start_time": "2022-12-01T07:15:02.388Z"
   },
   {
    "duration": 411,
    "start_time": "2022-12-01T07:15:03.305Z"
   },
   {
    "duration": 653,
    "start_time": "2022-12-01T07:15:03.718Z"
   },
   {
    "duration": 144,
    "start_time": "2022-12-01T07:15:04.373Z"
   },
   {
    "duration": 111,
    "start_time": "2022-12-01T07:15:04.519Z"
   },
   {
    "duration": 3,
    "start_time": "2022-12-01T07:15:04.632Z"
   },
   {
    "duration": 32,
    "start_time": "2022-12-01T07:15:04.637Z"
   },
   {
    "duration": 443,
    "start_time": "2022-12-01T07:15:04.671Z"
   },
   {
    "duration": 177,
    "start_time": "2022-12-01T07:15:05.116Z"
   },
   {
    "duration": 557,
    "start_time": "2022-12-01T07:15:05.295Z"
   },
   {
    "duration": 163,
    "start_time": "2022-12-01T07:15:05.854Z"
   },
   {
    "duration": 163,
    "start_time": "2022-12-01T07:15:06.019Z"
   },
   {
    "duration": 3,
    "start_time": "2022-12-01T07:15:06.184Z"
   },
   {
    "duration": 50,
    "start_time": "2022-12-01T07:15:06.188Z"
   },
   {
    "duration": 828,
    "start_time": "2022-12-01T07:15:06.240Z"
   },
   {
    "duration": 193,
    "start_time": "2022-12-01T07:15:07.070Z"
   },
   {
    "duration": 520,
    "start_time": "2022-12-01T07:15:07.266Z"
   },
   {
    "duration": 166,
    "start_time": "2022-12-01T07:15:07.788Z"
   },
   {
    "duration": 124,
    "start_time": "2022-12-01T07:15:07.956Z"
   },
   {
    "duration": 2,
    "start_time": "2022-12-01T07:15:08.082Z"
   },
   {
    "duration": 504,
    "start_time": "2022-12-01T07:15:08.086Z"
   },
   {
    "duration": 179,
    "start_time": "2022-12-01T07:15:08.592Z"
   },
   {
    "duration": 781,
    "start_time": "2022-12-01T07:15:08.774Z"
   },
   {
    "duration": 178,
    "start_time": "2022-12-01T07:15:09.557Z"
   },
   {
    "duration": 122,
    "start_time": "2022-12-01T07:15:09.737Z"
   },
   {
    "duration": 2,
    "start_time": "2022-12-01T07:15:09.861Z"
   },
   {
    "duration": 575,
    "start_time": "2022-12-01T07:15:09.867Z"
   },
   {
    "duration": 4,
    "start_time": "2022-12-01T07:15:10.444Z"
   },
   {
    "duration": 468,
    "start_time": "2022-12-01T07:15:10.450Z"
   },
   {
    "duration": 4,
    "start_time": "2022-12-01T07:15:10.935Z"
   },
   {
    "duration": 13,
    "start_time": "2022-12-01T07:15:10.941Z"
   },
   {
    "duration": 23,
    "start_time": "2022-12-01T07:15:10.956Z"
   },
   {
    "duration": 7,
    "start_time": "2022-12-01T07:15:10.981Z"
   },
   {
    "duration": 11,
    "start_time": "2022-12-01T07:15:10.990Z"
   },
   {
    "duration": 18,
    "start_time": "2022-12-01T07:15:11.003Z"
   },
   {
    "duration": 6,
    "start_time": "2022-12-01T07:15:11.023Z"
   },
   {
    "duration": 32381,
    "start_time": "2022-12-01T07:15:11.030Z"
   },
   {
    "duration": 24,
    "start_time": "2022-12-01T07:15:43.414Z"
   },
   {
    "duration": 326,
    "start_time": "2022-12-01T07:15:43.440Z"
   },
   {
    "duration": 475,
    "start_time": "2022-12-01T07:15:43.768Z"
   },
   {
    "duration": 1107,
    "start_time": "2022-12-01T07:15:44.246Z"
   },
   {
    "duration": 5,
    "start_time": "2022-12-01T07:15:45.355Z"
   },
   {
    "duration": 76,
    "start_time": "2022-12-01T07:15:45.362Z"
   },
   {
    "duration": 8,
    "start_time": "2022-12-01T07:15:45.441Z"
   },
   {
    "duration": 29611,
    "start_time": "2022-12-01T07:15:45.451Z"
   },
   {
    "duration": 4,
    "start_time": "2022-12-01T07:16:15.063Z"
   },
   {
    "duration": 274,
    "start_time": "2022-12-01T07:16:15.068Z"
   },
   {
    "duration": 259,
    "start_time": "2022-12-01T07:16:15.344Z"
   },
   {
    "duration": 746,
    "start_time": "2022-12-01T07:16:15.605Z"
   },
   {
    "duration": 4,
    "start_time": "2022-12-01T07:16:16.352Z"
   },
   {
    "duration": 16,
    "start_time": "2022-12-01T07:16:16.357Z"
   },
   {
    "duration": 8,
    "start_time": "2022-12-01T07:16:16.374Z"
   },
   {
    "duration": 484,
    "start_time": "2022-12-01T07:16:16.384Z"
   },
   {
    "duration": 16,
    "start_time": "2022-12-01T07:36:04.820Z"
   },
   {
    "duration": 6,
    "start_time": "2022-12-01T07:36:14.985Z"
   },
   {
    "duration": 367,
    "start_time": "2022-12-01T07:36:14.993Z"
   },
   {
    "duration": 372,
    "start_time": "2022-12-01T07:36:15.363Z"
   },
   {
    "duration": 4,
    "start_time": "2022-12-01T07:36:15.737Z"
   },
   {
    "duration": 96,
    "start_time": "2022-12-01T07:36:15.744Z"
   },
   {
    "duration": 630,
    "start_time": "2022-12-01T07:36:15.842Z"
   },
   {
    "duration": 4022,
    "start_time": "2022-12-01T07:36:16.474Z"
   },
   {
    "duration": 2,
    "start_time": "2022-12-01T07:36:20.498Z"
   },
   {
    "duration": 150,
    "start_time": "2022-12-01T07:36:20.502Z"
   },
   {
    "duration": 707,
    "start_time": "2022-12-01T07:36:20.654Z"
   },
   {
    "duration": 755,
    "start_time": "2022-12-01T07:36:21.363Z"
   },
   {
    "duration": 743,
    "start_time": "2022-12-01T07:36:22.120Z"
   },
   {
    "duration": 148,
    "start_time": "2022-12-01T07:36:22.867Z"
   },
   {
    "duration": 131,
    "start_time": "2022-12-01T07:36:23.017Z"
   },
   {
    "duration": 4,
    "start_time": "2022-12-01T07:36:23.149Z"
   },
   {
    "duration": 24,
    "start_time": "2022-12-01T07:36:23.154Z"
   },
   {
    "duration": 452,
    "start_time": "2022-12-01T07:36:23.179Z"
   },
   {
    "duration": 175,
    "start_time": "2022-12-01T07:36:31.708Z"
   },
   {
    "duration": 565,
    "start_time": "2022-12-01T07:36:47.242Z"
   },
   {
    "duration": 424,
    "start_time": "2022-12-01T07:37:33.479Z"
   },
   {
    "duration": 518,
    "start_time": "2022-12-01T07:37:47.613Z"
   },
   {
    "duration": 167,
    "start_time": "2022-12-01T07:38:43.312Z"
   },
   {
    "duration": 136,
    "start_time": "2022-12-01T07:39:10.092Z"
   },
   {
    "duration": 5,
    "start_time": "2022-12-01T07:39:31.843Z"
   },
   {
    "duration": 789,
    "start_time": "2022-12-01T07:39:45.122Z"
   },
   {
    "duration": 4,
    "start_time": "2022-12-01T07:40:51.230Z"
   },
   {
    "duration": 1258,
    "start_time": "2022-12-01T07:42:56.932Z"
   },
   {
    "duration": 15761,
    "start_time": "2022-12-01T07:42:58.192Z"
   },
   {
    "duration": 9516,
    "start_time": "2022-12-01T07:43:13.956Z"
   },
   {
    "duration": 16,
    "start_time": "2022-12-01T07:43:23.536Z"
   },
   {
    "duration": 791,
    "start_time": "2022-12-01T07:43:23.555Z"
   },
   {
    "duration": 4813,
    "start_time": "2022-12-01T07:43:24.348Z"
   },
   {
    "duration": 6078,
    "start_time": "2022-12-01T07:43:29.163Z"
   },
   {
    "duration": 3,
    "start_time": "2022-12-01T07:43:35.242Z"
   },
   {
    "duration": 805,
    "start_time": "2022-12-01T07:43:35.247Z"
   },
   {
    "duration": 1111,
    "start_time": "2022-12-01T07:43:36.054Z"
   },
   {
    "duration": 678,
    "start_time": "2022-12-01T07:43:37.167Z"
   },
   {
    "duration": 886,
    "start_time": "2022-12-01T07:43:37.847Z"
   },
   {
    "duration": 725,
    "start_time": "2022-12-01T07:43:38.736Z"
   },
   {
    "duration": 602,
    "start_time": "2022-12-01T07:43:39.465Z"
   },
   {
    "duration": 68,
    "start_time": "2022-12-01T07:43:40.076Z"
   },
   {
    "duration": 863,
    "start_time": "2022-12-01T07:43:40.147Z"
   },
   {
    "duration": 556,
    "start_time": "2022-12-01T07:43:41.012Z"
   },
   {
    "duration": 1287,
    "start_time": "2022-12-01T07:43:41.570Z"
   },
   {
    "duration": 620,
    "start_time": "2022-12-01T07:43:42.859Z"
   },
   {
    "duration": 938,
    "start_time": "2022-12-01T07:43:43.480Z"
   },
   {
    "duration": 531,
    "start_time": "2022-12-01T07:43:44.419Z"
   },
   {
    "duration": 323,
    "start_time": "2022-12-01T07:43:44.953Z"
   },
   {
    "duration": 57,
    "start_time": "2022-12-01T07:43:45.278Z"
   },
   {
    "duration": 1100,
    "start_time": "2022-12-01T07:43:45.338Z"
   },
   {
    "duration": 528,
    "start_time": "2022-12-01T07:43:46.440Z"
   },
   {
    "duration": 754,
    "start_time": "2022-12-01T07:43:46.970Z"
   },
   {
    "duration": 515,
    "start_time": "2022-12-01T07:43:47.725Z"
   },
   {
    "duration": 359,
    "start_time": "2022-12-01T07:43:48.242Z"
   },
   {
    "duration": 40,
    "start_time": "2022-12-01T07:43:48.603Z"
   },
   {
    "duration": 1036,
    "start_time": "2022-12-01T07:43:48.646Z"
   },
   {
    "duration": 475,
    "start_time": "2022-12-01T07:43:49.684Z"
   },
   {
    "duration": 703,
    "start_time": "2022-12-01T07:43:50.161Z"
   },
   {
    "duration": 478,
    "start_time": "2022-12-01T07:43:50.866Z"
   },
   {
    "duration": 399,
    "start_time": "2022-12-01T07:43:51.346Z"
   },
   {
    "duration": 11,
    "start_time": "2022-12-01T07:43:51.746Z"
   },
   {
    "duration": 927,
    "start_time": "2022-12-01T07:43:51.759Z"
   },
   {
    "duration": 547,
    "start_time": "2022-12-01T07:43:52.689Z"
   },
   {
    "duration": 625,
    "start_time": "2022-12-01T07:43:53.237Z"
   },
   {
    "duration": 386,
    "start_time": "2022-12-01T07:43:53.864Z"
   },
   {
    "duration": 300,
    "start_time": "2022-12-01T07:43:54.252Z"
   },
   {
    "duration": 8,
    "start_time": "2022-12-01T07:43:54.556Z"
   },
   {
    "duration": 663,
    "start_time": "2022-12-01T07:43:54.567Z"
   },
   {
    "duration": 4,
    "start_time": "2022-12-01T07:43:55.232Z"
   },
   {
    "duration": 3632,
    "start_time": "2022-12-01T07:43:55.238Z"
   },
   {
    "duration": 2973,
    "start_time": "2022-12-01T07:43:58.872Z"
   },
   {
    "duration": 5609,
    "start_time": "2022-12-01T07:44:01.847Z"
   },
   {
    "duration": 1495,
    "start_time": "2022-12-01T07:44:07.458Z"
   },
   {
    "duration": 7,
    "start_time": "2022-12-01T07:44:08.955Z"
   },
   {
    "duration": 972,
    "start_time": "2022-12-01T07:44:08.964Z"
   },
   {
    "duration": 3,
    "start_time": "2022-12-01T07:44:09.938Z"
   },
   {
    "duration": 31,
    "start_time": "2022-12-01T07:44:09.943Z"
   },
   {
    "duration": 15,
    "start_time": "2022-12-01T07:44:10.034Z"
   },
   {
    "duration": 14,
    "start_time": "2022-12-01T07:44:10.051Z"
   },
   {
    "duration": 76,
    "start_time": "2022-12-01T07:44:10.067Z"
   },
   {
    "duration": 8,
    "start_time": "2022-12-01T07:44:10.145Z"
   },
   {
    "duration": 9,
    "start_time": "2022-12-01T07:44:10.156Z"
   },
   {
    "duration": 71079,
    "start_time": "2022-12-01T07:44:10.167Z"
   },
   {
    "duration": 5,
    "start_time": "2022-12-01T07:45:21.248Z"
   },
   {
    "duration": 599,
    "start_time": "2022-12-01T07:45:21.255Z"
   },
   {
    "duration": 514,
    "start_time": "2022-12-01T07:45:21.855Z"
   },
   {
    "duration": 1502,
    "start_time": "2022-12-01T07:45:22.370Z"
   },
   {
    "duration": 63,
    "start_time": "2022-12-01T07:45:23.874Z"
   },
   {
    "duration": 14,
    "start_time": "2022-12-01T07:45:23.939Z"
   },
   {
    "duration": 8,
    "start_time": "2022-12-01T07:45:23.955Z"
   },
   {
    "duration": 42530,
    "start_time": "2022-12-01T07:45:23.965Z"
   },
   {
    "duration": 5,
    "start_time": "2022-12-01T07:46:06.497Z"
   },
   {
    "duration": 350,
    "start_time": "2022-12-01T07:46:06.504Z"
   },
   {
    "duration": 397,
    "start_time": "2022-12-01T07:46:06.856Z"
   },
   {
    "duration": 1156,
    "start_time": "2022-12-01T07:46:07.255Z"
   },
   {
    "duration": 3,
    "start_time": "2022-12-01T07:46:08.413Z"
   },
   {
    "duration": 18,
    "start_time": "2022-12-01T07:46:08.418Z"
   },
   {
    "duration": 30,
    "start_time": "2022-12-01T07:46:08.438Z"
   },
   {
    "duration": 608,
    "start_time": "2022-12-01T07:46:08.470Z"
   },
   {
    "duration": 7,
    "start_time": "2022-12-01T07:52:25.731Z"
   },
   {
    "duration": 128,
    "start_time": "2022-12-01T07:53:04.751Z"
   },
   {
    "duration": 5,
    "start_time": "2022-12-01T07:53:27.018Z"
   },
   {
    "duration": 436,
    "start_time": "2022-12-01T07:53:27.025Z"
   },
   {
    "duration": 573,
    "start_time": "2022-12-01T07:53:27.463Z"
   },
   {
    "duration": 8,
    "start_time": "2022-12-01T07:53:28.039Z"
   },
   {
    "duration": 186,
    "start_time": "2022-12-01T07:53:28.050Z"
   },
   {
    "duration": 1618,
    "start_time": "2022-12-01T07:53:28.238Z"
   },
   {
    "duration": 4309,
    "start_time": "2022-12-01T07:53:29.857Z"
   },
   {
    "duration": 3,
    "start_time": "2022-12-01T07:53:34.168Z"
   },
   {
    "duration": 317,
    "start_time": "2022-12-01T07:53:34.173Z"
   },
   {
    "duration": 885,
    "start_time": "2022-12-01T07:53:34.492Z"
   },
   {
    "duration": 478,
    "start_time": "2022-12-01T07:53:35.378Z"
   },
   {
    "duration": 805,
    "start_time": "2022-12-01T07:53:35.858Z"
   },
   {
    "duration": 282,
    "start_time": "2022-12-01T07:53:36.665Z"
   },
   {
    "duration": 247,
    "start_time": "2022-12-01T07:53:36.949Z"
   },
   {
    "duration": 5,
    "start_time": "2022-12-01T07:53:37.198Z"
   },
   {
    "duration": 487,
    "start_time": "2022-12-01T07:53:37.205Z"
   },
   {
    "duration": 201,
    "start_time": "2022-12-01T07:53:37.693Z"
   },
   {
    "duration": 687,
    "start_time": "2022-12-01T07:53:37.896Z"
   },
   {
    "duration": 963,
    "start_time": "2022-12-01T07:53:38.586Z"
   },
   {
    "duration": 631,
    "start_time": "2022-12-01T07:53:39.551Z"
   },
   {
    "duration": 259,
    "start_time": "2022-12-01T07:53:40.184Z"
   },
   {
    "duration": 220,
    "start_time": "2022-12-01T07:53:40.445Z"
   },
   {
    "duration": 4,
    "start_time": "2022-12-01T07:53:40.668Z"
   },
   {
    "duration": 534,
    "start_time": "2022-12-01T07:53:40.676Z"
   },
   {
    "duration": 280,
    "start_time": "2022-12-01T07:53:41.212Z"
   },
   {
    "duration": 546,
    "start_time": "2022-12-01T07:53:41.494Z"
   },
   {
    "duration": 303,
    "start_time": "2022-12-01T07:53:42.042Z"
   },
   {
    "duration": 266,
    "start_time": "2022-12-01T07:53:42.347Z"
   },
   {
    "duration": 21,
    "start_time": "2022-12-01T07:53:42.615Z"
   },
   {
    "duration": 697,
    "start_time": "2022-12-01T07:53:42.638Z"
   },
   {
    "duration": 309,
    "start_time": "2022-12-01T07:53:43.336Z"
   },
   {
    "duration": 676,
    "start_time": "2022-12-01T07:53:43.646Z"
   },
   {
    "duration": 174,
    "start_time": "2022-12-01T07:53:44.324Z"
   },
   {
    "duration": 178,
    "start_time": "2022-12-01T07:53:44.500Z"
   },
   {
    "duration": 5,
    "start_time": "2022-12-01T07:53:44.679Z"
   },
   {
    "duration": 673,
    "start_time": "2022-12-01T07:53:44.686Z"
   },
   {
    "duration": 242,
    "start_time": "2022-12-01T07:53:45.361Z"
   },
   {
    "duration": 589,
    "start_time": "2022-12-01T07:53:45.605Z"
   },
   {
    "duration": 267,
    "start_time": "2022-12-01T07:53:46.196Z"
   },
   {
    "duration": 196,
    "start_time": "2022-12-01T07:53:46.465Z"
   },
   {
    "duration": 5,
    "start_time": "2022-12-01T07:53:46.663Z"
   },
   {
    "duration": 715,
    "start_time": "2022-12-01T07:53:46.670Z"
   },
   {
    "duration": 4,
    "start_time": "2022-12-01T07:53:47.388Z"
   },
   {
    "duration": 2177,
    "start_time": "2022-12-01T07:53:47.394Z"
   },
   {
    "duration": 2227,
    "start_time": "2022-12-01T07:53:49.572Z"
   },
   {
    "duration": 3571,
    "start_time": "2022-12-01T07:53:51.801Z"
   },
   {
    "duration": 844,
    "start_time": "2022-12-01T07:53:55.373Z"
   },
   {
    "duration": 5,
    "start_time": "2022-12-01T07:53:56.219Z"
   },
   {
    "duration": 752,
    "start_time": "2022-12-01T07:53:56.236Z"
   },
   {
    "duration": 46,
    "start_time": "2022-12-01T07:53:56.990Z"
   },
   {
    "duration": 16,
    "start_time": "2022-12-01T07:53:57.038Z"
   },
   {
    "duration": 15,
    "start_time": "2022-12-01T07:53:57.056Z"
   },
   {
    "duration": 36,
    "start_time": "2022-12-01T07:53:57.073Z"
   },
   {
    "duration": 23,
    "start_time": "2022-12-01T07:53:57.112Z"
   },
   {
    "duration": 9,
    "start_time": "2022-12-01T07:53:57.137Z"
   },
   {
    "duration": 15,
    "start_time": "2022-12-01T07:53:57.148Z"
   },
   {
    "duration": 21,
    "start_time": "2022-12-01T07:53:57.166Z"
   },
   {
    "duration": 37851,
    "start_time": "2022-12-01T07:54:04.586Z"
   },
   {
    "duration": 5,
    "start_time": "2022-12-01T07:54:58.605Z"
   },
   {
    "duration": 35059,
    "start_time": "2022-12-01T07:55:34.208Z"
   },
   {
    "duration": 3,
    "start_time": "2022-12-01T07:58:33.269Z"
   },
   {
    "duration": 1273,
    "start_time": "2022-12-01T08:01:29.799Z"
   },
   {
    "duration": 15576,
    "start_time": "2022-12-01T08:01:31.074Z"
   },
   {
    "duration": 9693,
    "start_time": "2022-12-01T08:01:46.656Z"
   },
   {
    "duration": 17,
    "start_time": "2022-12-01T08:01:56.351Z"
   },
   {
    "duration": 786,
    "start_time": "2022-12-01T08:01:56.371Z"
   },
   {
    "duration": 4590,
    "start_time": "2022-12-01T08:01:57.159Z"
   },
   {
    "duration": 4786,
    "start_time": "2022-12-01T08:02:01.752Z"
   },
   {
    "duration": 3599,
    "start_time": "2022-12-01T08:02:06.540Z"
   },
   {
    "duration": 6215,
    "start_time": "2022-12-01T08:02:10.142Z"
   },
   {
    "duration": 1287,
    "start_time": "2022-12-01T08:02:16.359Z"
   },
   {
    "duration": 10,
    "start_time": "2022-12-01T08:02:17.648Z"
   },
   {
    "duration": 3741,
    "start_time": "2022-12-01T08:02:17.660Z"
   },
   {
    "duration": 2,
    "start_time": "2022-12-01T08:02:21.403Z"
   },
   {
    "duration": 373,
    "start_time": "2022-12-01T08:02:21.409Z"
   },
   {
    "duration": 1000,
    "start_time": "2022-12-01T08:02:21.784Z"
   },
   {
    "duration": 550,
    "start_time": "2022-12-01T08:02:22.786Z"
   },
   {
    "duration": 737,
    "start_time": "2022-12-01T08:02:23.338Z"
   },
   {
    "duration": 385,
    "start_time": "2022-12-01T08:02:24.077Z"
   },
   {
    "duration": 308,
    "start_time": "2022-12-01T08:02:24.465Z"
   },
   {
    "duration": 65,
    "start_time": "2022-12-01T08:02:24.775Z"
   },
   {
    "duration": 954,
    "start_time": "2022-12-01T08:02:24.842Z"
   },
   {
    "duration": 470,
    "start_time": "2022-12-01T08:02:25.797Z"
   },
   {
    "duration": 720,
    "start_time": "2022-12-01T08:02:26.268Z"
   },
   {
    "duration": 282,
    "start_time": "2022-12-01T08:02:26.990Z"
   },
   {
    "duration": 364,
    "start_time": "2022-12-01T08:02:27.273Z"
   },
   {
    "duration": 10,
    "start_time": "2022-12-01T08:02:27.639Z"
   },
   {
    "duration": 575,
    "start_time": "2022-12-01T08:02:27.651Z"
   },
   {
    "duration": 430,
    "start_time": "2022-12-01T08:02:28.228Z"
   },
   {
    "duration": 1043,
    "start_time": "2022-12-01T08:02:28.660Z"
   },
   {
    "duration": 272,
    "start_time": "2022-12-01T08:02:29.705Z"
   },
   {
    "duration": 360,
    "start_time": "2022-12-01T08:02:29.979Z"
   },
   {
    "duration": 11,
    "start_time": "2022-12-01T08:02:30.341Z"
   },
   {
    "duration": 905,
    "start_time": "2022-12-01T08:02:30.354Z"
   },
   {
    "duration": 510,
    "start_time": "2022-12-01T08:02:31.261Z"
   },
   {
    "duration": 669,
    "start_time": "2022-12-01T08:02:31.773Z"
   },
   {
    "duration": 336,
    "start_time": "2022-12-01T08:02:32.445Z"
   },
   {
    "duration": 322,
    "start_time": "2022-12-01T08:02:32.782Z"
   },
   {
    "duration": 9,
    "start_time": "2022-12-01T08:02:33.105Z"
   },
   {
    "duration": 714,
    "start_time": "2022-12-01T08:02:33.115Z"
   },
   {
    "duration": 5,
    "start_time": "2022-12-01T08:02:33.835Z"
   },
   {
    "duration": 1299,
    "start_time": "2022-12-01T08:02:33.845Z"
   },
   {
    "duration": 3,
    "start_time": "2022-12-01T08:02:35.146Z"
   },
   {
    "duration": 92,
    "start_time": "2022-12-01T08:02:35.151Z"
   },
   {
    "duration": 11,
    "start_time": "2022-12-01T08:02:35.245Z"
   },
   {
    "duration": 77,
    "start_time": "2022-12-01T08:02:35.258Z"
   },
   {
    "duration": 9,
    "start_time": "2022-12-01T08:02:35.338Z"
   },
   {
    "duration": 20,
    "start_time": "2022-12-01T08:02:35.349Z"
   },
   {
    "duration": 65,
    "start_time": "2022-12-01T08:02:35.371Z"
   },
   {
    "duration": 61759,
    "start_time": "2022-12-01T08:02:35.438Z"
   },
   {
    "duration": 443,
    "start_time": "2022-12-01T08:03:37.198Z"
   },
   {
    "duration": 510,
    "start_time": "2022-12-01T08:03:37.643Z"
   },
   {
    "duration": 1082,
    "start_time": "2022-12-01T08:03:38.155Z"
   },
   {
    "duration": 4,
    "start_time": "2022-12-01T08:03:39.239Z"
   },
   {
    "duration": 47,
    "start_time": "2022-12-01T08:03:39.246Z"
   },
   {
    "duration": 45,
    "start_time": "2022-12-01T08:03:39.295Z"
   },
   {
    "duration": 44248,
    "start_time": "2022-12-01T08:03:39.342Z"
   },
   {
    "duration": 304,
    "start_time": "2022-12-01T08:04:23.591Z"
   },
   {
    "duration": 346,
    "start_time": "2022-12-01T08:04:23.897Z"
   },
   {
    "duration": 923,
    "start_time": "2022-12-01T08:04:24.245Z"
   },
   {
    "duration": 4,
    "start_time": "2022-12-01T08:04:25.170Z"
   },
   {
    "duration": 15,
    "start_time": "2022-12-01T08:04:25.176Z"
   },
   {
    "duration": 46,
    "start_time": "2022-12-01T08:04:25.193Z"
   },
   {
    "duration": 321,
    "start_time": "2022-12-01T08:04:25.241Z"
   },
   {
    "duration": 112,
    "start_time": "2022-12-01T08:12:51.037Z"
   },
   {
    "duration": 12,
    "start_time": "2022-12-01T08:13:05.086Z"
   },
   {
    "duration": 8,
    "start_time": "2022-12-01T08:13:44.751Z"
   },
   {
    "duration": 11,
    "start_time": "2022-12-01T08:13:57.956Z"
   },
   {
    "duration": 89,
    "start_time": "2022-12-01T08:14:13.190Z"
   },
   {
    "duration": 5,
    "start_time": "2022-12-01T08:14:48.828Z"
   },
   {
    "duration": 427,
    "start_time": "2022-12-01T08:14:48.835Z"
   },
   {
    "duration": 687,
    "start_time": "2022-12-01T08:14:49.264Z"
   },
   {
    "duration": 4,
    "start_time": "2022-12-01T08:14:49.954Z"
   },
   {
    "duration": 214,
    "start_time": "2022-12-01T08:14:49.960Z"
   },
   {
    "duration": 1578,
    "start_time": "2022-12-01T08:14:50.177Z"
   },
   {
    "duration": 1738,
    "start_time": "2022-12-01T08:14:51.757Z"
   },
   {
    "duration": 1572,
    "start_time": "2022-12-01T08:14:53.497Z"
   },
   {
    "duration": 3165,
    "start_time": "2022-12-01T08:14:55.072Z"
   },
   {
    "duration": 896,
    "start_time": "2022-12-01T08:14:58.239Z"
   },
   {
    "duration": 6,
    "start_time": "2022-12-01T08:14:59.137Z"
   },
   {
    "duration": 3259,
    "start_time": "2022-12-01T08:14:59.145Z"
   },
   {
    "duration": 6,
    "start_time": "2022-12-01T08:15:02.407Z"
   },
   {
    "duration": 181,
    "start_time": "2022-12-01T08:15:02.415Z"
   },
   {
    "duration": 826,
    "start_time": "2022-12-01T08:15:02.598Z"
   },
   {
    "duration": 653,
    "start_time": "2022-12-01T08:15:03.426Z"
   },
   {
    "duration": 698,
    "start_time": "2022-12-01T08:15:04.080Z"
   },
   {
    "duration": 182,
    "start_time": "2022-12-01T08:15:04.780Z"
   },
   {
    "duration": 178,
    "start_time": "2022-12-01T08:15:04.964Z"
   },
   {
    "duration": 6,
    "start_time": "2022-12-01T08:15:05.145Z"
   },
   {
    "duration": 1066,
    "start_time": "2022-12-01T08:15:05.153Z"
   },
   {
    "duration": 239,
    "start_time": "2022-12-01T08:15:06.221Z"
   },
   {
    "duration": 580,
    "start_time": "2022-12-01T08:15:06.462Z"
   },
   {
    "duration": 205,
    "start_time": "2022-12-01T08:15:07.046Z"
   },
   {
    "duration": 499,
    "start_time": "2022-12-01T08:15:07.253Z"
   },
   {
    "duration": 8,
    "start_time": "2022-12-01T08:15:07.753Z"
   },
   {
    "duration": 508,
    "start_time": "2022-12-01T08:15:07.763Z"
   },
   {
    "duration": 298,
    "start_time": "2022-12-01T08:15:08.273Z"
   },
   {
    "duration": 721,
    "start_time": "2022-12-01T08:15:08.574Z"
   },
   {
    "duration": 241,
    "start_time": "2022-12-01T08:15:09.297Z"
   },
   {
    "duration": 201,
    "start_time": "2022-12-01T08:15:09.541Z"
   },
   {
    "duration": 5,
    "start_time": "2022-12-01T08:15:09.744Z"
   },
   {
    "duration": 589,
    "start_time": "2022-12-01T08:15:09.751Z"
   },
   {
    "duration": 233,
    "start_time": "2022-12-01T08:15:10.342Z"
   },
   {
    "duration": 722,
    "start_time": "2022-12-01T08:15:10.577Z"
   },
   {
    "duration": 200,
    "start_time": "2022-12-01T08:15:11.300Z"
   },
   {
    "duration": 297,
    "start_time": "2022-12-01T08:15:11.537Z"
   },
   {
    "duration": 7,
    "start_time": "2022-12-01T08:15:11.836Z"
   },
   {
    "duration": 866,
    "start_time": "2022-12-01T08:15:11.845Z"
   },
   {
    "duration": 5,
    "start_time": "2022-12-01T08:15:12.713Z"
   },
   {
    "duration": 524,
    "start_time": "2022-12-01T08:15:12.720Z"
   },
   {
    "duration": 3,
    "start_time": "2022-12-01T08:15:13.246Z"
   },
   {
    "duration": 19,
    "start_time": "2022-12-01T08:15:13.251Z"
   },
   {
    "duration": 8,
    "start_time": "2022-12-01T08:15:13.272Z"
   },
   {
    "duration": 15,
    "start_time": "2022-12-01T08:15:13.282Z"
   },
   {
    "duration": 15,
    "start_time": "2022-12-01T08:15:13.299Z"
   },
   {
    "duration": 24,
    "start_time": "2022-12-01T08:15:13.315Z"
   },
   {
    "duration": 15,
    "start_time": "2022-12-01T08:15:13.341Z"
   },
   {
    "duration": 37015,
    "start_time": "2022-12-01T08:15:13.358Z"
   },
   {
    "duration": 395,
    "start_time": "2022-12-01T08:15:50.375Z"
   },
   {
    "duration": 564,
    "start_time": "2022-12-01T08:15:50.772Z"
   },
   {
    "duration": 1077,
    "start_time": "2022-12-01T08:15:51.338Z"
   },
   {
    "duration": 4,
    "start_time": "2022-12-01T08:15:52.436Z"
   },
   {
    "duration": 27,
    "start_time": "2022-12-01T08:15:52.442Z"
   },
   {
    "duration": 67,
    "start_time": "2022-12-01T08:15:52.471Z"
   },
   {
    "duration": 320,
    "start_time": "2022-12-01T08:15:57.041Z"
   },
   {
    "duration": 30815,
    "start_time": "2022-12-01T08:16:18.651Z"
   },
   {
    "duration": 276,
    "start_time": "2022-12-01T08:18:45.215Z"
   },
   {
    "duration": 344,
    "start_time": "2022-12-01T08:18:59.497Z"
   },
   {
    "duration": 443,
    "start_time": "2022-12-01T08:19:10.327Z"
   },
   {
    "duration": 360,
    "start_time": "2022-12-01T08:21:44.318Z"
   },
   {
    "duration": 306,
    "start_time": "2022-12-01T08:21:54.166Z"
   },
   {
    "duration": 261,
    "start_time": "2022-12-01T08:26:01.983Z"
   },
   {
    "duration": 198,
    "start_time": "2022-12-01T08:26:10.005Z"
   },
   {
    "duration": 114,
    "start_time": "2022-12-01T17:48:07.284Z"
   },
   {
    "duration": 51,
    "start_time": "2022-12-01T17:49:14.026Z"
   }
  ],
  "colab": {
   "name": "PySparkSprint.ipynb",
   "provenance": []
  },
  "kernelspec": {
   "display_name": "Python 3 (ipykernel)",
   "language": "python",
   "name": "python3"
  },
  "language_info": {
   "codemirror_mode": {
    "name": "ipython",
    "version": 3
   },
   "file_extension": ".py",
   "mimetype": "text/x-python",
   "name": "python",
   "nbconvert_exporter": "python",
   "pygments_lexer": "ipython3",
   "version": "3.9.12"
  },
  "toc": {
   "base_numbering": 1,
   "nav_menu": {
    "height": "167px",
    "width": "327px"
   },
   "number_sections": true,
   "sideBar": true,
   "skip_h1_title": true,
   "title_cell": "Содержание",
   "title_sidebar": "Contents",
   "toc_cell": true,
   "toc_position": {
    "height": "calc(100% - 180px)",
    "left": "10px",
    "top": "150px",
    "width": "238.26px"
   },
   "toc_section_display": true,
   "toc_window_display": true
  }
 },
 "nbformat": 4,
 "nbformat_minor": 5
}
